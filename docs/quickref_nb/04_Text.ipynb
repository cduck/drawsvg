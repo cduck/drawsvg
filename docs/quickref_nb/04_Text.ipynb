{
 "cells": [
  {
   "cell_type": "markdown",
   "id": "southern-manchester",
   "metadata": {},
   "source": [
    "# 4. Text"
   ]
  },
  {
   "cell_type": "markdown",
   "id": "amended-macedonia",
   "metadata": {},
   "source": [
    "```\n",
    "dw.Text(text, fontSize, x=None, y=None, *, center=False,\n",
    "           line_height=1, line_offset=0, path=None, \n",
    "           start_offset=None, path_args=None, tspan_args=None, \n",
    "           cairo_fix=True, _skip_check=False, **kwargs)\n",
    "```"
   ]
  },
  {
   "cell_type": "code",
   "execution_count": 14,
   "id": "perfect-segment",
   "metadata": {},
   "outputs": [],
   "source": [
    "import drawsvg as dw"
   ]
  },
  {
   "cell_type": "markdown",
   "id": "following-jonathan",
   "metadata": {},
   "source": [
    "## Fill and Outline\n",
    "\n",
    "Default is black as fill colour and no outline."
   ]
  },
  {
   "cell_type": "code",
   "execution_count": 3,
   "id": "smaller-accordance",
   "metadata": {},
   "outputs": [
    {
     "data": {
      "image/svg+xml": [
       "<?xml version=\"1.0\" encoding=\"UTF-8\"?>\n",
       "<svg xmlns=\"http://www.w3.org/2000/svg\" xmlns:xlink=\"http://www.w3.org/1999/xlink\"\n",
       "    width=\"550\" height=\"370\" viewBox=\"0 0 550 370\">\n",
       "<defs>\n",
       "</defs>\n",
       "<path d=\"M20,0 V370 M10,60 H500 M10,120 H500 M10,180 H500 M10,240 H500 M10,300 H500 M10,360 H500\" stroke=\"gray\" />\n",
       "<text x=\"20\" y=\"60\" font-size=\"50\">Simplest Text</text>\n",
       "<text x=\"20\" y=\"120\" font-size=\"50\" stroke=\"black\">Outline / Filled</text>\n",
       "<text x=\"20\" y=\"180\" font-size=\"50\" stroke=\"black\" stroke-width=\"5\">Too big stroke</text>\n",
       "<text x=\"20\" y=\"240\" font-size=\"50\" stroke=\"black\" stroke-width=\"0.5\" fill=\"none\">Outlined only</text>\n",
       "<text x=\"20\" y=\"300\" font-size=\"50\" stroke=\"black\" fill=\"red\">Outlined and colored</text>\n",
       "<text x=\"20\" y=\"360\" font-size=\"50\" fill=\"blue\">Colored fill only</text>\n",
       "</svg>"
      ],
      "text/plain": [
       "<drawsvg.drawing.Drawing at 0x7f15cc3cca60>"
      ]
     },
     "execution_count": 3,
     "metadata": {},
     "output_type": "execute_result"
    }
   ],
   "source": [
    "d = dw.Drawing(550,370,id_prefix='textfill')\n",
    "# control lines\n",
    "l = dw.Path(stroke='gray')\n",
    "l.M(20,0).V(370)\n",
    "for i in range(1,7):\n",
    "    l.M(10,i*60).H(500)\n",
    "d.append(l)\n",
    "\n",
    "# default text, with outline, and outline only\n",
    "d.append(dw.Text('Simplest Text',x=20,y=60,font_size=50))\n",
    "d.append(dw.Text('Outline / Filled',x=20,y=120,font_size=50,stroke='black'))\n",
    "d.append(dw.Text('Too big stroke',x=20,y=180,font_size=50,stroke='black',stroke_width=5))\n",
    "d.append(dw.Text('Outlined only',x=20,y=240,font_size=50,stroke='black',stroke_width=0.5,fill='none'))\n",
    "d.append(dw.Text('Outlined and colored',x=20,y=300,font_size=50,stroke='black',fill='red'))\n",
    "d.append(dw.Text('Colored fill only',x=20,y=360,font_size=50,fill='blue'))\n",
    "#d.save_svg('04_fill.svg')\n",
    "d"
   ]
  },
  {
   "cell_type": "markdown",
   "id": "impressive-finance",
   "metadata": {},
   "source": [
    "## Weight, Style, Decoration, Spacing"
   ]
  },
  {
   "cell_type": "code",
   "execution_count": 4,
   "id": "minimal-pursuit",
   "metadata": {},
   "outputs": [
    {
     "data": {
      "image/svg+xml": [
       "<?xml version=\"1.0\" encoding=\"UTF-8\"?>\n",
       "<svg xmlns=\"http://www.w3.org/2000/svg\" xmlns:xlink=\"http://www.w3.org/1999/xlink\"\n",
       "    width=\"600\" height=\"200\" viewBox=\"0 0 600 200\">\n",
       "<defs>\n",
       "</defs>\n",
       "<text x=\"20\" y=\"35\" font-size=\"30\" font-weight=\"bold\">bold</text>\n",
       "<text x=\"20\" y=\"75\" font-size=\"30\" font-style=\"italic\">italic</text>\n",
       "<text x=\"20\" y=\"115\" font-size=\"30\" text-decoration=\"underline\">under</text>\n",
       "<text x=\"20\" y=\"155\" font-size=\"30\" text-decoration=\"overline\">over</text>\n",
       "<text x=\"20\" y=\"195\" font-size=\"30\" text-decoration=\"line-through\">through</text>\n",
       "<text x=\"200\" y=\"35\" font-size=\"30\">normal word space</text>\n",
       "<text x=\"200\" y=\"75\" font-size=\"30\" word-spacing=\"10\">more word space</text>\n",
       "<text x=\"200\" y=\"115\" font-size=\"30\" word-spacing=\"-5\">less word space</text>\n",
       "<text x=\"200\" y=\"155\" font-size=\"30\" letter-spacing=\"8\">wide letter space</text>\n",
       "<text x=\"200\" y=\"195\" font-size=\"30\" letter-spacing=\"-2\">narrow letter space</text>\n",
       "</svg>"
      ],
      "text/plain": [
       "<drawsvg.drawing.Drawing at 0x7f15cfd54670>"
      ]
     },
     "execution_count": 4,
     "metadata": {},
     "output_type": "execute_result"
    }
   ],
   "source": [
    "d = dw.Drawing(600,200,id_prefix='textweight')\n",
    "d.append(dw.Text('bold',font_size=30,x=20,y=35,font_weight='bold'))\n",
    "d.append(dw.Text('italic',font_size=30,x=20,y=75,font_style='italic'))\n",
    "d.append(dw.Text('under',font_size=30,x=20,y=115,text_decoration='underline'))\n",
    "d.append(dw.Text('over',font_size=30,x=20,y=155,text_decoration='overline'))\n",
    "d.append(dw.Text('through',font_size=30,x=20,y=195,text_decoration='line-through'))\n",
    "d.append(dw.Text('normal word space',font_size=30,x=200,y=35))\n",
    "d.append(dw.Text('more word space',font_size=30,x=200,y=75,word_spacing=10))\n",
    "d.append(dw.Text('less word space',font_size=30,x=200,y=115,word_spacing=-5))\n",
    "d.append(dw.Text('wide letter space',font_size=30,x=200,y=155,letter_spacing=8))\n",
    "d.append(dw.Text('narrow letter space',font_size=30,x=200,y=195,letter_spacing=-2))\n",
    "#d.save_svg('04_weight.svg')\n",
    "d"
   ]
  },
  {
   "cell_type": "markdown",
   "id": "viral-shakespeare",
   "metadata": {},
   "source": [
    "## Text Alignment\n",
    "\n",
    "Horizontal alignment (text_anchor) can be `start`, `middle` or `end`.\n",
    "\n",
    "Vertical alignment (dominant_baseline) can be `auto`, `middle` or `hanging` (and more, see\n",
    "[here](https://developer.mozilla.org/en-US/docs/Web/SVG/Attribute/dominant-baseline))."
   ]
  },
  {
   "cell_type": "code",
   "execution_count": 5,
   "id": "conceptual-valve",
   "metadata": {},
   "outputs": [
    {
     "data": {
      "image/svg+xml": [
       "<?xml version=\"1.0\" encoding=\"UTF-8\"?>\n",
       "<svg xmlns=\"http://www.w3.org/2000/svg\" xmlns:xlink=\"http://www.w3.org/1999/xlink\"\n",
       "    width=\"250\" height=\"120\" viewBox=\"0 0 250 120\">\n",
       "<defs>\n",
       "</defs>\n",
       "<path d=\"M75,100 L75,0\" stroke=\"gray\" />\n",
       "<path d=\"M140,30 L250,30\" stroke=\"gray\" />\n",
       "<path d=\"M140,60 L250,60\" stroke=\"gray\" />\n",
       "<path d=\"M140,90 L250,90\" stroke=\"gray\" />\n",
       "<text x=\"75\" y=\"30\" font-size=\"24\" text-anchor=\"start\">Start</text>\n",
       "<text x=\"75\" y=\"60\" font-size=\"24\" text-anchor=\"middle\">Middle</text>\n",
       "<text x=\"75\" y=\"90\" font-size=\"24\" text-anchor=\"end\">End</text>\n",
       "<text x=\"150\" y=\"30\" font-size=\"24\" dominant-baseline=\"bottom\">Auto</text>\n",
       "<text x=\"150\" y=\"60\" font-size=\"24\" dominant-baseline=\"middle\">Middle</text>\n",
       "<text x=\"150\" y=\"90\" font-size=\"24\" dominant-baseline=\"top\">Hanging</text>\n",
       "</svg>"
      ],
      "text/plain": [
       "<drawsvg.drawing.Drawing at 0x7f15cc459b80>"
      ]
     },
     "execution_count": 5,
     "metadata": {},
     "output_type": "execute_result"
    }
   ],
   "source": [
    "d = dw.Drawing(250,120,id_prefix='textalign')\n",
    "d.append(dw.Line(75,100,75,0,stroke='gray'))\n",
    "d.append(dw.Line(140,30,250,30,stroke='gray'))\n",
    "d.append(dw.Line(140,60,250,60,stroke='gray'))\n",
    "d.append(dw.Line(140,90,250,90,stroke='gray'))\n",
    "d.append(dw.Text('Start',24,75,30,text_anchor='start'))\n",
    "d.append(dw.Text('Middle',24,75,60,text_anchor='middle'))\n",
    "d.append(dw.Text('End',24,75,90,text_anchor='end'))\n",
    "d.append(dw.Text('Auto',24,150,30,dominant_baseline='bottom'))\n",
    "d.append(dw.Text('Middle',24,150,60,dominant_baseline='middle'))\n",
    "d.append(dw.Text('Hanging',24,150,90,dominant_baseline='top'))\n",
    "#d.save_svg('04_align.svg')\n",
    "d"
   ]
  },
  {
   "cell_type": "markdown",
   "id": "introductory-compatibility",
   "metadata": {},
   "source": [
    "## TSpan\n",
    "\n",
    "Continues a `Text` element."
   ]
  },
  {
   "cell_type": "code",
   "execution_count": 6,
   "id": "changed-wholesale",
   "metadata": {},
   "outputs": [
    {
     "data": {
      "image/svg+xml": [
       "<?xml version=\"1.0\" encoding=\"UTF-8\"?>\n",
       "<svg xmlns=\"http://www.w3.org/2000/svg\" xmlns:xlink=\"http://www.w3.org/1999/xlink\"\n",
       "    width=\"600\" height=\"50\" viewBox=\"0 0 600 50\">\n",
       "<defs>\n",
       "</defs>\n",
       "<text x=\"10\" y=\"40\" font-size=\"24\">Switch among <tspan font-style=\"italic\">italic</tspan><tspan>, normal, and </tspan><tspan font-weight=\"bold\">bold</tspan><tspan> text.</tspan></text>\n",
       "</svg>"
      ],
      "text/plain": [
       "<drawsvg.drawing.Drawing at 0x7f15cc3cc4f0>"
      ]
     },
     "execution_count": 6,
     "metadata": {},
     "output_type": "execute_result"
    }
   ],
   "source": [
    "d = dw.Drawing(600,50,id_prefix='texttspan')\n",
    "txt = dw.Text('Switch among ',24,10,40)\n",
    "txt.append(dw.TSpan('italic',font_style='italic'))\n",
    "txt.append(dw.TSpan(', normal, and '))\n",
    "txt.append(dw.TSpan('bold',font_weight='bold'))\n",
    "txt.append(dw.TSpan(' text.'))\n",
    "d.append(txt)\n",
    "#d.save_svg('04_tspan.svg')\n",
    "d"
   ]
  },
  {
   "cell_type": "code",
   "execution_count": 7,
   "id": "brazilian-pollution",
   "metadata": {},
   "outputs": [
    {
     "data": {
      "image/svg+xml": [
       "<?xml version=\"1.0\" encoding=\"UTF-8\"?>\n",
       "<svg xmlns=\"http://www.w3.org/2000/svg\" xmlns:xlink=\"http://www.w3.org/1999/xlink\"\n",
       "    width=\"300\" height=\"160\" viewBox=\"0 0 300 160\">\n",
       "<defs>\n",
       "</defs>\n",
       "<text x=\"10\" y=\"30\" font-size=\"24\">F<tspan dy=\"5\">a</tspan><tspan dy=\"31\" dx=\"21\">l</tspan><tspan dy=\"89\" dx=\"54\">l</tspan></text>\n",
       "</svg>"
      ],
      "text/plain": [
       "<drawsvg.drawing.Drawing at 0x7f15cc459580>"
      ]
     },
     "execution_count": 7,
     "metadata": {},
     "output_type": "execute_result"
    }
   ],
   "source": [
    "d = dw.Drawing(300,160,id_prefix='texttspan2')\n",
    "txt = dw.Text('F',24,10,30)\n",
    "txt.append(dw.TSpan('a',dy=5))\n",
    "txt.append(dw.TSpan('l',dy=31,dx=21))\n",
    "txt.append(dw.TSpan('l',dy=89,dx=54))\n",
    "d.append(txt)\n",
    "#d.save_svg('04_tspan2.svg')\n",
    "d"
   ]
  },
  {
   "cell_type": "markdown",
   "id": "pretty-spray",
   "metadata": {},
   "source": [
    "The same could be done without `tspan` in specifying a list for dx and dy."
   ]
  },
  {
   "cell_type": "code",
   "execution_count": 8,
   "id": "requested-success",
   "metadata": {},
   "outputs": [
    {
     "data": {
      "image/svg+xml": [
       "<?xml version=\"1.0\" encoding=\"UTF-8\"?>\n",
       "<svg xmlns=\"http://www.w3.org/2000/svg\" xmlns:xlink=\"http://www.w3.org/1999/xlink\"\n",
       "    width=\"300\" height=\"160\" viewBox=\"0 0 300 160\">\n",
       "<defs>\n",
       "</defs>\n",
       "<text x=\"10\" y=\"30\" font-size=\"24\" dx=\"0,0,21,54\" dy=\"0,5,21,54\">Fall</text>\n",
       "</svg>"
      ],
      "text/plain": [
       "<drawsvg.drawing.Drawing at 0x7f15cc3cce20>"
      ]
     },
     "execution_count": 8,
     "metadata": {},
     "output_type": "execute_result"
    }
   ],
   "source": [
    "d = dw.Drawing(300,160,id_prefix='texttspan3')\n",
    "d.append(dw.Text('Fall',24,10,30,dx='0,0,21,54',dy='0,5,21,54'))\n",
    "#d.save_svg('04_tspan3.svg')\n",
    "d"
   ]
  },
  {
   "cell_type": "markdown",
   "id": "interstate-float",
   "metadata": {},
   "source": [
    "## Rotate\n",
    "\n",
    "Either one angle (degrees), or a list which is applied to all characters.\n",
    "If the list is smaller than the number of characters, the last angle persists.\n"
   ]
  },
  {
   "cell_type": "code",
   "execution_count": 9,
   "id": "labeled-humidity",
   "metadata": {},
   "outputs": [
    {
     "data": {
      "image/svg+xml": [
       "<?xml version=\"1.0\" encoding=\"UTF-8\"?>\n",
       "<svg xmlns=\"http://www.w3.org/2000/svg\" xmlns:xlink=\"http://www.w3.org/1999/xlink\"\n",
       "    width=\"200\" height=\"100\" viewBox=\"0 0 200 100\">\n",
       "<defs>\n",
       "</defs>\n",
       "<text x=\"20\" y=\"20\" font-size=\"20\" letter-spacing=\"20\" rotate=\"90\">Rotate</text>\n",
       "<text x=\"20\" y=\"80\" font-size=\"20\" letter-spacing=\"20\" rotate=\"0 90 180 270\">Rotate</text>\n",
       "</svg>"
      ],
      "text/plain": [
       "<drawsvg.drawing.Drawing at 0x7f15ced03ee0>"
      ]
     },
     "execution_count": 9,
     "metadata": {},
     "output_type": "execute_result"
    }
   ],
   "source": [
    "d = dw.Drawing(200,100,id_prefix='rot')\n",
    "d.append(dw.Text('Rotate',20,20,20,letter_spacing=20,rotate='90'))\n",
    "d.append(dw.Text('Rotate',20,20,80,letter_spacing=20,rotate='0 90 180 270'))\n",
    "#d.save_svg('04_rot.svg')\n",
    "d"
   ]
  },
  {
   "cell_type": "markdown",
   "id": "communist-daily",
   "metadata": {},
   "source": [
    "`TSpan` can also be used:"
   ]
  },
  {
   "cell_type": "code",
   "execution_count": 10,
   "id": "creative-material",
   "metadata": {},
   "outputs": [
    {
     "data": {
      "image/svg+xml": [
       "<?xml version=\"1.0\" encoding=\"UTF-8\"?>\n",
       "<svg xmlns=\"http://www.w3.org/2000/svg\" xmlns:xlink=\"http://www.w3.org/1999/xlink\"\n",
       "    width=\"200\" height=\"80\" viewBox=\"0 0 200 80\">\n",
       "<defs>\n",
       "</defs>\n",
       "<text x=\"20\" y=\"50\" font-size=\"20\" letter-spacing=\"20\"><tspan rotate=\"342\">R</tspan><tspan rotate=\"50 20\">OT</tspan><tspan rotate=\"165218121\">ATE</tspan></text>\n",
       "</svg>"
      ],
      "text/plain": [
       "<drawsvg.drawing.Drawing at 0x7f15cc4594f0>"
      ]
     },
     "execution_count": 10,
     "metadata": {},
     "output_type": "execute_result"
    }
   ],
   "source": [
    "from random import randrange\n",
    "d = dw.Drawing(200,80,id_prefix='rot2')\n",
    "txt = dw.Text('',20,20,50,letter_spacing=20)\n",
    "txt.append(dw.TSpan('R',rotate=randrange(360)))\n",
    "txt.append(dw.TSpan('OT',rotate='50 20'))\n",
    "txt.append(dw.TSpan('ATE',rotate=''.join([str(randrange(360)) for i in range(3)])))\n",
    "d.append(txt)\n",
    "#d.save_svg('04_rot2.svg')\n",
    "d"
   ]
  },
  {
   "cell_type": "markdown",
   "id": "loose-wages",
   "metadata": {},
   "source": [
    "## Setting `textLength`"
   ]
  },
  {
   "cell_type": "code",
   "execution_count": 11,
   "id": "breathing-translation",
   "metadata": {},
   "outputs": [
    {
     "data": {
      "image/svg+xml": [
       "<?xml version=\"1.0\" encoding=\"UTF-8\"?>\n",
       "<svg xmlns=\"http://www.w3.org/2000/svg\" xmlns:xlink=\"http://www.w3.org/1999/xlink\"\n",
       "    width=\"400\" height=\"200\" viewBox=\"0 0 400 200\">\n",
       "<defs>\n",
       "</defs>\n",
       "<text x=\"20\" y=\"30\" font-size=\"20\" textLength=\"250\" lengthAdjust=\"spacing\">Two words</text>\n",
       "<text x=\"20\" y=\"70\" font-size=\"20\" textLength=\"250\" lengthAdjust=\"spacingAndGlyphs\">Two words</text>\n",
       "<text x=\"20\" y=\"110\" font-size=\"20\">Two words (normal length)</text>\n",
       "<text x=\"20\" y=\"150\" font-size=\"20\" textLength=\"80\" lengthAdjust=\"spacing\">Two words</text>\n",
       "<text x=\"20\" y=\"190\" font-size=\"20\" textLength=\"80\" lengthAdjust=\"spacingAndGlyphs\">Two words</text>\n",
       "<path d=\"M20,10 L20,195\" stroke=\"gray\" />\n",
       "<path d=\"M270,80 L270,10\" stroke=\"gray\" />\n",
       "<path d=\"M100,130 L100,195\" stroke=\"gray\" />\n",
       "</svg>"
      ],
      "text/plain": [
       "<drawsvg.drawing.Drawing at 0x7f15cc3ca100>"
      ]
     },
     "execution_count": 11,
     "metadata": {},
     "output_type": "execute_result"
    }
   ],
   "source": [
    "d = dw.Drawing(400,200,id_prefix='textlen')\n",
    "\n",
    "s = 'Two words'\n",
    "d.append(dw.Text(s,20,20,30,textLength=250,lengthAdjust='spacing'))\n",
    "d.append(dw.Text(s,20,20,70,textLength=250,lengthAdjust='spacingAndGlyphs'))\n",
    "d.append(dw.Text(s+' (normal length)',20,20,110))\n",
    "d.append(dw.Text(s,20,20,150,textLength=80,lengthAdjust='spacing'))\n",
    "d.append(dw.Text(s,20,20,190,textLength=80,lengthAdjust='spacingAndGlyphs'))\n",
    "\n",
    "d.append(dw.Line(20,10,20,195,stroke='gray'))\n",
    "d.append(dw.Line(270,80,270,10,stroke='gray'))\n",
    "d.append(dw.Line(100,130,100,195,stroke='gray'))\n",
    "#d.save_svg('04_len.svg')\n",
    "d"
   ]
  },
  {
   "cell_type": "markdown",
   "id": "thrown-berkeley",
   "metadata": {},
   "source": [
    "## Text on a Path"
   ]
  },
  {
   "cell_type": "code",
   "execution_count": 12,
   "id": "under-picking",
   "metadata": {},
   "outputs": [
    {
     "data": {
      "image/svg+xml": [
       "<?xml version=\"1.0\" encoding=\"UTF-8\"?>\n",
       "<svg xmlns=\"http://www.w3.org/2000/svg\" xmlns:xlink=\"http://www.w3.org/1999/xlink\"\n",
       "    width=\"500\" height=\"200\" viewBox=\"0 0 500 200\">\n",
       "<defs>\n",
       "<path d=\"M30,50 C50,20,70,20,120,50 S150,10,200,50\" stroke=\"gray\" fill=\"none\" id=\"mTN9NjUZ0\" />\n",
       "<path d=\"M250,30 L300,30 A30,30,0,0,1,330,60 L330,110\" stroke=\"gray\" fill=\"none\" id=\"mTN9NjUZ1\" />\n",
       "<path d=\"M30,110 L100,110 L100,160\" stroke=\"gray\" fill=\"none\" id=\"mTN9NjUZ2\" />\n",
       "<path d=\"M150,110 A40,30,0,1,0,230,110 M250,110 L270,140\" stroke=\"gray\" fill=\"none\" id=\"mTN9NjUZ3\" />\n",
       "<path d=\"M330,130 L330,160 A30,30,0,0,1,300,180 L200,180\" stroke=\"gray\" fill=\"none\" id=\"mTN9NjUZ4\" />\n",
       "</defs>\n",
       "<use xlink:href=\"#mTN9NjUZ0\" />\n",
       "<use xlink:href=\"#mTN9NjUZ1\" />\n",
       "<use xlink:href=\"#mTN9NjUZ2\" />\n",
       "<use xlink:href=\"#mTN9NjUZ3\" />\n",
       "<use xlink:href=\"#mTN9NjUZ4\" />\n",
       "<text font-size=\"14\"><textPath xlink:href=\"#mTN9NjUZ0\">\n",
       "<tspan dy=\"0em\">Following a cubic Bézier curve</tspan>\n",
       "</textPath></text>\n",
       "<text font-size=\"14\"><textPath xlink:href=\"#mTN9NjUZ1\">\n",
       "<tspan dy=\"0em\">Going 'round the bend</tspan>\n",
       "</textPath></text>\n",
       "<text font-size=\"14\"><textPath xlink:href=\"#mTN9NjUZ2\">\n",
       "<tspan dy=\"0em\">Making a quick turn</tspan>\n",
       "</textPath></text>\n",
       "<text font-size=\"14\"><textPath xlink:href=\"#mTN9NjUZ3\">\n",
       "<tspan dy=\"0em\">Text along a broken path</tspan>\n",
       "</textPath></text>\n",
       "<text font-size=\"14\" offset=\"50%\" text-anchor=\"middle\"><textPath xlink:href=\"#mTN9NjUZ4\" startOffset=\"50%\">\n",
       "<tspan dy=\"0em\">centered</tspan>\n",
       "</textPath></text>\n",
       "</svg>"
      ],
      "text/plain": [
       "<drawsvg.drawing.Drawing at 0x7f15cfdb2880>"
      ]
     },
     "execution_count": 12,
     "metadata": {},
     "output_type": "execute_result"
    }
   ],
   "source": [
    "d = dw.Drawing(500,200,id_prefix='textpath')\n",
    "\n",
    "curve_path = dw.Path(stroke='gray',fill='none')\n",
    "curve_path.M(30,50).C(50,20,70,20,120,50).S(150,10,200,50)\n",
    "\n",
    "round_corner = dw.Path(stroke='gray',fill='none')\n",
    "round_corner.M(250,30).L(300,30).A(30,30,0,0,1,330,60).L(330,110)\n",
    "\n",
    "sharp_corner = dw.Path(stroke='gray',fill='none')\n",
    "sharp_corner.M(30,110).L(100,110).L(100,160)\n",
    "\n",
    "discontinuous = dw.Path(stroke='gray',fill='none')\n",
    "discontinuous.M(150,110).A(40,30,0,1,0,230,110).M(250,110).L(270,140)\n",
    "\n",
    "center_curve = dw.Path(stroke='gray',fill='none')\n",
    "center_curve.M(330,130).L(330,160).A(30,30,0,0,1,300,180).L(200,180)\n",
    "\n",
    "d.append(curve_path)\n",
    "d.append(round_corner)\n",
    "d.append(sharp_corner)\n",
    "d.append(discontinuous)\n",
    "d.append(center_curve)\n",
    "\n",
    "t_cp = dw.Text('Following a cubic Bézier curve',14,path=curve_path)\n",
    "t_rc = dw.Text(\"Going 'round the bend\",14,path=round_corner)\n",
    "t_sc = dw.Text('Making a quick turn',14,path=sharp_corner)\n",
    "t_dc = dw.Text('Text along a broken path',14,path=discontinuous)\n",
    "t_ct = dw.Text('centered',14,path=center_curve,offset='50%',text_anchor='middle')\n",
    "\n",
    "d.append(t_cp)\n",
    "d.append(t_rc)\n",
    "d.append(t_sc)\n",
    "d.append(t_dc)\n",
    "d.append(t_ct)\n",
    "#d.save_svg('04_path.svg')\n",
    "d"
   ]
  },
  {
   "cell_type": "markdown",
   "id": "addressed-wallace",
   "metadata": {},
   "source": [
    "## Multi Line Text\n",
    "This is a particular feature of drawSvg: A list of strings as input for Text() is rendered as multi-line text."
   ]
  },
  {
   "cell_type": "code",
   "execution_count": 13,
   "id": "through-animal",
   "metadata": {},
   "outputs": [
    {
     "data": {
      "image/svg+xml": [
       "<?xml version=\"1.0\" encoding=\"UTF-8\"?>\n",
       "<svg xmlns=\"http://www.w3.org/2000/svg\" xmlns:xlink=\"http://www.w3.org/1999/xlink\"\n",
       "    width=\"100\" height=\"100\" viewBox=\"0 0 100 100\">\n",
       "<defs>\n",
       "</defs>\n",
       "<text x=\"50\" y=\"20\" font-size=\"14\" text-anchor=\"middle\"><tspan x=\"50\" dy=\"0em\">this is</tspan><tspan x=\"50\" dy=\"1em\">a</tspan><tspan x=\"50\" dy=\"1em\">multiline text</tspan><tspan x=\"50\" dy=\"1em\">given as a</tspan><tspan x=\"50\" dy=\"1em\">list</tspan></text>\n",
       "</svg>"
      ],
      "text/plain": [
       "<drawsvg.drawing.Drawing at 0x7f15cc453b20>"
      ]
     },
     "execution_count": 13,
     "metadata": {},
     "output_type": "execute_result"
    }
   ],
   "source": [
    "d = dw.Drawing(100,100,id_prefix='multiline')\n",
    "t = ['this is', 'a', 'multiline text', 'given as a', 'list']\n",
    "d.append(dw.Text(t,14,50,20,text_anchor='middle'))\n",
    "#d.save_svg('04_mutiline_text.svg')\n",
    "d"
   ]
  },
  {
   "cell_type": "code",
   "execution_count": null,
   "id": "humanitarian-poland",
   "metadata": {},
   "outputs": [],
   "source": []
  }
 ],
 "metadata": {
  "kernelspec": {
   "display_name": "Python 3",
   "language": "python",
   "name": "python3"
  },
  "language_info": {
   "codemirror_mode": {
    "name": "ipython",
    "version": 3
   },
   "file_extension": ".py",
   "mimetype": "text/x-python",
   "name": "python",
   "nbconvert_exporter": "python",
   "pygments_lexer": "ipython3",
   "version": "3.9.2"
  }
 },
 "nbformat": 4,
 "nbformat_minor": 5
}
