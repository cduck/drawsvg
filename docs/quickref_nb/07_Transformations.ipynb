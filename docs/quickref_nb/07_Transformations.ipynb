{
 "cells": [
  {
   "cell_type": "markdown",
   "id": "equipped-instruction",
   "metadata": {},
   "source": [
    "# 7. Transformations"
   ]
  },
  {
   "cell_type": "code",
   "execution_count": 1,
   "id": "written-ownership",
   "metadata": {},
   "outputs": [],
   "source": [
    "import drawsvg as dw"
   ]
  },
  {
   "cell_type": "markdown",
   "id": "indoor-design",
   "metadata": {},
   "source": [
    "## Translate\n",
    "\n",
    "```\n",
    "transform = 'translate(x,y)'\n",
    "```\n",
    "\n",
    "This can be added to many objects. Simple example:\n"
   ]
  },
  {
   "cell_type": "code",
   "execution_count": 2,
   "id": "cleared-interaction",
   "metadata": {},
   "outputs": [
    {
     "data": {
      "image/svg+xml": [
       "<?xml version=\"1.0\" encoding=\"UTF-8\"?>\n",
       "<svg xmlns=\"http://www.w3.org/2000/svg\" xmlns:xlink=\"http://www.w3.org/1999/xlink\"\n",
       "    width=\"200\" height=\"200\" viewBox=\"0 0 200 200\">\n",
       "<defs>\n",
       "</defs>\n",
       "<rect x=\"0\" y=\"0\" width=\"40\" height=\"40\" transform=\"translate(50,50)\" />\n",
       "</svg>"
      ],
      "text/plain": [
       "<drawsvg.drawing.Drawing at 0x7f27506de820>"
      ]
     },
     "execution_count": 2,
     "metadata": {},
     "output_type": "execute_result"
    }
   ],
   "source": [
    "d = dw.Drawing(200,200,id_prefix='trans')\n",
    "d.append(dw.Rectangle(0,0,40,40,transform='translate(50,50)'))\n",
    "#d.save_svg('07_trans.svg')\n",
    "d"
   ]
  },
  {
   "cell_type": "markdown",
   "id": "worldwide-water",
   "metadata": {},
   "source": [
    "## Scale\n",
    "\n",
    "```\n",
    "transform = 'scale(x_mult[,y_mult])'\n",
    "```\n",
    "\n",
    "Note that scaling touches also stroke width.\n"
   ]
  },
  {
   "cell_type": "code",
   "execution_count": 3,
   "id": "biological-delay",
   "metadata": {},
   "outputs": [
    {
     "data": {
      "image/svg+xml": [
       "<?xml version=\"1.0\" encoding=\"UTF-8\"?>\n",
       "<svg xmlns=\"http://www.w3.org/2000/svg\" xmlns:xlink=\"http://www.w3.org/1999/xlink\"\n",
       "    width=\"200\" height=\"200\" viewBox=\"0 0 200 200\">\n",
       "<defs>\n",
       "<rect x=\"0\" y=\"0\" width=\"40\" height=\"40\" fill=\"none\" stroke=\"black\" stroke-width=\"2\" id=\"zx2YCo550\" />\n",
       "</defs>\n",
       "<use xlink:href=\"#zx2YCo550\" x=\"10\" y=\"10\" transform=\"scale(2)\" />\n",
       "</svg>"
      ],
      "text/plain": [
       "<drawsvg.drawing.Drawing at 0x7f27547e45e0>"
      ]
     },
     "execution_count": 3,
     "metadata": {},
     "output_type": "execute_result"
    }
   ],
   "source": [
    "d = dw.Drawing(200,200,id_prefix='scale1')\n",
    "square = dw.Rectangle(0,0,40,40,fill='none',stroke='black',stroke_width=2)\n",
    "d.append(dw.Use(square,10,10,transform='scale(2)'))\n",
    "#d.save_svg('07_scale.svg')\n",
    "d"
   ]
  },
  {
   "cell_type": "markdown",
   "id": "english-victim",
   "metadata": {},
   "source": [
    "It is possible to specify x and y scale seperately:"
   ]
  },
  {
   "cell_type": "code",
   "execution_count": 4,
   "id": "premier-bibliography",
   "metadata": {},
   "outputs": [
    {
     "data": {
      "image/svg+xml": [
       "<?xml version=\"1.0\" encoding=\"UTF-8\"?>\n",
       "<svg xmlns=\"http://www.w3.org/2000/svg\" xmlns:xlink=\"http://www.w3.org/1999/xlink\"\n",
       "    width=\"200\" height=\"100\" viewBox=\"0 0 200 100\">\n",
       "<defs>\n",
       "<rect x=\"0\" y=\"0\" width=\"40\" height=\"40\" fill=\"none\" stroke=\"black\" stroke-width=\"2\" id=\"RtKCvh1L0\" />\n",
       "</defs>\n",
       "<use xlink:href=\"#RtKCvh1L0\" x=\"10\" y=\"10\" />\n",
       "<use xlink:href=\"#RtKCvh1L0\" x=\"10\" y=\"10\" transform=\"scale(3,1.5)\" />\n",
       "</svg>"
      ],
      "text/plain": [
       "<drawsvg.drawing.Drawing at 0x7f27506e2820>"
      ]
     },
     "execution_count": 4,
     "metadata": {},
     "output_type": "execute_result"
    }
   ],
   "source": [
    "d = dw.Drawing(200,100,id_prefix='scale2')\n",
    "square = dw.Rectangle(0,0,40,40,fill='none',stroke='black',stroke_width=2)\n",
    "d.append(dw.Use(square,10,10))\n",
    "d.append(dw.Use(square,10,10,transform='scale(3,1.5)'))\n",
    "#d.save_svg('07_scale2.svg')\n",
    "d"
   ]
  },
  {
   "cell_type": "markdown",
   "id": "retired-prague",
   "metadata": {},
   "source": [
    "Scaling around a center point:"
   ]
  },
  {
   "cell_type": "code",
   "execution_count": 5,
   "id": "accepted-gossip",
   "metadata": {},
   "outputs": [
    {
     "data": {
      "image/svg+xml": [
       "<?xml version=\"1.0\" encoding=\"UTF-8\"?>\n",
       "<svg xmlns=\"http://www.w3.org/2000/svg\" xmlns:xlink=\"http://www.w3.org/1999/xlink\"\n",
       "    width=\"300\" height=\"200\" viewBox=\"0 0 300 200\">\n",
       "<defs>\n",
       "<rect x=\"70\" y=\"80\" width=\"60\" height=\"40\" stroke=\"black\" fill=\"none\" id=\"oPi31AFr0\" />\n",
       "</defs>\n",
       "<circle cx=\"100\" cy=\"100\" r=\"4\" fill=\"black\" />\n",
       "<use xlink:href=\"#oPi31AFr0\" />\n",
       "<use xlink:href=\"#oPi31AFr0\" x=\"0\" y=\"0\" transform=\"translate(-100,-100) scale(2)\" stroke-width=\"0.5\" />\n",
       "<use xlink:href=\"#oPi31AFr0\" x=\"0\" y=\"0\" transform=\"translate(-150,-150) scale(2.5)\" stroke-width=\"0.4\" />\n",
       "<use xlink:href=\"#oPi31AFr0\" x=\"0\" y=\"0\" transform=\"translate(-200,-200) scale(3)\" stroke-width=\"0.33\" />\n",
       "</svg>"
      ],
      "text/plain": [
       "<drawsvg.drawing.Drawing at 0x7f2750676550>"
      ]
     },
     "execution_count": 5,
     "metadata": {},
     "output_type": "execute_result"
    }
   ],
   "source": [
    "d = dw.Drawing(300,200,id_prefix=\"scalecenter\")\n",
    "# center of scaling\n",
    "d.append(dw.Circle(100,100,4,fill='black'))\n",
    "# non-scaled rectangle\n",
    "rect = dw.Rectangle(70,80,60,40,stroke='black',fill='none')\n",
    "d.append(rect)\n",
    "# scaled rectangles (point times scale-1)\n",
    "d.append(dw.Use(rect,0,0,transform='translate(-100,-100) scale(2)',stroke_width=0.5))\n",
    "d.append(dw.Use(rect,0,0,transform='translate(-150,-150) scale(2.5)',stroke_width=0.4))\n",
    "d.append(dw.Use(rect,0,0,transform='translate(-200,-200) scale(3)',stroke_width=0.33))\n",
    "#d.save_svg('07_scalcent.svg')\n",
    "d"
   ]
  },
  {
   "cell_type": "markdown",
   "id": "fuzzy-satin",
   "metadata": {},
   "source": [
    "## Rotate\n",
    "\n",
    "```\n",
    "transform = 'rotate(angle, cx=0, cy=0)\n",
    "```\n",
    "`angle` counts clockwise in degrees; `cx/cy` are the center of rotation.\n"
   ]
  },
  {
   "cell_type": "code",
   "execution_count": 6,
   "id": "looking-history",
   "metadata": {},
   "outputs": [
    {
     "data": {
      "image/svg+xml": [
       "<?xml version=\"1.0\" encoding=\"UTF-8\"?>\n",
       "<svg xmlns=\"http://www.w3.org/2000/svg\" xmlns:xlink=\"http://www.w3.org/1999/xlink\"\n",
       "    width=\"200\" height=\"200\" viewBox=\"0 0 200 200\">\n",
       "<defs>\n",
       "</defs>\n",
       "<rect x=\"0\" y=\"0\" width=\"200\" height=\"200\" stroke=\"gray\" fill=\"none\" />\n",
       "<rect x=\"70\" y=\"30\" width=\"40\" height=\"40\" fill=\"gray\" />\n",
       "<rect x=\"70\" y=\"30\" width=\"40\" height=\"40\" fill=\"black\" transform=\"rotate(45)\" />\n",
       "</svg>"
      ],
      "text/plain": [
       "<drawsvg.drawing.Drawing at 0x7f27547e4040>"
      ]
     },
     "execution_count": 6,
     "metadata": {},
     "output_type": "execute_result"
    }
   ],
   "source": [
    "d = dw.Drawing(200,200,id_prefix='rota')\n",
    "# show frame\n",
    "d.append(dw.Rectangle(0,0,200,200,stroke='gray',fill='none'))\n",
    "# rotation is around (0,0)\n",
    "d.append(dw.Rectangle(70,30,40,40,fill='gray'))\n",
    "d.append(dw.Rectangle(70,30,40,40,fill='black',transform='rotate(45)'))\n",
    "#d.save_svg('07_rota.svg')\n",
    "d"
   ]
  },
  {
   "cell_type": "code",
   "execution_count": 7,
   "id": "crazy-rebound",
   "metadata": {},
   "outputs": [
    {
     "data": {
      "image/svg+xml": [
       "<?xml version=\"1.0\" encoding=\"UTF-8\"?>\n",
       "<svg xmlns=\"http://www.w3.org/2000/svg\" xmlns:xlink=\"http://www.w3.org/1999/xlink\"\n",
       "    width=\"300\" height=\"200\" viewBox=\"0 0 300 200\">\n",
       "<defs>\n",
       "<g id=\"arrow\" stroke=\"black\">\n",
       "<path d=\"M110,100 L160,100\" />\n",
       "<path d=\"M160,100 L155,95 L155,105\" fill=\"black\" />\n",
       "</g>\n",
       "</defs>\n",
       "<circle cx=\"100\" cy=\"100\" r=\"3\" flii=\"black\" />\n",
       "<use xlink:href=\"#arrow\" />\n",
       "<use xlink:href=\"#arrow\" x=\"0\" y=\"0\" transform=\"rotate (60,100,100)\" />\n",
       "<use xlink:href=\"#arrow\" x=\"0\" y=\"0\" transform=\"rotate (-90,100,100)\" />\n",
       "<use xlink:href=\"#arrow\" x=\"0\" y=\"0\" transform=\"rotate (-150,100,100)\" />\n",
       "</svg>"
      ],
      "text/plain": [
       "<drawsvg.drawing.Drawing at 0x7f275067c040>"
      ]
     },
     "execution_count": 7,
     "metadata": {},
     "output_type": "execute_result"
    }
   ],
   "source": [
    "d = dw.Drawing(300,200,id_prefix='rotcent')\n",
    "# center of rotation\n",
    "d.append(dw.Circle(100,100,3,flii='black'))\n",
    "# non-rotated arrow\n",
    "g = dw.Group(id='arrow',stroke='black')\n",
    "g.append(dw.Line(110,100,160,100))\n",
    "g.append(dw.Lines(160,100,155,95,155,105,fill='black'))\n",
    "d.append(g)\n",
    "# rotated arrows \n",
    "d.append(dw.Use(g,0,0,transform='rotate (60,100,100)'))\n",
    "d.append(dw.Use(g,0,0,transform='rotate (-90,100,100)'))\n",
    "d.append(dw.Use(g,0,0,transform='rotate (-150,100,100)'))\n",
    "#d.save_svg('07_rota2.svg')\n",
    "d"
   ]
  },
  {
   "cell_type": "markdown",
   "id": "dress-comedy",
   "metadata": {},
   "source": [
    "## Skew\n",
    "\n",
    "```\n",
    "transform = 'skewX(angle)`\n",
    "transform = 'skewY(angle)`\n",
    "```\n"
   ]
  },
  {
   "cell_type": "code",
   "execution_count": 8,
   "id": "looking-cameroon",
   "metadata": {},
   "outputs": [
    {
     "data": {
      "image/svg+xml": [
       "<?xml version=\"1.0\" encoding=\"UTF-8\"?>\n",
       "<svg xmlns=\"http://www.w3.org/2000/svg\" xmlns:xlink=\"http://www.w3.org/1999/xlink\"\n",
       "    width=\"200\" height=\"100\" viewBox=\"0 0 200 100\" id-srefix=\"skew\">\n",
       "<defs>\n",
       "</defs>\n",
       "<g stroke=\"gray\" stroke-dasharray=\"4 4\">\n",
       "<path d=\"M0,0 L200,0\" />\n",
       "<path d=\"M20,0 L20,90\" />\n",
       "<path d=\"M120,0 L120,90\" />\n",
       "</g>\n",
       "<g transform=\"translate(20,0)\">\n",
       "<g transform=\"skewX(30)\">\n",
       "<path d=\"M50,0 L0,0 L0,50\" stroke=\"black\" fill=\"none\" stroke-width=\"2\" />\n",
       "<text x=\"0\" y=\"60\" font-size=\"16\">skewX</text>\n",
       "</g>\n",
       "</g>\n",
       "<g transform=\"translate(120,0)\">\n",
       "<g transform=\"skewY(30)\">\n",
       "<path d=\"M50,0 L0,0 L0,50\" stroke=\"black\" fill=\"none\" stroke-width=\"2\" />\n",
       "<text x=\"0\" y=\"60\" font-size=\"16\">skewY</text>\n",
       "</g>\n",
       "</g>\n",
       "</svg>"
      ],
      "text/plain": [
       "<drawsvg.drawing.Drawing at 0x7f2750679400>"
      ]
     },
     "execution_count": 8,
     "metadata": {},
     "output_type": "execute_result"
    }
   ],
   "source": [
    "d = dw.Drawing(200,100,id_srefix='skew')\n",
    "\n",
    "g = dw.Group(stroke='gray',stroke_dasharray='4 4')\n",
    "g.append(dw.Line(0,0,200,0))\n",
    "g.append(dw.Line(20,0,20,90))\n",
    "g.append(dw.Line(120,0,120,90))\n",
    "d.append(g)\n",
    "\n",
    "h = dw.Group(transform='translate(20,0)')\n",
    "h1 = dw.Group(transform='skewX(30)')\n",
    "h1.append(dw.Lines(50,0,0,0,0,50,stroke='black',fill='none',stroke_width=2))\n",
    "h1.append(dw.Text('skewX',16,0,60))\n",
    "h.append(h1)\n",
    "d.append(h)\n",
    "\n",
    "i = dw.Group(transform='translate(120,0)')\n",
    "i1 = dw.Group(transform='skewY(30)')\n",
    "i1.append(dw.Lines(50,0,0,0,0,50,stroke='black',fill='none',stroke_width=2))\n",
    "i1.append(dw.Text('skewY',16,0,60))\n",
    "i.append(i1)\n",
    "d.append(i)\n",
    "\n",
    "#d.save_svg('07_skew.svg')\n",
    "d"
   ]
  },
  {
   "cell_type": "markdown",
   "id": "brilliant-heath",
   "metadata": {},
   "source": [
    "## Cartesian Coordinates\n",
    "\n",
    "A drawing which can be translated to cartesian coordinates by setting \n",
    "the y `translate` value to the drawing's height, and also applying \n",
    "`scale(1,-1)`.\n",
    "\n",
    "Trapezoid with (0,0) top left:\n"
   ]
  },
  {
   "cell_type": "code",
   "execution_count": 9,
   "id": "defined-square",
   "metadata": {},
   "outputs": [
    {
     "data": {
      "image/svg+xml": [
       "<?xml version=\"1.0\" encoding=\"UTF-8\"?>\n",
       "<svg xmlns=\"http://www.w3.org/2000/svg\" xmlns:xlink=\"http://www.w3.org/1999/xlink\"\n",
       "    width=\"200\" height=\"200\" viewBox=\"0 0 200 200\">\n",
       "<defs>\n",
       "</defs>\n",
       "<path d=\"M0,0 L100,0\" stroke=\"black\" />\n",
       "<path d=\"M0,0 L0,100\" stroke=\"black\" />\n",
       "<path d=\"M40,40 L100,40 L70,70 L40,70\" fill=\"gray\" stroke=\"black\" />\n",
       "</svg>"
      ],
      "text/plain": [
       "<drawsvg.drawing.Drawing at 0x7f2750679a90>"
      ]
     },
     "execution_count": 9,
     "metadata": {},
     "output_type": "execute_result"
    }
   ],
   "source": [
    "d = dw.Drawing(200,200,id_prefix='cart1')\n",
    "d.append(dw.Line(0,0,100,0,stroke='black'))\n",
    "d.append(dw.Line(0,0,0,100,stroke='black'))\n",
    "d.append(dw.Lines(40,40,100,40,70,70,40,70,fill='gray',stroke='black'))\n",
    "#d.save_svg('07_cart1.svg')\n",
    "d"
   ]
  },
  {
   "cell_type": "markdown",
   "id": "extended-carnival",
   "metadata": {},
   "source": [
    "Translated to (0,0) bottom left:"
   ]
  },
  {
   "cell_type": "code",
   "execution_count": 10,
   "id": "advised-muscle",
   "metadata": {},
   "outputs": [
    {
     "data": {
      "image/svg+xml": [
       "<?xml version=\"1.0\" encoding=\"UTF-8\"?>\n",
       "<svg xmlns=\"http://www.w3.org/2000/svg\" xmlns:xlink=\"http://www.w3.org/1999/xlink\"\n",
       "    width=\"200\" height=\"200\" viewBox=\"0 0 200 200\">\n",
       "<defs>\n",
       "</defs>\n",
       "<g transform=\"translate(0,200) scale(1,-1)\">\n",
       "<path d=\"M0,0 L100,0\" stroke=\"black\" />\n",
       "<path d=\"M0,0 L0,100\" stroke=\"black\" />\n",
       "<path d=\"M40,40 L100,40 L70,70 L40,70\" fill=\"gray\" stroke=\"black\" />\n",
       "</g>\n",
       "</svg>"
      ],
      "text/plain": [
       "<drawsvg.drawing.Drawing at 0x7f2750679670>"
      ]
     },
     "execution_count": 10,
     "metadata": {},
     "output_type": "execute_result"
    }
   ],
   "source": [
    "d = dw.Drawing(200,200,id_prefix='cart2')\n",
    "g = dw.Group(transform='translate(0,200) scale(1,-1)')\n",
    "g.append(dw.Line(0,0,100,0,stroke='black'))\n",
    "g.append(dw.Line(0,0,0,100,stroke='black'))\n",
    "g.append(dw.Lines(40,40,100,40,70,70,40,70,fill='gray',stroke='black'))\n",
    "d.append(g)\n",
    "#d.save_svg('07_cart2.svg')\n",
    "d"
   ]
  },
  {
   "cell_type": "markdown",
   "id": "tropical-lotus",
   "metadata": {},
   "source": [
    "Or even applying `scale(1,-1)` to the whole drawing:"
   ]
  },
  {
   "cell_type": "code",
   "execution_count": 11,
   "id": "divided-banks",
   "metadata": {},
   "outputs": [
    {
     "data": {
      "image/svg+xml": [
       "<?xml version=\"1.0\" encoding=\"UTF-8\"?>\n",
       "<svg xmlns=\"http://www.w3.org/2000/svg\" xmlns:xlink=\"http://www.w3.org/1999/xlink\"\n",
       "    width=\"200\" height=\"200\" viewBox=\"0 0 200 200\" transform=\"scale(1,-1)\">\n",
       "<defs>\n",
       "</defs>\n",
       "<path d=\"M0,0 L100,0\" stroke=\"black\" />\n",
       "<path d=\"M0,0 L0,100\" stroke=\"black\" />\n",
       "<path d=\"M40,40 L100,40 L70,70 L40,70\" fill=\"gray\" stroke=\"black\" />\n",
       "</svg>"
      ],
      "text/plain": [
       "<drawsvg.drawing.Drawing at 0x7f2750686ee0>"
      ]
     },
     "execution_count": 11,
     "metadata": {},
     "output_type": "execute_result"
    }
   ],
   "source": [
    "d = dw.Drawing(200,200,transform='scale(1,-1)')\n",
    "d.append(dw.Line(0,0,100,0,stroke='black'))\n",
    "d.append(dw.Line(0,0,0,100,stroke='black'))\n",
    "d.append(dw.Lines(40,40,100,40,70,70,40,70,fill='gray',stroke='black'))\n",
    "#d.save_svg('07_cart3.svg')\n",
    "d"
   ]
  },
  {
   "cell_type": "code",
   "execution_count": null,
   "id": "associate-dimension",
   "metadata": {},
   "outputs": [],
   "source": []
  }
 ],
 "metadata": {
  "kernelspec": {
   "display_name": "Python 3",
   "language": "python",
   "name": "python3"
  },
  "language_info": {
   "codemirror_mode": {
    "name": "ipython",
    "version": 3
   },
   "file_extension": ".py",
   "mimetype": "text/x-python",
   "name": "python",
   "nbconvert_exporter": "python",
   "pygments_lexer": "ipython3",
   "version": "3.9.2"
  }
 },
 "nbformat": 4,
 "nbformat_minor": 5
}
