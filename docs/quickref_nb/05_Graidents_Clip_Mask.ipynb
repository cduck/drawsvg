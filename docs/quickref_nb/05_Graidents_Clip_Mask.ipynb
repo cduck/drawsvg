{
 "cells": [
  {
   "cell_type": "markdown",
   "id": "shaped-aviation",
   "metadata": {},
   "source": [
    "# 5. Gradient, Clip, Mask"
   ]
  },
  {
   "cell_type": "code",
   "execution_count": 1,
   "id": "musical-intranet",
   "metadata": {},
   "outputs": [],
   "source": [
    "import drawsvg as dw"
   ]
  },
  {
   "cell_type": "markdown",
   "id": "distinct-context",
   "metadata": {},
   "source": [
    "## Linear Gradient\n",
    "```\n",
    "gradient = dw.LinearGradient(x1, y1, x2, y2, gradientUnits='userSpaceOnUse', **kwargs)\n",
    "gradient.add_stop(offset, color, opacity=None)\n",
    "```\n"
   ]
  },
  {
   "cell_type": "code",
   "execution_count": 3,
   "id": "covered-police",
   "metadata": {},
   "outputs": [
    {
     "data": {
      "image/svg+xml": [
       "<?xml version=\"1.0\" encoding=\"UTF-8\"?>\n",
       "<svg xmlns=\"http://www.w3.org/2000/svg\" xmlns:xlink=\"http://www.w3.org/1999/xlink\"\n",
       "    width=\"200\" height=\"80\" viewBox=\"0 0 200 80\">\n",
       "<defs>\n",
       "<linearGradient x1=\"150\" y1=\"0\" x2=\"0\" y2=\"0\" gradientUnits=\"userSpaceOnUse\" id=\"S6pRGmtC0\">\n",
       "<stop offset=\"0\" stop-color=\"green\" />\n",
       "<stop offset=\"1\" stop-color=\"yellow\" />\n",
       "</linearGradient>\n",
       "</defs>\n",
       "<rect x=\"10\" y=\"10\" width=\"150\" height=\"60\" stroke=\"black\" fill=\"url(#S6pRGmtC0)\" />\n",
       "</svg>"
      ],
      "text/plain": [
       "<drawsvg.drawing.Drawing at 0x7f47882f1a90>"
      ]
     },
     "execution_count": 3,
     "metadata": {},
     "output_type": "execute_result"
    }
   ],
   "source": [
    "d = dw.Drawing(200,80,id_prefix='grad1')\n",
    "grad = dw.LinearGradient(150,0,0,0)\n",
    "grad.add_stop(0,'green')\n",
    "grad.add_stop(1,'yellow')\n",
    "d.append(dw.Rectangle(10,10,150,60,stroke='black',fill=grad))\n",
    "#d.save_svg('05_lingrad.svg')\n",
    "d"
   ]
  },
  {
   "cell_type": "markdown",
   "id": "unauthorized-provider",
   "metadata": {},
   "source": [
    "## Radial Gradient\n",
    "```\n",
    "gradient = dw.RadialGradient(cx, cy, r, **kwargs)\n",
    "gradient.add_stop(offset, color, opacity=None)\n",
    "```"
   ]
  },
  {
   "cell_type": "code",
   "execution_count": 4,
   "id": "obvious-sperm",
   "metadata": {},
   "outputs": [
    {
     "data": {
      "image/svg+xml": [
       "<?xml version=\"1.0\" encoding=\"UTF-8\"?>\n",
       "<svg xmlns=\"http://www.w3.org/2000/svg\" xmlns:xlink=\"http://www.w3.org/1999/xlink\"\n",
       "    width=\"400\" height=\"300\" viewBox=\"0 0 400 300\">\n",
       "<defs>\n",
       "<radialGradient cx=\"200\" cy=\"150\" r=\"100\" gradientUnits=\"userSpaceOnUse\" id=\"ZDPBzR3u0\">\n",
       "<stop offset=\"0\" stop-color=\"green\" stop-opacity=\"1\" />\n",
       "<stop offset=\"1\" stop-color=\"red\" stop-opacity=\"1\" />\n",
       "</radialGradient>\n",
       "</defs>\n",
       "<rect x=\"0\" y=\"0\" width=\"100%\" height=\"100%\" fill=\"url(#ZDPBzR3u0)\" />\n",
       "</svg>"
      ],
      "text/plain": [
       "<drawsvg.drawing.Drawing at 0x7f4789bf3100>"
      ]
     },
     "execution_count": 4,
     "metadata": {},
     "output_type": "execute_result"
    }
   ],
   "source": [
    "d = dw.Drawing(400, 300, id_prefix='grad2')\n",
    "gradient = dw.RadialGradient(200,150,100)\n",
    "gradient.add_stop(0, 'green', 1)\n",
    "gradient.add_stop(1, 'red', 1)\n",
    "bg = dw.Rectangle(x=0,y=0,width=\"100%\",height=\"100%\",fill=gradient)\n",
    "d.append(bg)\n",
    "#d.save_svg('05_radgrad.svg')\n",
    "d"
   ]
  },
  {
   "cell_type": "markdown",
   "id": "bottom-recovery",
   "metadata": {},
   "source": [
    "## Clip\n",
    "\n",
    "```\n",
    "clip_name = dw.ClipPath()\n",
    "```\n",
    "\n",
    "To add shape as Clip, use `.append()` method.\n",
    "To apply Clip, fill `clip_path` argument with `clip_name`."
   ]
  },
  {
   "cell_type": "code",
   "execution_count": 5,
   "id": "dense-level",
   "metadata": {},
   "outputs": [
    {
     "data": {
      "image/svg+xml": [
       "<?xml version=\"1.0\" encoding=\"UTF-8\"?>\n",
       "<svg xmlns=\"http://www.w3.org/2000/svg\" xmlns:xlink=\"http://www.w3.org/1999/xlink\"\n",
       "    width=\"200\" height=\"200\" viewBox=\"0 0 200 200\">\n",
       "<defs>\n",
       "<clipPath id=\"dzp47Ifu0\">\n",
       "<rect x=\"100\" y=\"100\" width=\"100\" height=\"100\" />\n",
       "</clipPath>\n",
       "</defs>\n",
       "<rect x=\"100\" y=\"100\" width=\"100\" height=\"100\" stroke=\"gray\" fill=\"none\" />\n",
       "<circle cx=\"100\" cy=\"100\" r=\"100\" fill=\"none\" stroke=\"gray\" stroke-dasharray=\"2,5\" />\n",
       "<circle cx=\"100\" cy=\"100\" r=\"100\" fill=\"cyan\" clip-path=\"url(#dzp47Ifu0)\" />\n",
       "</svg>"
      ],
      "text/plain": [
       "<drawsvg.drawing.Drawing at 0x7f4789bf3280>"
      ]
     },
     "execution_count": 5,
     "metadata": {},
     "output_type": "execute_result"
    }
   ],
   "source": [
    "d = dw.Drawing(200, 200, id_prefix='clip')\n",
    "# show both shapes as they are\n",
    "d.append(dw.Rectangle(100,100,100,100,stroke='gray',fill='none'))\n",
    "d.append(dw.Circle(100,100,100,fill='none',stroke='gray',stroke_dasharray='2,5'))\n",
    "# apply rect as clip to circle\n",
    "clip = dw.ClipPath()\n",
    "clip.append(dw.Rectangle(100,100,100,100))\n",
    "d.append(dw.Circle(100,100,100,fill=\"cyan\",clip_path=clip))\n",
    "#d.saveSvg('05_clip.svg')\n",
    "d"
   ]
  },
  {
   "cell_type": "markdown",
   "id": "micro-victor",
   "metadata": {},
   "source": [
    "Another example:"
   ]
  },
  {
   "cell_type": "code",
   "execution_count": 6,
   "id": "saved-quest",
   "metadata": {},
   "outputs": [
    {
     "data": {
      "image/svg+xml": [
       "<?xml version=\"1.0\" encoding=\"UTF-8\"?>\n",
       "<svg xmlns=\"http://www.w3.org/2000/svg\" xmlns:xlink=\"http://www.w3.org/1999/xlink\"\n",
       "    width=\"600\" height=\"200\" viewBox=\"0 0 600 200\">\n",
       "<defs>\n",
       "<path d=\"M150,150 L32,187 L49,148 L11,157 L40,180 L44,95 L34,106 L66,186 L86,8 L277,101 L66,152 L60,176 L296,51 L125,9 L159,97 L166,169 L36,190 L272,147 L106,79 L160,118 L287,104 L114,57 L192,103 L245,56 L237,136 L268,56 L249,194 L253,81 L187,23 L85,89 L214,26 L106,31 L265,74 L299,24 L111,25 L174,112 L216,1 L129,103 L21,123 L286,11 L258,58\" stroke=\"black\" stroke-width=\"2\" fill=\"none\" id=\"wldvjSJ30\" />\n",
       "<clipPath id=\"wldvjSJ31\">\n",
       "<circle cx=\"150\" cy=\"100\" r=\"75\" />\n",
       "</clipPath>\n",
       "</defs>\n",
       "<use xlink:href=\"#wldvjSJ30\" />\n",
       "<use xlink:href=\"#wldvjSJ30\" x=\"300\" y=\"0\" clip-path=\"url(#wldvjSJ31)\" />\n",
       "</svg>"
      ],
      "text/plain": [
       "<drawsvg.drawing.Drawing at 0x7f47882efac0>"
      ]
     },
     "execution_count": 6,
     "metadata": {},
     "output_type": "execute_result"
    }
   ],
   "source": [
    "d = dw.Drawing(600,200,id_prefix='clip2')\n",
    "\n",
    "# draw a random path in the left half of the canvas\n",
    "p = dw.Path(stroke='black',stroke_width=2,fill='none')\n",
    "p.M(150,150)\n",
    "from random import randint\n",
    "for i in range(40):\n",
    "    p.L(randint(0,300),randint(0,200))\n",
    "d.append(p)\n",
    "\n",
    "# circle as clipping shape\n",
    "circ = dw.Circle(150,100,75)\n",
    "c = dw.ClipPath()\n",
    "c.append(circ)\n",
    "\n",
    "# repeat lines in the right half and apply clipping\n",
    "d.append(dw.Use(p,300,0,clip_path=c))\n",
    "\n",
    "#d.saveSvg('05_clip2.svg')\n",
    "d"
   ]
  },
  {
   "cell_type": "markdown",
   "id": "foster-working",
   "metadata": {},
   "source": [
    "Complex clip path:"
   ]
  },
  {
   "cell_type": "code",
   "execution_count": 7,
   "id": "connected-dollar",
   "metadata": {},
   "outputs": [
    {
     "data": {
      "image/svg+xml": [
       "<?xml version=\"1.0\" encoding=\"UTF-8\"?>\n",
       "<svg xmlns=\"http://www.w3.org/2000/svg\" xmlns:xlink=\"http://www.w3.org/1999/xlink\"\n",
       "    width=\"300\" height=\"300\" viewBox=\"0 0 300 300\">\n",
       "<defs>\n",
       "<g id=\"WyYbiE8z0\">\n",
       "<rect x=\"0\" y=\"50\" width=\"90\" height=\"60\" fill=\"#999\" />\n",
       "<circle cx=\"25\" cy=\"25\" r=\"25\" fill=\"#666\" />\n",
       "<path d=\"M30,0 L80,0 L80,100 Z\" fill=\"#ccc\" />\n",
       "</g>\n",
       "<clipPath id=\"WyYbiE8z1\">\n",
       "<path d=\"M5,55 C25,5,45,-25,75,55 C85,85,20,105,40,55 Z\" stroke=\"black\" fill=\"none\" />\n",
       "</clipPath>\n",
       "<clipPath id=\"WyYbiE8z2\">\n",
       "<text x=\"20\" y=\"20\" font-size=\"48\" stroke=\"black\" fill=\"none\" transform=\"rotate(60)\">CLIP</text>\n",
       "</clipPath>\n",
       "</defs>\n",
       "<use xlink:href=\"#WyYbiE8z0\" x=\"0\" y=\"0\" clip-path=\"url(#WyYbiE8z1)\" />\n",
       "<g transform=\"translate(100,0)\">\n",
       "<use xlink:href=\"#WyYbiE8z0\" />\n",
       "<use xlink:href=\"#WyYbiE8z6\" />\n",
       "</g>\n",
       "<use xlink:href=\"#WyYbiE8z0\" x=\"0\" y=\"150\" clip-path=\"url(#WyYbiE8z2)\" />\n",
       "<g transform=\"translate(100,150)\">\n",
       "<use xlink:href=\"#WyYbiE8z0\" />\n",
       "<use xlink:href=\"#WyYbiE8z7\" />\n",
       "</g>\n",
       "</svg>"
      ],
      "text/plain": [
       "<drawsvg.drawing.Drawing at 0x7f4788201e50>"
      ]
     },
     "execution_count": 7,
     "metadata": {},
     "output_type": "execute_result"
    }
   ],
   "source": [
    "d = dw.Drawing(300,300,id_prefix='clip3')\n",
    "curve1 = dw.Path(stroke='black',fill='none')\n",
    "curve1.M(5,55).C(25,5, 45,-25, 75,55).C(85,85, 20,105, 40,55).Z()\n",
    "\n",
    "curveClip = dw.ClipPath()\n",
    "curveClip.append(curve1)\n",
    "\n",
    "text1 = dw.Text('CLIP',48,20,20,stroke='black',fill='none',transform='rotate(60)')\n",
    "textClip = dw.ClipPath()\n",
    "textClip.append(text1)\n",
    "\n",
    "shapes = dw.Group()\n",
    "shapes.append(dw.Rectangle(0,50,90,60,fill='#999'))\n",
    "shapes.append(dw.Circle(25,25,25,fill='#666'))\n",
    "shapes.append(dw.Lines(30,0,80,0,80,100,close='true',fill='#ccc'))\n",
    "\n",
    "# draw shapes with clip path\n",
    "d.append(dw.Use(shapes,0,0,clip_path=curveClip))\n",
    "\n",
    "# show clip path\n",
    "g = dw.Group(transform='translate(100,0)')\n",
    "g.append(shapes)\n",
    "g.append(curve1)\n",
    "d.append(g)\n",
    "\n",
    "# draw shapes with text as clip path\n",
    "d.append(dw.Use(shapes,0,150,clip_path=textClip))\n",
    "\n",
    "# show text clip path\n",
    "g = dw.Group(transform='translate(100,150)')\n",
    "g.append(shapes)\n",
    "g.append(text1)\n",
    "d.append(g)\n",
    "#d.saveSvg('05_clip3.svg')\n",
    "d"
   ]
  },
  {
   "cell_type": "markdown",
   "id": "useful-classification",
   "metadata": {},
   "source": [
    "## Mask\n",
    "```\n",
    "mask_name = dw.Mask()\n",
    "```\n",
    "\n",
    "The transparency of the masking object is transfered to the masked object.\n",
    "Opaque pixels of the mask produce opaque pixels of the masked object.\n",
    "Transparent parts of the mask make the corresponding parts of the masked object\n",
    "invisible.\n"
   ]
  },
  {
   "cell_type": "code",
   "execution_count": 9,
   "id": "imperial-briefs",
   "metadata": {},
   "outputs": [
    {
     "data": {
      "image/svg+xml": [
       "<?xml version=\"1.0\" encoding=\"UTF-8\"?>\n",
       "<svg xmlns=\"http://www.w3.org/2000/svg\" xmlns:xlink=\"http://www.w3.org/1999/xlink\"\n",
       "    width=\"200\" height=\"100\" viewBox=\"0 0 200 100\">\n",
       "<defs>\n",
       "<linearGradient x1=\"0\" y1=\"0\" x2=\"1\" y2=\"0\" gradientUnits=\"objectBoundingBox\" id=\"IdlVG90U0\">\n",
       "<stop offset=\"0\" stop-color=\"white\" />\n",
       "<stop offset=\"1\" stop-color=\"black\" />\n",
       "</linearGradient>\n",
       "<mask id=\"IdlVG90U1\">\n",
       "<rect x=\"30\" y=\"0\" width=\"100\" height=\"100\" fill=\"url(#IdlVG90U0)\" />\n",
       "</mask>\n",
       "</defs>\n",
       "<rect x=\"0\" y=\"0\" width=\"200\" height=\"100\" fill=\"cyan\" />\n",
       "<rect x=\"0\" y=\"0\" width=\"200\" height=\"100\" fill=\"pink\" mask=\"url(#IdlVG90U1)\" />\n",
       "</svg>"
      ],
      "text/plain": [
       "<drawsvg.drawing.Drawing at 0x7f4789bf3970>"
      ]
     },
     "execution_count": 9,
     "metadata": {},
     "output_type": "execute_result"
    }
   ],
   "source": [
    "d = dw.Drawing(200, 100, id_prefix='mask1')\n",
    "\n",
    "gradient = dw.LinearGradient(*[0,0],*[1,0], gradientUnits='objectBoundingBox')\n",
    "gradient.add_stop(0, 'white')\n",
    "gradient.add_stop(1, 'black')\n",
    "\n",
    "mask = dw.Mask()\n",
    "box = dw.Rectangle(\n",
    "    x=30,y=0,\n",
    "    width=100,height=100,\n",
    "    fill=gradient)\n",
    "mask.append(box)\n",
    "\n",
    "#initial shape\n",
    "rect = dw.Rectangle(\n",
    "        x=0,y=0,\n",
    "        width=200,height=100,\n",
    "        fill=\"cyan\",)\n",
    "d.append(rect)\n",
    "\n",
    "#After Mask\n",
    "rect = dw.Rectangle(\n",
    "        x=0,y=0,\n",
    "        width=200,height=100,\n",
    "        fill=\"pink\", mask=mask)\n",
    "d.append(rect)\n",
    "\n",
    "#d.saveSvg('05_mask.svg')\n",
    "d"
   ]
  },
  {
   "cell_type": "markdown",
   "id": "wicked-extent",
   "metadata": {},
   "source": [
    "Mask using opaque colors:"
   ]
  },
  {
   "cell_type": "code",
   "execution_count": 10,
   "id": "desirable-session",
   "metadata": {},
   "outputs": [
    {
     "data": {
      "image/svg+xml": [
       "<?xml version=\"1.0\" encoding=\"UTF-8\"?>\n",
       "<svg xmlns=\"http://www.w3.org/2000/svg\" xmlns:xlink=\"http://www.w3.org/1999/xlink\"\n",
       "    width=\"250\" height=\"150\" viewBox=\"0 0 250 150\">\n",
       "<defs>\n",
       "<mask maskContentUnits=\"objectBoundingBox\" id=\"Ir9ITeDx0\">\n",
       "<rect x=\"0\" y=\"0\" width=\"1\" height=\"1\" fill=\"#f00\" />\n",
       "</mask>\n",
       "<mask maskContentUnits=\"objectBoundingBox\" id=\"Ir9ITeDx1\">\n",
       "<rect x=\"0\" y=\"0\" width=\"1\" height=\"1\" fill=\"#0f0\" />\n",
       "</mask>\n",
       "<mask maskContentUnits=\"objectBoundingBox\" id=\"Ir9ITeDx2\">\n",
       "<rect x=\"0\" y=\"0\" width=\"1\" height=\"1\" fill=\"#00f\" />\n",
       "</mask>\n",
       "<mask maskContentUnits=\"objectBoundingBox\" id=\"Ir9ITeDx3\">\n",
       "<rect x=\"0\" y=\"0\" width=\"1\" height=\"1\" fill=\"#fff\" />\n",
       "</mask>\n",
       "</defs>\n",
       "<rect x=\"10\" y=\"10\" width=\"50\" height=\"50\" fill=\"#f00\" />\n",
       "<rect x=\"70\" y=\"10\" width=\"50\" height=\"50\" fill=\"#0f0\" />\n",
       "<rect x=\"130\" y=\"10\" width=\"50\" height=\"50\" fill=\"#00f\" />\n",
       "<rect x=\"190\" y=\"10\" width=\"50\" height=\"50\" fill=\"#fff\" stroke=\"black\" />\n",
       "<g mask=\"url(#Ir9ITeDx0)\">\n",
       "<circle cx=\"35\" cy=\"115\" r=\"25\" fill=\"black\" />\n",
       "<text x=\"35\" y=\"80\" font-size=\"14\" text-anchor=\"middle\">Red</text>\n",
       "</g>\n",
       "<g mask=\"url(#Ir9ITeDx1)\">\n",
       "<circle cx=\"95\" cy=\"115\" r=\"25\" fill=\"black\" />\n",
       "<text x=\"95\" y=\"80\" font-size=\"14\" text-anchor=\"middle\">Green</text>\n",
       "</g>\n",
       "<g mask=\"url(#Ir9ITeDx2)\">\n",
       "<circle cx=\"155\" cy=\"115\" r=\"25\" fill=\"black\" />\n",
       "<text x=\"155\" y=\"80\" font-size=\"14\" text-anchor=\"middle\">Blue</text>\n",
       "</g>\n",
       "<g mask=\"url(#Ir9ITeDx3)\">\n",
       "<circle cx=\"215\" cy=\"115\" r=\"25\" fill=\"black\" />\n",
       "<text x=\"215\" y=\"80\" font-size=\"14\" text-anchor=\"middle\">White</text>\n",
       "</g>\n",
       "</svg>"
      ],
      "text/plain": [
       "<drawsvg.drawing.Drawing at 0x7f47882f19a0>"
      ]
     },
     "execution_count": 10,
     "metadata": {},
     "output_type": "execute_result"
    }
   ],
   "source": [
    "d = dw.Drawing(250,150,id_prefix='mask2')\n",
    "\n",
    "# define the masks\n",
    "redmask = dw.Mask(maskContentUnits='objectBoundingBox')\n",
    "redmask.append(dw.Rectangle(0,0,1,1,fill='#f00'))\n",
    "greenmask = dw.Mask(maskContentUnits='objectBoundingBox')\n",
    "greenmask.append(dw.Rectangle(0,0,1,1,fill='#0f0'))\n",
    "bluemask = dw.Mask(maskContentUnits='objectBoundingBox')\n",
    "bluemask.append(dw.Rectangle(0,0,1,1,fill='#00f'))\n",
    "whitemask = dw.Mask(maskContentUnits='objectBoundingBox')\n",
    "whitemask.append(dw.Rectangle(0,0,1,1,fill='#fff'))\n",
    "\n",
    "# display the colors\n",
    "d.append(dw.Rectangle(10,10,50,50,fill='#f00'))\n",
    "d.append(dw.Rectangle(70,10,50,50,fill='#0f0'))\n",
    "d.append(dw.Rectangle(130,10,50,50,fill='#00f'))\n",
    "d.append(dw.Rectangle(190,10,50,50,fill='#fff',stroke='black'))\n",
    "\n",
    "# mask\n",
    "g = dw.Group(mask=redmask)\n",
    "g.append(dw.Circle(35,115,25,fill='black'))\n",
    "g.append(dw.Text('Red',14,35,80,text_anchor='middle'))\n",
    "d.append(g)\n",
    "g = dw.Group(mask=greenmask)\n",
    "g.append(dw.Circle(95,115,25,fill='black'))\n",
    "g.append(dw.Text('Green',14,95,80,text_anchor='middle'))\n",
    "d.append(g)\n",
    "g = dw.Group(mask=bluemask)\n",
    "g.append(dw.Circle(155,115,25,fill='black'))\n",
    "g.append(dw.Text('Blue',14,155,80,text_anchor='middle'))\n",
    "d.append(g)\n",
    "g = dw.Group(mask=whitemask)\n",
    "g.append(dw.Circle(215,115,25,fill='black'))\n",
    "g.append(dw.Text('White',14,215,80,text_anchor='middle'))\n",
    "d.append(g)\n",
    "\n",
    "#d.saveSvg('05_mask2.svg')\n",
    "d"
   ]
  },
  {
   "cell_type": "markdown",
   "id": "armed-cyprus",
   "metadata": {},
   "source": [
    "Mask alpha using opacity only:"
   ]
  },
  {
   "cell_type": "code",
   "execution_count": 11,
   "id": "empty-universal",
   "metadata": {},
   "outputs": [
    {
     "data": {
      "image/svg+xml": [
       "<?xml version=\"1.0\" encoding=\"UTF-8\"?>\n",
       "<svg xmlns=\"http://www.w3.org/2000/svg\" xmlns:xlink=\"http://www.w3.org/1999/xlink\"\n",
       "    width=\"250\" height=\"100\" viewBox=\"0 0 250 100\">\n",
       "<defs>\n",
       "<mask maskContentUnits=\"objectBoundingBox\" id=\"HeooCFRP0\">\n",
       "<rect x=\"0\" y=\"0\" width=\"1\" height=\"1\" fill-opacity=\"1.0\" fill=\"white\" />\n",
       "</mask>\n",
       "<mask maskContentUnits=\"objectBoundingBox\" id=\"HeooCFRP1\">\n",
       "<rect x=\"0\" y=\"0\" width=\"1\" height=\"1\" fill-opacity=\"0.75\" fill=\"white\" />\n",
       "</mask>\n",
       "<mask maskContentUnits=\"objectBoundingBox\" id=\"HeooCFRP2\">\n",
       "<rect x=\"0\" y=\"0\" width=\"1\" height=\"1\" fill-opacity=\"0.5\" fill=\"white\" />\n",
       "</mask>\n",
       "<mask maskContentUnits=\"objectBoundingBox\" id=\"HeooCFRP3\">\n",
       "<rect x=\"0\" y=\"0\" width=\"1\" height=\"1\" fill-opacity=\"0.25\" fill=\"white\" />\n",
       "</mask>\n",
       "</defs>\n",
       "<g mask=\"url(#HeooCFRP0)\">\n",
       "<circle cx=\"35\" cy=\"35\" r=\"25\" />\n",
       "<text x=\"35\" y=\"80\" font-size=\"14\" text-anchor=\"middle\">100%</text>\n",
       "</g>\n",
       "<g mask=\"url(#HeooCFRP1)\">\n",
       "<circle cx=\"95\" cy=\"35\" r=\"25\" />\n",
       "<text x=\"95\" y=\"80\" font-size=\"14\" text-anchor=\"middle\">50%</text>\n",
       "</g>\n",
       "<g mask=\"url(#HeooCFRP2)\">\n",
       "<circle cx=\"155\" cy=\"35\" r=\"25\" />\n",
       "<text x=\"155\" y=\"80\" font-size=\"14\" text-anchor=\"middle\">50%</text>\n",
       "</g>\n",
       "<g mask=\"url(#HeooCFRP3)\">\n",
       "<circle cx=\"215\" cy=\"35\" r=\"25\" />\n",
       "<text x=\"215\" y=\"80\" font-size=\"14\" text-anchor=\"middle\">25%</text>\n",
       "</g>\n",
       "</svg>"
      ],
      "text/plain": [
       "<drawsvg.drawing.Drawing at 0x7f4789bf39a0>"
      ]
     },
     "execution_count": 11,
     "metadata": {},
     "output_type": "execute_result"
    }
   ],
   "source": [
    "d = dw.Drawing(250,100,id_prefix='mask3')\n",
    "fullmask = dw.Mask(maskContentUnits='objectBoundingBox')\n",
    "fullmask.append(dw.Rectangle(0,0,1,1,fill_opacity=1.0,fill='white'))\n",
    "three_fourths = dw.Mask(maskContentUnits='objectBoundingBox')\n",
    "three_fourths.append(dw.Rectangle(0,0,1,1,fill_opacity=0.75,fill='white'))\n",
    "one_half = dw.Mask(maskContentUnits='objectBoundingBox')\n",
    "one_half.append(dw.Rectangle(0,0,1,1,fill_opacity=0.5,fill='white'))\n",
    "one_fourth = dw.Mask(maskContentUnits='objectBoundingBox')\n",
    "one_fourth.append(dw.Rectangle(0,0,1,1,fill_opacity=0.25,fill='white'))\n",
    "\n",
    "g = dw.Group(mask=fullmask)\n",
    "g.append(dw.Circle(35,35,25))\n",
    "g.append(dw.Text('100%',14,35,80,text_anchor='middle'))\n",
    "d.append(g)\n",
    "g = dw.Group(mask=three_fourths)\n",
    "g.append(dw.Circle(95,35,25))\n",
    "g.append(dw.Text('50%',14,95,80,text_anchor='middle'))\n",
    "d.append(g)\n",
    "g = dw.Group(mask=one_half)\n",
    "g.append(dw.Circle(155,35,25))\n",
    "g.append(dw.Text('50%',14,155,80,text_anchor='middle'))\n",
    "d.append(g)\n",
    "g = dw.Group(mask=one_fourth)\n",
    "g.append(dw.Circle(215,35,25))\n",
    "g.append(dw.Text('25%',14,215,80,text_anchor='middle'))\n",
    "d.append(g)\n",
    "\n",
    "#d.saveSvg('05_mask3.svg')\n",
    "d"
   ]
  },
  {
   "cell_type": "code",
   "execution_count": null,
   "id": "single-burns",
   "metadata": {},
   "outputs": [],
   "source": []
  }
 ],
 "metadata": {
  "kernelspec": {
   "display_name": "Python 3",
   "language": "python",
   "name": "python3"
  },
  "language_info": {
   "codemirror_mode": {
    "name": "ipython",
    "version": 3
   },
   "file_extension": ".py",
   "mimetype": "text/x-python",
   "name": "python",
   "nbconvert_exporter": "python",
   "pygments_lexer": "ipython3",
   "version": "3.9.2"
  }
 },
 "nbformat": 4,
 "nbformat_minor": 5
}
