{
 "cells": [
  {
   "cell_type": "markdown",
   "id": "chicken-diesel",
   "metadata": {},
   "source": [
    "# 3. Paths"
   ]
  },
  {
   "cell_type": "code",
   "execution_count": 1,
   "id": "statutory-anthropology",
   "metadata": {},
   "outputs": [],
   "source": [
    "import drawsvg as dw"
   ]
  },
  {
   "cell_type": "markdown",
   "id": "neutral-reduction",
   "metadata": {},
   "source": [
    "```\n",
    "path = dw.Path(**kwargs)\n",
    "```\n",
    "The following Path specifiers are also availiable as lowercase characters. In\n",
    "that case, their movements are relative to current location.\n",
    "\n",
    "Note that in `drawsvg` it is not possible to have more than one element in a\n",
    "command. But it is possible to add the commands directly, for instance\n",
    "\n",
    "```python\n",
    "p = dw.Path()\n",
    "p.M(100,100).L(200,100).L(200,200).Z\n",
    "```"
   ]
  },
  {
   "cell_type": "markdown",
   "id": "centered-religion",
   "metadata": {},
   "source": [
    "## M = moveto\n",
    "```\n",
    "path.M(x,y)\n",
    "```\n",
    "Move to `x,y` (and draw nothing)."
   ]
  },
  {
   "cell_type": "markdown",
   "id": "acknowledged-falls",
   "metadata": {},
   "source": [
    "## L = lineto\n",
    "```\n",
    "path.L(x,y)\n",
    "```\n",
    "\n",
    "Draw a straigt line to `x,y`."
   ]
  },
  {
   "cell_type": "code",
   "execution_count": 2,
   "id": "located-identity",
   "metadata": {},
   "outputs": [
    {
     "data": {
      "image/svg+xml": [
       "<?xml version=\"1.0\" encoding=\"UTF-8\"?>\n",
       "<svg xmlns=\"http://www.w3.org/2000/svg\" xmlns:xlink=\"http://www.w3.org/1999/xlink\"\n",
       "    width=\"100\" height=\"70\" viewBox=\"0 0 100 70\">\n",
       "<defs>\n",
       "</defs>\n",
       "<g stroke=\"black\" fill=\"none\">\n",
       "<path d=\"M10,10 L100,10\" />\n",
       "<path d=\"M10,20 L100,20 L100,50\" />\n",
       "<path d=\"M40,60 L10,60 L40,42 M60,60 L90,60 L60,42\" />\n",
       "</g>\n",
       "</svg>"
      ],
      "text/plain": [
       "<drawsvg.drawing.Drawing at 0x7f1c2efbeb50>"
      ]
     },
     "execution_count": 2,
     "metadata": {},
     "output_type": "execute_result"
    }
   ],
   "source": [
    "d = dw.Drawing(100,70,id_prefix='pathL')\n",
    "g = dw.Group(stroke='black',fill='none')\n",
    "\n",
    "p = dw.Path()\n",
    "p.M(10,10).L(100,10)\n",
    "g.append(p)\n",
    "\n",
    "p = dw.Path()\n",
    "p.M(10,20).L(100,20).L(100,50)\n",
    "g.append(p)\n",
    "\n",
    "p = dw.Path()\n",
    "p.M(40,60).L(10,60).L(40,42)\n",
    "p.M(60,60).L(90,60).L(60,42)\n",
    "g.append(p)\n",
    "\n",
    "d.append(g)\n",
    "#d.save_svg('03_pL.svg')\n",
    "d"
   ]
  },
  {
   "cell_type": "markdown",
   "id": "excellent-hotel",
   "metadata": {},
   "source": [
    "## H = horizontal line\n",
    "```\n",
    "path.H(x)\n",
    "```\n",
    "\n",
    "Draw a horizontal line to the new `x` location."
   ]
  },
  {
   "cell_type": "markdown",
   "id": "protecting-medication",
   "metadata": {},
   "source": [
    "## V = vertical line\n",
    "```\n",
    "path.V(x)\n",
    "```\n",
    "\n",
    "Draw a vertical line to the new `y` location."
   ]
  },
  {
   "cell_type": "code",
   "execution_count": 3,
   "id": "dried-turkey",
   "metadata": {},
   "outputs": [
    {
     "data": {
      "image/svg+xml": [
       "<?xml version=\"1.0\" encoding=\"UTF-8\"?>\n",
       "<svg xmlns=\"http://www.w3.org/2000/svg\" xmlns:xlink=\"http://www.w3.org/1999/xlink\"\n",
       "    width=\"100\" height=\"60\" viewBox=\"0 0 100 60\">\n",
       "<defs>\n",
       "</defs>\n",
       "<path d=\"M10,10 H100 M10,20 H100 V50\" stroke=\"black\" fill=\"none\" id=\"SxzI4eTt0\" />\n",
       "<use xlink:href=\"#SxzI4eTt0\" />\n",
       "</svg>"
      ],
      "text/plain": [
       "<drawsvg.drawing.Drawing at 0x7f1c2efbed60>"
      ]
     },
     "execution_count": 3,
     "metadata": {},
     "output_type": "execute_result"
    }
   ],
   "source": [
    "d = dw.Drawing(100,60,id_prefix='pathHV')\n",
    "p = dw.Path(stroke='black',fill='none')\n",
    "d.append(p.M(10,10).H(100))\n",
    "d.append(p.M(10,20).H(100).V(50))\n",
    "#d.save_svg('03_pHV.svg')\n",
    "d"
   ]
  },
  {
   "cell_type": "markdown",
   "id": "renewable-express",
   "metadata": {},
   "source": [
    "## Q = quadratic Bézier curve (one control point)\n",
    "\n",
    "```\n",
    "path.Q(x_ctl,y_ctl,x_end,y_end)\n",
    "```\n",
    "\n",
    "Draw a quadratic Bézier curve from current location to `x_end,y_end` by means\n",
    "of `x_ctl,y_ctl`.\n"
   ]
  },
  {
   "cell_type": "code",
   "execution_count": 4,
   "id": "global-spencer",
   "metadata": {},
   "outputs": [
    {
     "data": {
      "image/svg+xml": [
       "<?xml version=\"1.0\" encoding=\"UTF-8\"?>\n",
       "<svg xmlns=\"http://www.w3.org/2000/svg\" xmlns:xlink=\"http://www.w3.org/1999/xlink\"\n",
       "    width=\"700\" height=\"130\" viewBox=\"0 0 700 130\">\n",
       "<defs>\n",
       "<path d=\"M30,75 Q240,30,300,120\" stroke=\"black\" fill=\"none\" stroke-width=\"3\" id=\"DTpOEd8V0\" />\n",
       "</defs>\n",
       "<use xlink:href=\"#DTpOEd8V0\" />\n",
       "<use xlink:href=\"#DTpOEd8V0\" x=\"300\" y=\"0\" />\n",
       "<g stroke=\"gray\" fill=\"gray\">\n",
       "<circle cx=\"330\" cy=\"75\" r=\"3\" />\n",
       "<circle cx=\"600\" cy=\"120\" r=\"3\" />\n",
       "<circle cx=\"540\" cy=\"30\" r=\"3\" />\n",
       "<path d=\"M330,75 L540,30\" />\n",
       "<path d=\"M540,30 L600,120\" />\n",
       "<path d=\"M330,75 L600,120\" stroke-dasharray=\"5,5\" />\n",
       "<circle cx=\"435\" cy=\"52.5\" r=\"3\" />\n",
       "<circle cx=\"570\" cy=\"75\" r=\"3\" />\n",
       "<path d=\"M435,52.5 L570,75\" />\n",
       "<circle cx=\"502.5\" cy=\"63.75\" r=\"4\" fill=\"none\" />\n",
       "</g>\n",
       "</svg>"
      ],
      "text/plain": [
       "<drawsvg.drawing.Drawing at 0x7f1c2efbe3d0>"
      ]
     },
     "execution_count": 4,
     "metadata": {},
     "output_type": "execute_result"
    }
   ],
   "source": [
    "d = dw.Drawing(700,130,id_prefix='pathQ')\n",
    "# curve only (left)\n",
    "p = dw.Path(stroke='black',fill='none',stroke_width=3)\n",
    "d.append(p.M(30,75).Q(240,30,300,120))\n",
    "# with control point and construction lines\n",
    "d.append(dw.Use(p,300,0))\n",
    "g = dw.Group(stroke='gray',fill='gray')\n",
    "g.append(dw.Circle(330,75,3))\n",
    "g.append(dw.Circle(600,120,3))\n",
    "g.append(dw.Circle(540,30,3))\n",
    "g.append(dw.Line(330,75,540,30))\n",
    "g.append(dw.Line(540,30,600,120))\n",
    "g.append(dw.Line(330,75,600,120,stroke_dasharray='5,5'))\n",
    "g.append(dw.Circle(435,52.5,3))\n",
    "g.append(dw.Circle(570,75,3))\n",
    "g.append(dw.Line(435,52.5,570,75))\n",
    "g.append(dw.Circle(502.5,63.75,4,fill='none'))\n",
    "d.append(g)\n",
    "#d.save_svg('03_pQ.svg')\n",
    "d"
   ]
  },
  {
   "cell_type": "markdown",
   "id": "certified-breeding",
   "metadata": {},
   "source": [
    "## T = smooth quadratic Bézier curve (generated control point)\n",
    "\n",
    "```\n",
    "path.T(x,y)\n",
    "```\n",
    "\n",
    "Draws a quadratic Bézier curve from the current point to (x,y). The control \n",
    "point is assumed to be the reflection of the control point on the previous \n",
    "command relative to the current point. (If there is no previous command or if \n",
    "the previous command was not a Q, q, T or t, assume the control point is \n",
    "coincident with the current point.) (From [W3C Doc](https://www.w3.org/TR/SVG11/paths.html#PathDataQuadraticBezierCommands))\n"
   ]
  },
  {
   "cell_type": "code",
   "execution_count": 5,
   "id": "adjusted-sampling",
   "metadata": {},
   "outputs": [
    {
     "data": {
      "image/svg+xml": [
       "<?xml version=\"1.0\" encoding=\"UTF-8\"?>\n",
       "<svg xmlns=\"http://www.w3.org/2000/svg\" xmlns:xlink=\"http://www.w3.org/1999/xlink\"\n",
       "    width=\"400\" height=\"100\" viewBox=\"0 0 400 100\">\n",
       "<defs>\n",
       "</defs>\n",
       "<path d=\"M30,60 Q80,-10,100,60 Q130,25,200,40\" stroke=\"black\" fill=\"none\" stroke-width=\"3\" />\n",
       "<path d=\"M30,60 Q80,-10,100,60 T200,40\" stroke=\"black\" fill=\"none\" stroke-width=\"3\" transform=\"translate(200,0)\" />\n",
       "</svg>"
      ],
      "text/plain": [
       "<drawsvg.drawing.Drawing at 0x7f1c3c069fa0>"
      ]
     },
     "execution_count": 5,
     "metadata": {},
     "output_type": "execute_result"
    }
   ],
   "source": [
    "d = dw.Drawing(400,100,id_prefix='pathT')\n",
    "# sequence left\n",
    "p = dw.Path(stroke='black',fill='none',stroke_width=3)\n",
    "d.append(p.M(30,60).Q(80,-10,100,60).Q(130,25,200,40))\n",
    "# with smooth continuation right\n",
    "p = dw.Path(stroke='black',fill='none',stroke_width=3,transform='translate(200,0)')\n",
    "d.append(p.M(30,60).Q(80,-10,100,60).T(200,40))\n",
    "#d.save_svg('03_pT.svg')\n",
    "d"
   ]
  },
  {
   "cell_type": "markdown",
   "id": "removed-installation",
   "metadata": {},
   "source": [
    "## C = cubic Bézier curve (two control points)\n",
    "\n",
    "```\n",
    "path.C(x_ctl_1,y_ctl_1,x_ctl_2,y_ctl_2,x_end,y_end)\n",
    "```\n",
    "\n",
    "Draw a cubic Bézier curve by means of two control points (one for start and\n",
    "one for end)."
   ]
  },
  {
   "cell_type": "code",
   "execution_count": 6,
   "id": "technical-complexity",
   "metadata": {},
   "outputs": [
    {
     "data": {
      "image/svg+xml": [
       "<?xml version=\"1.0\" encoding=\"UTF-8\"?>\n",
       "<svg xmlns=\"http://www.w3.org/2000/svg\" xmlns:xlink=\"http://www.w3.org/1999/xlink\"\n",
       "    width=\"650\" height=\"100\" viewBox=\"0 0 650 100\">\n",
       "<defs>\n",
       "</defs>\n",
       "<path d=\"M40,50 C10,10,140,10,110,50\" stroke=\"black\" fill=\"none\" stroke-width=\"3\" transform=\"translate(0,0)translate(0,0)translate(0,0)translate(0,0)translate(0,0)translate(0,0)translate(0,0)translate(0,0)translate(0,0)translate(0,0)translate(0,0)translate(0,0)translate(0,0)translate(0,0)translate(0,0)translate(0,0)translate(0,0)translate(0,0)translate(0,0)translate(0,0)translate(0,0)translate(0,0)translate(0,0)translate(0,0)translate(0,0)translate(0,0)translate(0,0)translate(0,0)translate(0,0)translate(0,0)translate(0,0)translate(0,0)translate(0,0)translate(0,0)translate(0,0)translate(0,0)translate(0,0)translate(0,0)translate(0,0)translate(0,0)translate(0,0)translate(0,0)translate(0,0)translate(0,0)translate(0,0)translate(0,0)translate(0,0)translate(0,0)translate(0,0)translate(0,0)translate(0,0)translate(0,0)translate(0,0)translate(0,0)translate(0,0)translate(0,0)translate(0,0)translate(0,0)translate(0,0)translate(0,0)translate(0,0)translate(0,0)translate(0,0)translate(0,0)translate(0,0)translate(0,0)translate(0,0)translate(0,0)translate(0,0)translate(0,0)translate(0,0)translate(0,0)translate(0,0)translate(0,0)translate(0,0)translate(0,0)translate(0,0)translate(0,0)translate(0,0)translate(0,0)translate(0,0)translate(0,0)translate(0,0)translate(0,0)translate(0,0)translate(0,0)translate(0,0)translate(0,0)translate(0,0)translate(0,0)translate(0,0)translate(0,0)translate(0,0)translate(0,0)translate(0,0)translate(0,0)translate(0,0)translate(0,0)translate(0,0)translate(0,0)\" />\n",
       "<g stroke=\"gray\" fill=\"gray\" stroke-width=\"1\" transform=\"translate(0,0)translate(0,0)translate(0,0)translate(0,0)translate(0,0)translate(0,0)translate(0,0)translate(0,0)translate(0,0)translate(0,0)translate(0,0)translate(0,0)translate(0,0)translate(0,0)translate(0,0)translate(0,0)translate(0,0)translate(0,0)translate(0,0)translate(0,0)translate(0,0)translate(0,0)translate(0,0)translate(0,0)translate(0,0)translate(0,0)translate(0,0)translate(0,0)translate(0,0)translate(0,0)translate(0,0)translate(0,0)translate(0,0)translate(0,0)translate(0,0)translate(0,0)translate(0,0)translate(0,0)translate(0,0)translate(0,0)translate(0,0)translate(0,0)translate(0,0)translate(0,0)translate(0,0)translate(0,0)translate(0,0)translate(0,0)translate(0,0)translate(0,0)translate(0,0)translate(0,0)translate(0,0)translate(0,0)translate(0,0)translate(0,0)translate(0,0)translate(0,0)translate(0,0)translate(0,0)translate(0,0)translate(0,0)translate(0,0)translate(0,0)translate(0,0)translate(0,0)translate(0,0)translate(0,0)translate(0,0)translate(0,0)translate(0,0)translate(0,0)translate(0,0)translate(0,0)translate(0,0)translate(0,0)translate(0,0)translate(0,0)translate(0,0)translate(0,0)translate(0,0)translate(0,0)translate(0,0)translate(0,0)translate(0,0)translate(0,0)translate(0,0)translate(0,0)translate(0,0)translate(0,0)translate(0,0)translate(0,0)translate(0,0)translate(0,0)translate(0,0)translate(0,0)translate(0,0)translate(0,0)translate(0,0)translate(0,0)\">\n",
       "<circle cx=\"10\" cy=\"10\" r=\"2\" />\n",
       "<circle cx=\"140\" cy=\"10\" r=\"2\" />\n",
       "<path d=\"M40,50 L10,10\" />\n",
       "<path d=\"M110,50 L140,10\" />\n",
       "</g>\n",
       "<path d=\"M40,50 C60,10,90,10,110,50\" stroke=\"black\" fill=\"none\" stroke-width=\"3\" transform=\"translate(1,0)translate(1,0)translate(1,0)translate(1,0)translate(1,0)translate(1,0)translate(1,0)translate(1,0)translate(1,0)translate(1,0)translate(1,0)translate(1,0)translate(1,0)translate(1,0)translate(1,0)translate(1,0)translate(1,0)translate(1,0)translate(1,0)translate(1,0)translate(1,0)translate(1,0)translate(1,0)translate(1,0)translate(1,0)translate(1,0)translate(1,0)translate(1,0)translate(1,0)translate(1,0)translate(1,0)translate(1,0)translate(1,0)translate(1,0)translate(1,0)translate(1,0)translate(1,0)translate(1,0)translate(1,0)translate(1,0)translate(1,0)translate(1,0)translate(1,0)translate(1,0)translate(1,0)translate(1,0)translate(1,0)translate(1,0)translate(1,0)translate(1,0)translate(1,0)translate(1,0)translate(1,0)translate(1,0)translate(1,0)translate(1,0)translate(1,0)translate(1,0)translate(1,0)translate(1,0)translate(1,0)translate(1,0)translate(1,0)translate(1,0)translate(1,0)translate(1,0)translate(1,0)translate(1,0)translate(1,0)translate(1,0)translate(1,0)translate(1,0)translate(1,0)translate(1,0)translate(1,0)translate(1,0)translate(1,0)translate(1,0)translate(1,0)translate(1,0)translate(1,0)translate(1,0)translate(1,0)translate(1,0)translate(1,0)translate(1,0)translate(1,0)translate(1,0)translate(1,0)translate(1,0)translate(1,0)translate(1,0)translate(1,0)translate(1,0)translate(1,0)translate(1,0)translate(1,0)translate(1,0)translate(1,0)translate(1,0)\" />\n",
       "<g stroke=\"gray\" fill=\"gray\" stroke-width=\"1\" transform=\"translate(1,0)translate(1,0)translate(1,0)translate(1,0)translate(1,0)translate(1,0)translate(1,0)translate(1,0)translate(1,0)translate(1,0)translate(1,0)translate(1,0)translate(1,0)translate(1,0)translate(1,0)translate(1,0)translate(1,0)translate(1,0)translate(1,0)translate(1,0)translate(1,0)translate(1,0)translate(1,0)translate(1,0)translate(1,0)translate(1,0)translate(1,0)translate(1,0)translate(1,0)translate(1,0)translate(1,0)translate(1,0)translate(1,0)translate(1,0)translate(1,0)translate(1,0)translate(1,0)translate(1,0)translate(1,0)translate(1,0)translate(1,0)translate(1,0)translate(1,0)translate(1,0)translate(1,0)translate(1,0)translate(1,0)translate(1,0)translate(1,0)translate(1,0)translate(1,0)translate(1,0)translate(1,0)translate(1,0)translate(1,0)translate(1,0)translate(1,0)translate(1,0)translate(1,0)translate(1,0)translate(1,0)translate(1,0)translate(1,0)translate(1,0)translate(1,0)translate(1,0)translate(1,0)translate(1,0)translate(1,0)translate(1,0)translate(1,0)translate(1,0)translate(1,0)translate(1,0)translate(1,0)translate(1,0)translate(1,0)translate(1,0)translate(1,0)translate(1,0)translate(1,0)translate(1,0)translate(1,0)translate(1,0)translate(1,0)translate(1,0)translate(1,0)translate(1,0)translate(1,0)translate(1,0)translate(1,0)translate(1,0)translate(1,0)translate(1,0)translate(1,0)translate(1,0)translate(1,0)translate(1,0)translate(1,0)translate(1,0)\">\n",
       "<circle cx=\"60\" cy=\"10\" r=\"2\" />\n",
       "<circle cx=\"90\" cy=\"10\" r=\"2\" />\n",
       "<path d=\"M40,50 L60,10\" />\n",
       "<path d=\"M110,50 L90,10\" />\n",
       "</g>\n",
       "<path d=\"M40,50 C110,10,40,10,110,50\" stroke=\"black\" fill=\"none\" stroke-width=\"3\" transform=\"translate(2,0)translate(2,0)translate(2,0)translate(2,0)translate(2,0)translate(2,0)translate(2,0)translate(2,0)translate(2,0)translate(2,0)translate(2,0)translate(2,0)translate(2,0)translate(2,0)translate(2,0)translate(2,0)translate(2,0)translate(2,0)translate(2,0)translate(2,0)translate(2,0)translate(2,0)translate(2,0)translate(2,0)translate(2,0)translate(2,0)translate(2,0)translate(2,0)translate(2,0)translate(2,0)translate(2,0)translate(2,0)translate(2,0)translate(2,0)translate(2,0)translate(2,0)translate(2,0)translate(2,0)translate(2,0)translate(2,0)translate(2,0)translate(2,0)translate(2,0)translate(2,0)translate(2,0)translate(2,0)translate(2,0)translate(2,0)translate(2,0)translate(2,0)translate(2,0)translate(2,0)translate(2,0)translate(2,0)translate(2,0)translate(2,0)translate(2,0)translate(2,0)translate(2,0)translate(2,0)translate(2,0)translate(2,0)translate(2,0)translate(2,0)translate(2,0)translate(2,0)translate(2,0)translate(2,0)translate(2,0)translate(2,0)translate(2,0)translate(2,0)translate(2,0)translate(2,0)translate(2,0)translate(2,0)translate(2,0)translate(2,0)translate(2,0)translate(2,0)translate(2,0)translate(2,0)translate(2,0)translate(2,0)translate(2,0)translate(2,0)translate(2,0)translate(2,0)translate(2,0)translate(2,0)translate(2,0)translate(2,0)translate(2,0)translate(2,0)translate(2,0)translate(2,0)translate(2,0)translate(2,0)translate(2,0)translate(2,0)\" />\n",
       "<g stroke=\"gray\" fill=\"gray\" stroke-width=\"1\" transform=\"translate(2,0)translate(2,0)translate(2,0)translate(2,0)translate(2,0)translate(2,0)translate(2,0)translate(2,0)translate(2,0)translate(2,0)translate(2,0)translate(2,0)translate(2,0)translate(2,0)translate(2,0)translate(2,0)translate(2,0)translate(2,0)translate(2,0)translate(2,0)translate(2,0)translate(2,0)translate(2,0)translate(2,0)translate(2,0)translate(2,0)translate(2,0)translate(2,0)translate(2,0)translate(2,0)translate(2,0)translate(2,0)translate(2,0)translate(2,0)translate(2,0)translate(2,0)translate(2,0)translate(2,0)translate(2,0)translate(2,0)translate(2,0)translate(2,0)translate(2,0)translate(2,0)translate(2,0)translate(2,0)translate(2,0)translate(2,0)translate(2,0)translate(2,0)translate(2,0)translate(2,0)translate(2,0)translate(2,0)translate(2,0)translate(2,0)translate(2,0)translate(2,0)translate(2,0)translate(2,0)translate(2,0)translate(2,0)translate(2,0)translate(2,0)translate(2,0)translate(2,0)translate(2,0)translate(2,0)translate(2,0)translate(2,0)translate(2,0)translate(2,0)translate(2,0)translate(2,0)translate(2,0)translate(2,0)translate(2,0)translate(2,0)translate(2,0)translate(2,0)translate(2,0)translate(2,0)translate(2,0)translate(2,0)translate(2,0)translate(2,0)translate(2,0)translate(2,0)translate(2,0)translate(2,0)translate(2,0)translate(2,0)translate(2,0)translate(2,0)translate(2,0)translate(2,0)translate(2,0)translate(2,0)translate(2,0)translate(2,0)\">\n",
       "<circle cx=\"110\" cy=\"10\" r=\"2\" />\n",
       "<circle cx=\"40\" cy=\"10\" r=\"2\" />\n",
       "<path d=\"M40,50 L110,10\" />\n",
       "<path d=\"M110,50 L40,10\" />\n",
       "</g>\n",
       "<path d=\"M40,50 C110,10,40,10,110,50\" stroke=\"black\" fill=\"none\" stroke-width=\"3\" transform=\"translate(3,0)translate(3,0)translate(3,0)translate(3,0)translate(3,0)translate(3,0)translate(3,0)translate(3,0)translate(3,0)translate(3,0)translate(3,0)translate(3,0)translate(3,0)translate(3,0)translate(3,0)translate(3,0)translate(3,0)translate(3,0)translate(3,0)translate(3,0)translate(3,0)translate(3,0)translate(3,0)translate(3,0)translate(3,0)translate(3,0)translate(3,0)translate(3,0)translate(3,0)translate(3,0)translate(3,0)translate(3,0)translate(3,0)translate(3,0)translate(3,0)translate(3,0)translate(3,0)translate(3,0)translate(3,0)translate(3,0)translate(3,0)translate(3,0)translate(3,0)translate(3,0)translate(3,0)translate(3,0)translate(3,0)translate(3,0)translate(3,0)translate(3,0)translate(3,0)translate(3,0)translate(3,0)translate(3,0)translate(3,0)translate(3,0)translate(3,0)translate(3,0)translate(3,0)translate(3,0)translate(3,0)translate(3,0)translate(3,0)translate(3,0)translate(3,0)translate(3,0)translate(3,0)translate(3,0)translate(3,0)translate(3,0)translate(3,0)translate(3,0)translate(3,0)translate(3,0)translate(3,0)translate(3,0)translate(3,0)translate(3,0)translate(3,0)translate(3,0)translate(3,0)translate(3,0)translate(3,0)translate(3,0)translate(3,0)translate(3,0)translate(3,0)translate(3,0)translate(3,0)translate(3,0)translate(3,0)translate(3,0)translate(3,0)translate(3,0)translate(3,0)translate(3,0)translate(3,0)translate(3,0)translate(3,0)translate(3,0)\" />\n",
       "<g stroke=\"gray\" fill=\"gray\" stroke-width=\"1\" transform=\"translate(3,0)translate(3,0)translate(3,0)translate(3,0)translate(3,0)translate(3,0)translate(3,0)translate(3,0)translate(3,0)translate(3,0)translate(3,0)translate(3,0)translate(3,0)translate(3,0)translate(3,0)translate(3,0)translate(3,0)translate(3,0)translate(3,0)translate(3,0)translate(3,0)translate(3,0)translate(3,0)translate(3,0)translate(3,0)translate(3,0)translate(3,0)translate(3,0)translate(3,0)translate(3,0)translate(3,0)translate(3,0)translate(3,0)translate(3,0)translate(3,0)translate(3,0)translate(3,0)translate(3,0)translate(3,0)translate(3,0)translate(3,0)translate(3,0)translate(3,0)translate(3,0)translate(3,0)translate(3,0)translate(3,0)translate(3,0)translate(3,0)translate(3,0)translate(3,0)translate(3,0)translate(3,0)translate(3,0)translate(3,0)translate(3,0)translate(3,0)translate(3,0)translate(3,0)translate(3,0)translate(3,0)translate(3,0)translate(3,0)translate(3,0)translate(3,0)translate(3,0)translate(3,0)translate(3,0)translate(3,0)translate(3,0)translate(3,0)translate(3,0)translate(3,0)translate(3,0)translate(3,0)translate(3,0)translate(3,0)translate(3,0)translate(3,0)translate(3,0)translate(3,0)translate(3,0)translate(3,0)translate(3,0)translate(3,0)translate(3,0)translate(3,0)translate(3,0)translate(3,0)translate(3,0)translate(3,0)translate(3,0)translate(3,0)translate(3,0)translate(3,0)translate(3,0)translate(3,0)translate(3,0)translate(3,0)translate(3,0)\">\n",
       "<circle cx=\"110\" cy=\"10\" r=\"2\" />\n",
       "<circle cx=\"40\" cy=\"10\" r=\"2\" />\n",
       "<path d=\"M40,50 L110,10\" />\n",
       "<path d=\"M110,50 L40,10\" />\n",
       "</g>\n",
       "<path d=\"M40,50 C60,10,90,90,110,50\" stroke=\"black\" fill=\"none\" stroke-width=\"3\" transform=\"translate(4,0)translate(4,0)translate(4,0)translate(4,0)translate(4,0)translate(4,0)translate(4,0)translate(4,0)translate(4,0)translate(4,0)translate(4,0)translate(4,0)translate(4,0)translate(4,0)translate(4,0)translate(4,0)translate(4,0)translate(4,0)translate(4,0)translate(4,0)translate(4,0)translate(4,0)translate(4,0)translate(4,0)translate(4,0)translate(4,0)translate(4,0)translate(4,0)translate(4,0)translate(4,0)translate(4,0)translate(4,0)translate(4,0)translate(4,0)translate(4,0)translate(4,0)translate(4,0)translate(4,0)translate(4,0)translate(4,0)translate(4,0)translate(4,0)translate(4,0)translate(4,0)translate(4,0)translate(4,0)translate(4,0)translate(4,0)translate(4,0)translate(4,0)translate(4,0)translate(4,0)translate(4,0)translate(4,0)translate(4,0)translate(4,0)translate(4,0)translate(4,0)translate(4,0)translate(4,0)translate(4,0)translate(4,0)translate(4,0)translate(4,0)translate(4,0)translate(4,0)translate(4,0)translate(4,0)translate(4,0)translate(4,0)translate(4,0)translate(4,0)translate(4,0)translate(4,0)translate(4,0)translate(4,0)translate(4,0)translate(4,0)translate(4,0)translate(4,0)translate(4,0)translate(4,0)translate(4,0)translate(4,0)translate(4,0)translate(4,0)translate(4,0)translate(4,0)translate(4,0)translate(4,0)translate(4,0)translate(4,0)translate(4,0)translate(4,0)translate(4,0)translate(4,0)translate(4,0)translate(4,0)translate(4,0)translate(4,0)\" />\n",
       "<g stroke=\"gray\" fill=\"gray\" stroke-width=\"1\" transform=\"translate(4,0)translate(4,0)translate(4,0)translate(4,0)translate(4,0)translate(4,0)translate(4,0)translate(4,0)translate(4,0)translate(4,0)translate(4,0)translate(4,0)translate(4,0)translate(4,0)translate(4,0)translate(4,0)translate(4,0)translate(4,0)translate(4,0)translate(4,0)translate(4,0)translate(4,0)translate(4,0)translate(4,0)translate(4,0)translate(4,0)translate(4,0)translate(4,0)translate(4,0)translate(4,0)translate(4,0)translate(4,0)translate(4,0)translate(4,0)translate(4,0)translate(4,0)translate(4,0)translate(4,0)translate(4,0)translate(4,0)translate(4,0)translate(4,0)translate(4,0)translate(4,0)translate(4,0)translate(4,0)translate(4,0)translate(4,0)translate(4,0)translate(4,0)translate(4,0)translate(4,0)translate(4,0)translate(4,0)translate(4,0)translate(4,0)translate(4,0)translate(4,0)translate(4,0)translate(4,0)translate(4,0)translate(4,0)translate(4,0)translate(4,0)translate(4,0)translate(4,0)translate(4,0)translate(4,0)translate(4,0)translate(4,0)translate(4,0)translate(4,0)translate(4,0)translate(4,0)translate(4,0)translate(4,0)translate(4,0)translate(4,0)translate(4,0)translate(4,0)translate(4,0)translate(4,0)translate(4,0)translate(4,0)translate(4,0)translate(4,0)translate(4,0)translate(4,0)translate(4,0)translate(4,0)translate(4,0)translate(4,0)translate(4,0)translate(4,0)translate(4,0)translate(4,0)translate(4,0)translate(4,0)translate(4,0)translate(4,0)\">\n",
       "<circle cx=\"60\" cy=\"10\" r=\"2\" />\n",
       "<circle cx=\"90\" cy=\"90\" r=\"2\" />\n",
       "<path d=\"M40,50 L60,10\" />\n",
       "<path d=\"M110,50 L90,90\" />\n",
       "</g>\n",
       "<path d=\"M40,50 C110,10,40,90,110,50\" stroke=\"black\" fill=\"none\" stroke-width=\"3\" transform=\"translate(5,0)translate(5,0)translate(5,0)translate(5,0)translate(5,0)translate(5,0)translate(5,0)translate(5,0)translate(5,0)translate(5,0)translate(5,0)translate(5,0)translate(5,0)translate(5,0)translate(5,0)translate(5,0)translate(5,0)translate(5,0)translate(5,0)translate(5,0)translate(5,0)translate(5,0)translate(5,0)translate(5,0)translate(5,0)translate(5,0)translate(5,0)translate(5,0)translate(5,0)translate(5,0)translate(5,0)translate(5,0)translate(5,0)translate(5,0)translate(5,0)translate(5,0)translate(5,0)translate(5,0)translate(5,0)translate(5,0)translate(5,0)translate(5,0)translate(5,0)translate(5,0)translate(5,0)translate(5,0)translate(5,0)translate(5,0)translate(5,0)translate(5,0)translate(5,0)translate(5,0)translate(5,0)translate(5,0)translate(5,0)translate(5,0)translate(5,0)translate(5,0)translate(5,0)translate(5,0)translate(5,0)translate(5,0)translate(5,0)translate(5,0)translate(5,0)translate(5,0)translate(5,0)translate(5,0)translate(5,0)translate(5,0)translate(5,0)translate(5,0)translate(5,0)translate(5,0)translate(5,0)translate(5,0)translate(5,0)translate(5,0)translate(5,0)translate(5,0)translate(5,0)translate(5,0)translate(5,0)translate(5,0)translate(5,0)translate(5,0)translate(5,0)translate(5,0)translate(5,0)translate(5,0)translate(5,0)translate(5,0)translate(5,0)translate(5,0)translate(5,0)translate(5,0)translate(5,0)translate(5,0)translate(5,0)translate(5,0)\" />\n",
       "<g stroke=\"gray\" fill=\"gray\" stroke-width=\"1\" transform=\"translate(5,0)translate(5,0)translate(5,0)translate(5,0)translate(5,0)translate(5,0)translate(5,0)translate(5,0)translate(5,0)translate(5,0)translate(5,0)translate(5,0)translate(5,0)translate(5,0)translate(5,0)translate(5,0)translate(5,0)translate(5,0)translate(5,0)translate(5,0)translate(5,0)translate(5,0)translate(5,0)translate(5,0)translate(5,0)translate(5,0)translate(5,0)translate(5,0)translate(5,0)translate(5,0)translate(5,0)translate(5,0)translate(5,0)translate(5,0)translate(5,0)translate(5,0)translate(5,0)translate(5,0)translate(5,0)translate(5,0)translate(5,0)translate(5,0)translate(5,0)translate(5,0)translate(5,0)translate(5,0)translate(5,0)translate(5,0)translate(5,0)translate(5,0)translate(5,0)translate(5,0)translate(5,0)translate(5,0)translate(5,0)translate(5,0)translate(5,0)translate(5,0)translate(5,0)translate(5,0)translate(5,0)translate(5,0)translate(5,0)translate(5,0)translate(5,0)translate(5,0)translate(5,0)translate(5,0)translate(5,0)translate(5,0)translate(5,0)translate(5,0)translate(5,0)translate(5,0)translate(5,0)translate(5,0)translate(5,0)translate(5,0)translate(5,0)translate(5,0)translate(5,0)translate(5,0)translate(5,0)translate(5,0)translate(5,0)translate(5,0)translate(5,0)translate(5,0)translate(5,0)translate(5,0)translate(5,0)translate(5,0)translate(5,0)translate(5,0)translate(5,0)translate(5,0)translate(5,0)translate(5,0)translate(5,0)translate(5,0)\">\n",
       "<circle cx=\"110\" cy=\"10\" r=\"2\" />\n",
       "<circle cx=\"40\" cy=\"90\" r=\"2\" />\n",
       "<path d=\"M40,50 L110,10\" />\n",
       "<path d=\"M110,50 L40,90\" />\n",
       "</g>\n",
       "</svg>"
      ],
      "text/plain": [
       "<drawsvg.drawing.Drawing at 0x7f1c2efcb3d0>"
      ]
     },
     "execution_count": 6,
     "metadata": {},
     "output_type": "execute_result"
    }
   ],
   "source": [
    "d = dw.Drawing(650,100,id_prefix='pathC')\n",
    "pnt_1 = (40,50)\n",
    "pnt_2 = (110,50)\n",
    "ctl_1_x = (10,60,110,110,60,110)\n",
    "ctls_2 = ((140,10),(90,10),(40,10),(40,10),(90,90),(40,90))\n",
    "\n",
    "for i in range(6):\n",
    "    trans = 'translate(%d,0)' % i*100\n",
    "    p = dw.Path(stroke='black',fill='none',stroke_width=3,transform=trans)\n",
    "    ctl_1 = (ctl_1_x[i],10)\n",
    "    ctl_2 = ctls_2[i]\n",
    "    p.M(*pnt_1)\n",
    "    p.C(*ctl_1,*ctl_2,*pnt_2)\n",
    "    d.append(p)\n",
    "    g = dw.Group(stroke='gray',fill='gray',stroke_width=1,transform=trans)\n",
    "    g.append(dw.Circle(*ctl_1,2))\n",
    "    g.append(dw.Circle(*ctl_2,2))\n",
    "    g.append(dw.Line(*pnt_1,*ctl_1))\n",
    "    g.append(dw.Line(*pnt_2,*ctl_2))\n",
    "    d.append(g)\n",
    "#d.save_svg('03_pC.svg')\n",
    "d"
   ]
  },
  {
   "cell_type": "markdown",
   "id": "graduate-trace",
   "metadata": {},
   "source": [
    "## S = smooth cubic Bézier (one control point)\n",
    "\n",
    "Similar to `T` in quadratic Bézier curve. The first control point is calculated \n",
    "as reflection of the previous second control point.\n",
    "\n",
    "```\n",
    "path.S(x_ctl_2,y_ctl_2,x_end,y_end)\n",
    "```"
   ]
  },
  {
   "cell_type": "code",
   "execution_count": 7,
   "id": "congressional-event",
   "metadata": {},
   "outputs": [
    {
     "data": {
      "image/svg+xml": [
       "<?xml version=\"1.0\" encoding=\"UTF-8\"?>\n",
       "<svg xmlns=\"http://www.w3.org/2000/svg\" xmlns:xlink=\"http://www.w3.org/1999/xlink\"\n",
       "    width=\"250\" height=\"150\" viewBox=\"0 0 250 150\">\n",
       "<defs>\n",
       "</defs>\n",
       "<path d=\"M30,100 C50,30,70,50,100,100 S150,40,200,80\" stroke=\"black\" fill=\"none\" stroke-width=\"3\" />\n",
       "<circle cx=\"30\" cy=\"100\" r=\"4\" />\n",
       "<circle cx=\"50\" cy=\"30\" r=\"2\" stroke=\"gray\" fill=\"gray\" />\n",
       "<path d=\"M30,100 L50,30\" stroke=\"gray\" />\n",
       "<circle cx=\"100\" cy=\"100\" r=\"4\" />\n",
       "<circle cx=\"70\" cy=\"50\" r=\"2\" stroke=\"gray\" fill=\"gray\" />\n",
       "<path d=\"M100,100 L70,50\" stroke=\"gray\" />\n",
       "<circle cx=\"200\" cy=\"80\" r=\"4\" />\n",
       "<circle cx=\"150\" cy=\"40\" r=\"2\" stroke=\"gray\" fill=\"gray\" />\n",
       "<path d=\"M200,80 L150,40\" stroke=\"gray\" />\n",
       "</svg>"
      ],
      "text/plain": [
       "<drawsvg.drawing.Drawing at 0x7f1c2efcb790>"
      ]
     },
     "execution_count": 7,
     "metadata": {},
     "output_type": "execute_result"
    }
   ],
   "source": [
    "d = dw.Drawing(250,150,id_prefix='pathS')\n",
    "pnt_1 = (30,100)\n",
    "pnt_2 = (100,100)\n",
    "pnt_3 = (200,80)\n",
    "ctl_1 = (50,30)\n",
    "ctl_2 = (70,50)\n",
    "ctl_3 = (150,40)\n",
    "\n",
    "p = dw.Path(stroke='black',fill='none',stroke_width=3)\n",
    "p.M(*pnt_1)\n",
    "p.C(*ctl_1,*ctl_2,*pnt_2)\n",
    "p.S(*ctl_3,*pnt_3)\n",
    "d.append(p)\n",
    "\n",
    "for pnt,ctl in zip((pnt_1,pnt_2,pnt_3),(ctl_1,ctl_2,ctl_3)):\n",
    "    d.append(dw.Circle(*pnt,4))\n",
    "    d.append(dw.Circle(*ctl,2,stroke='gray',fill='gray'))\n",
    "    d.append(dw.Line(*pnt,*ctl,stroke='gray'))\n",
    "#d.save_svg('03_pS.svg')\n",
    "d"
   ]
  },
  {
   "cell_type": "markdown",
   "id": "dangerous-virginia",
   "metadata": {},
   "source": [
    "## A = elliptical Arc\n",
    "\n",
    "```\n",
    "path.A(rx,ry,rot,largeArc,sweep,ex,ey)\n",
    "\trx,ry = radius \n",
    "\trot = x-axis rotation\n",
    "\tlargeArc = 1 or 0\n",
    "\tsweep = 1 (positive) or 0 (negative) angle\n",
    "\tex,ey = end point\n",
    "```"
   ]
  },
  {
   "cell_type": "code",
   "execution_count": 9,
   "id": "polar-provision",
   "metadata": {},
   "outputs": [
    {
     "data": {
      "image/svg+xml": [
       "<?xml version=\"1.0\" encoding=\"UTF-8\"?>\n",
       "<svg xmlns=\"http://www.w3.org/2000/svg\" xmlns:xlink=\"http://www.w3.org/1999/xlink\"\n",
       "    width=\"400\" height=\"200\" viewBox=\"0 0 400 200\" stroke-width=\"3\" fill=\"none\">\n",
       "<defs>\n",
       "</defs>\n",
       "<path d=\"M125,75 A100,50,0,0,0,225,125\" stroke=\"red\" />\n",
       "<path d=\"M125,75 A100,50,0,0,1,225,125\" stroke=\"blue\" />\n",
       "<path d=\"M125,75 A100,50,0,1,0,225,125\" stroke=\"rgb(0 80 255)\" stroke-dasharray=\"5 3\" />\n",
       "<path d=\"M125,75 A100,50,0,1,1,225,125\" stroke=\"rgb(255 80 0)\" stroke-dasharray=\"5 3\" />\n",
       "</svg>"
      ],
      "text/plain": [
       "<drawsvg.drawing.Drawing at 0x7f1c3f1ccdc0>"
      ]
     },
     "execution_count": 9,
     "metadata": {},
     "output_type": "execute_result"
    }
   ],
   "source": [
    "d = dw.Drawing(400,200,id_prefix='pathA',stroke_width=3,fill='none')\n",
    "p = dw.Path(stroke='red')\n",
    "d.append(p.M(125,75).A(100,50,rot=0,large_arc=0,sweep=0,ex=225,ey=125))\n",
    "p = dw.Path(stroke='blue')\n",
    "d.append(p.M(125,75).A(100,50,rot=0,large_arc=0,sweep=1,ex=225,ey=125))\n",
    "p = dw.Path(stroke='rgb(0 80 255)',stroke_dasharray='5 3')\n",
    "d.append(p.M(125,75).A(100,50,rot=0,large_arc=1,sweep=0,ex=225,ey=125))\n",
    "p = dw.Path(stroke='rgb(255 80 0)',stroke_dasharray='5 3')\n",
    "d.append(p.M(125,75).A(100,50,rot=0,large_arc=1,sweep=1,ex=225,ey=125))\n",
    "#d.save_svg('03_pA.svg')\n",
    "d"
   ]
  },
  {
   "cell_type": "markdown",
   "id": "suspended-entity",
   "metadata": {},
   "source": [
    "## Z = closepath  \n",
    "\n",
    "```\n",
    "path.Z()\n",
    "```\n",
    "\n",
    "Close the path."
   ]
  },
  {
   "cell_type": "code",
   "execution_count": 10,
   "id": "under-subscriber",
   "metadata": {},
   "outputs": [
    {
     "data": {
      "image/svg+xml": [
       "<?xml version=\"1.0\" encoding=\"UTF-8\"?>\n",
       "<svg xmlns=\"http://www.w3.org/2000/svg\" xmlns:xlink=\"http://www.w3.org/1999/xlink\"\n",
       "    width=\"90\" height=\"70\" viewBox=\"0 0 90 70\">\n",
       "<defs>\n",
       "</defs>\n",
       "<path d=\"M10,10 h30 v50 h-30 Z M50,10 h30 v50 Z\" stroke=\"black\" fill=\"none\" id=\"NX9on7Lz0\" />\n",
       "<use xlink:href=\"#NX9on7Lz0\" />\n",
       "</svg>"
      ],
      "text/plain": [
       "<drawsvg.drawing.Drawing at 0x7f1c2efcf730>"
      ]
     },
     "execution_count": 10,
     "metadata": {},
     "output_type": "execute_result"
    }
   ],
   "source": [
    "d = dw.Drawing(90,70,id_prefix='pathZ')\n",
    "p = dw.Path(stroke='black',fill='none')\n",
    "d.append(p.M(10,10).h(30).v(50).h(-30).Z())\n",
    "d.append(p.M(50,10).h(30).v(50).Z())\n",
    "#d.save_svg('03_pZ.svg')\n",
    "d"
   ]
  },
  {
   "cell_type": "code",
   "execution_count": null,
   "id": "physical-garden",
   "metadata": {},
   "outputs": [],
   "source": []
  }
 ],
 "metadata": {
  "kernelspec": {
   "display_name": "Python 3",
   "language": "python",
   "name": "python3"
  },
  "language_info": {
   "codemirror_mode": {
    "name": "ipython",
    "version": 3
   },
   "file_extension": ".py",
   "mimetype": "text/x-python",
   "name": "python",
   "nbconvert_exporter": "python",
   "pygments_lexer": "ipython3",
   "version": "3.9.2"
  }
 },
 "nbformat": 4,
 "nbformat_minor": 5
}
