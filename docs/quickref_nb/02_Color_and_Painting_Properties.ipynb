{
 "cells": [
  {
   "cell_type": "markdown",
   "id": "given-reality",
   "metadata": {},
   "source": [
    "# 2. Color and Painting Properties"
   ]
  },
  {
   "cell_type": "markdown",
   "id": "brown-nicholas",
   "metadata": {},
   "source": [
    "For a full list, see [W3C specifications](https://www.w3.org/TR/SVG11/styling.html)."
   ]
  },
  {
   "cell_type": "code",
   "execution_count": 1,
   "id": "religious-gathering",
   "metadata": {},
   "outputs": [],
   "source": [
    "import drawsvg as dw"
   ]
  },
  {
   "cell_type": "markdown",
   "id": "religious-apartment",
   "metadata": {},
   "source": [
    "## `fill` and `stroke_color`"
   ]
  },
  {
   "cell_type": "markdown",
   "id": "promotional-animation",
   "metadata": {},
   "source": [
    "Possible color keyword names are: `aqua , black , blue , fuchsia , gray , green ,\n",
    "lime , maroon , navy , olive , purple , red , silver , teal , white`, and `yellow`.\n",
    "\n",
    "Or `#rrggbb`, or `#rgb` (hexadecimal) or `rgb(R,G,B)` with 0-255 or with 0-100% for each value."
   ]
  },
  {
   "cell_type": "code",
   "execution_count": 2,
   "id": "specified-moore",
   "metadata": {},
   "outputs": [
    {
     "data": {
      "image/svg+xml": [
       "<?xml version=\"1.0\" encoding=\"UTF-8\"?>\n",
       "<svg xmlns=\"http://www.w3.org/2000/svg\" xmlns:xlink=\"http://www.w3.org/1999/xlink\"\n",
       "    width=\"100\" height=\"60\" viewBox=\"0 0 100 60\">\n",
       "<defs>\n",
       "</defs>\n",
       "<path d=\"M10,10 L80,10\" stroke=\"red\" stroke-width=\"5\" />\n",
       "<path d=\"M10,20 L80,20\" stroke=\"#9f9\" stroke-width=\"5\" />\n",
       "<path d=\"M10,30 L80,30\" stroke=\"#9999ff\" stroke-width=\"5\" />\n",
       "<path d=\"M10,40 L80,40\" stroke=\"rgb(255,128,64)\" stroke-width=\"5\" />\n",
       "<path d=\"M10,50 L80,50\" stroke=\"rgb(60%,20%,60%)\" stroke-width=\"5\" />\n",
       "</svg>"
      ],
      "text/plain": [
       "<drawsvg.drawing.Drawing at 0x7fc4027b6370>"
      ]
     },
     "execution_count": 2,
     "metadata": {},
     "output_type": "execute_result"
    }
   ],
   "source": [
    "d = dw.Drawing(100,60,id_prefix='fsc')\n",
    "c = ['red', '#9f9', '#9999ff', 'rgb(255,128,64)', 'rgb(60%,20%,60%)']\n",
    "for i in range(5):\n",
    "    y = (i+1)*10\n",
    "    d.append(dw.Line(10,y,80,y,stroke=c[i],stroke_width=5))\n",
    "#d.save_svg('02_fsc.svg')\n",
    "d"
   ]
  },
  {
   "cell_type": "markdown",
   "id": "noticed-instruction",
   "metadata": {},
   "source": [
    "### `fill_opacity` and `stroke_opacity`"
   ]
  },
  {
   "cell_type": "markdown",
   "id": "turned-watts",
   "metadata": {},
   "source": [
    "0 = transparent, 1 = solid."
   ]
  },
  {
   "cell_type": "code",
   "execution_count": 3,
   "id": "bound-massage",
   "metadata": {},
   "outputs": [
    {
     "data": {
      "image/svg+xml": [
       "<?xml version=\"1.0\" encoding=\"UTF-8\"?>\n",
       "<svg xmlns=\"http://www.w3.org/2000/svg\" xmlns:xlink=\"http://www.w3.org/1999/xlink\"\n",
       "    width=\"300\" height=\"100\" viewBox=\"0 0 300 100\">\n",
       "<defs>\n",
       "</defs>\n",
       "<path d=\"M0,10 L290,10\" stroke=\"black\" stroke-width=\"5\" stroke-opacity=\"0.1\" />\n",
       "<rect x=\"0\" y=\"70\" width=\"50\" height=\"50\" fill=\"red\" fill-opacity=\"0.1\" />\n",
       "<path d=\"M0,20 L290,20\" stroke=\"black\" stroke-width=\"5\" stroke-opacity=\"0.30000000000000004\" />\n",
       "<rect x=\"60\" y=\"70\" width=\"50\" height=\"50\" fill=\"red\" fill-opacity=\"0.30000000000000004\" />\n",
       "<path d=\"M0,30 L290,30\" stroke=\"black\" stroke-width=\"5\" stroke-opacity=\"0.5\" />\n",
       "<rect x=\"120\" y=\"70\" width=\"50\" height=\"50\" fill=\"red\" fill-opacity=\"0.5\" />\n",
       "<path d=\"M0,40 L290,40\" stroke=\"black\" stroke-width=\"5\" stroke-opacity=\"0.7\" />\n",
       "<rect x=\"180\" y=\"70\" width=\"50\" height=\"50\" fill=\"red\" fill-opacity=\"0.7\" />\n",
       "<path d=\"M0,50 L290,50\" stroke=\"black\" stroke-width=\"5\" stroke-opacity=\"0.9\" />\n",
       "<rect x=\"240\" y=\"70\" width=\"50\" height=\"50\" fill=\"red\" fill-opacity=\"0.9\" />\n",
       "</svg>"
      ],
      "text/plain": [
       "<drawsvg.drawing.Drawing at 0x7fc41292fe50>"
      ]
     },
     "execution_count": 3,
     "metadata": {},
     "output_type": "execute_result"
    }
   ],
   "source": [
    "d = dw.Drawing(300,100,id_prefix='foso')\n",
    "for i in range(5):\n",
    "    y = (i+1)*10\n",
    "    d.append(dw.Line(0,y,290,y,stroke='black',stroke_width=5,stroke_opacity=i/5+0.1))\n",
    "    d.append(dw.Rectangle(i*60,70,50,50,fill='red',fill_opacity=i/5+0.1))\n",
    "#d.save_svg('02_foso.svg')\n",
    "d"
   ]
  },
  {
   "cell_type": "markdown",
   "id": "ethical-devices",
   "metadata": {},
   "source": [
    "### `stroke_dasharray`"
   ]
  },
  {
   "cell_type": "code",
   "execution_count": 4,
   "id": "sexual-donna",
   "metadata": {},
   "outputs": [
    {
     "data": {
      "image/svg+xml": [
       "<?xml version=\"1.0\" encoding=\"UTF-8\"?>\n",
       "<svg xmlns=\"http://www.w3.org/2000/svg\" xmlns:xlink=\"http://www.w3.org/1999/xlink\"\n",
       "    width=\"110\" height=\"40\" viewBox=\"0 0 110 40\">\n",
       "<defs>\n",
       "</defs>\n",
       "<path d=\"M10,30 L100,30\" stroke-dasharray=\"9,5\" stroke=\"black\" stroke-width=\"2\" />\n",
       "<path d=\"M10,20 L100,20\" stroke-dasharray=\"5,3,9,2\" stroke=\"black\" stroke-width=\"2\" />\n",
       "<path d=\"M10,10 L100,10\" stroke-dasharray=\"9,3,5\" stroke=\"black\" stroke-width=\"2\" />\n",
       "</svg>"
      ],
      "text/plain": [
       "<drawsvg.drawing.Drawing at 0x7fc4128d1610>"
      ]
     },
     "execution_count": 4,
     "metadata": {},
     "output_type": "execute_result"
    }
   ],
   "source": [
    "d = dw.Drawing(110,40,id_prefix='dash')\n",
    "# nine-pixel dash, five-pixel gap\n",
    "d.append(dw.Line(10,30,100,30,stroke_dasharray='9,5',stroke='black',stroke_width=2))\n",
    "# five-pixel dash, three-pixel gap, nine-pixel dash, two-pixel gap\n",
    "d.append(dw.Line(10,20,100,20,stroke_dasharray='5,3,9,2',stroke='black',stroke_width=2))\n",
    "# Odd number of entries is duplicated\n",
    "d.append(dw.Line(10,10,100,10,stroke_dasharray='9,3,5',stroke='black',stroke_width=2))\n",
    "#d.save_svg('02_dash.svg')\n",
    "d"
   ]
  },
  {
   "cell_type": "markdown",
   "id": "animated-diamond",
   "metadata": {},
   "source": [
    "###  `stroke_width`"
   ]
  },
  {
   "cell_type": "code",
   "execution_count": 5,
   "id": "historical-helena",
   "metadata": {},
   "outputs": [
    {
     "data": {
      "image/svg+xml": [
       "<?xml version=\"1.0\" encoding=\"UTF-8\"?>\n",
       "<svg xmlns=\"http://www.w3.org/2000/svg\" xmlns:xlink=\"http://www.w3.org/1999/xlink\"\n",
       "    width=\"320\" height=\"100\" viewBox=\"0 0 320 100\">\n",
       "<defs>\n",
       "</defs>\n",
       "<path d=\"M15,10 L15,90\" stroke=\"black\" stroke-width=\"11\" />\n",
       "<path d=\"M30,10 L30,90\" stroke=\"black\" stroke-width=\"10\" />\n",
       "<path d=\"M45,10 L45,90\" stroke=\"black\" stroke-width=\"9\" />\n",
       "<path d=\"M60,10 L60,90\" stroke=\"black\" stroke-width=\"8\" />\n",
       "<path d=\"M75,10 L75,90\" stroke=\"black\" stroke-width=\"7\" />\n",
       "<path d=\"M90,10 L90,90\" stroke=\"black\" stroke-width=\"6\" />\n",
       "<path d=\"M105,10 L105,90\" stroke=\"black\" stroke-width=\"5\" />\n",
       "<path d=\"M120,10 L120,90\" stroke=\"black\" stroke-width=\"4\" />\n",
       "<path d=\"M135,10 L135,90\" stroke=\"black\" stroke-width=\"3\" />\n",
       "<path d=\"M150,10 L150,90\" stroke=\"black\" stroke-width=\"2\" />\n",
       "<path d=\"M165,10 L165,90\" stroke=\"black\" stroke-width=\"1\" />\n",
       "<path d=\"M180,10 L180,90\" stroke=\"black\" stroke-width=\"2\" />\n",
       "<path d=\"M195,10 L195,90\" stroke=\"black\" stroke-width=\"3\" />\n",
       "<path d=\"M210,10 L210,90\" stroke=\"black\" stroke-width=\"4\" />\n",
       "<path d=\"M225,10 L225,90\" stroke=\"black\" stroke-width=\"5\" />\n",
       "<path d=\"M240,10 L240,90\" stroke=\"black\" stroke-width=\"6\" />\n",
       "<path d=\"M255,10 L255,90\" stroke=\"black\" stroke-width=\"7\" />\n",
       "<path d=\"M270,10 L270,90\" stroke=\"black\" stroke-width=\"8\" />\n",
       "<path d=\"M285,10 L285,90\" stroke=\"black\" stroke-width=\"9\" />\n",
       "<path d=\"M300,10 L300,90\" stroke=\"black\" stroke-width=\"10\" />\n",
       "</svg>"
      ],
      "text/plain": [
       "<drawsvg.drawing.Drawing at 0x7fc4027b6af0>"
      ]
     },
     "execution_count": 5,
     "metadata": {},
     "output_type": "execute_result"
    }
   ],
   "source": [
    "d = dw.Drawing(320,100,id_prefix='strokewdth')\n",
    "for i in range(20):\n",
    "    d.append(dw.Line((i+1)*15,10,(i+1)*15,90,stroke='black',stroke_width=abs(10-i)+1))\n",
    "#d.save_svg('02_strokewdth.svg')\n",
    "d"
   ]
  },
  {
   "cell_type": "markdown",
   "id": "molecular-medication",
   "metadata": {},
   "source": [
    "### `stroke_linecap`"
   ]
  },
  {
   "cell_type": "markdown",
   "id": "signal-ratio",
   "metadata": {},
   "source": [
    "`stroke_linecap` can be set to `butt , round`, or `square`. \n",
    "\n",
    "Note that the latter two extend beyond the coordinates."
   ]
  },
  {
   "cell_type": "code",
   "execution_count": 6,
   "id": "casual-bruce",
   "metadata": {},
   "outputs": [
    {
     "data": {
      "image/svg+xml": [
       "<?xml version=\"1.0\" encoding=\"UTF-8\"?>\n",
       "<svg xmlns=\"http://www.w3.org/2000/svg\" xmlns:xlink=\"http://www.w3.org/1999/xlink\"\n",
       "    width=\"150\" height=\"100\" viewBox=\"0 0 150 100\">\n",
       "<defs>\n",
       "</defs>\n",
       "<path d=\"M10,15 L50,15\" stroke=\"black\" stroke-linecap=\"butt\" stroke-width=\"15\" />\n",
       "<path d=\"M10,45 L50,45\" stroke=\"black\" stroke-linecap=\"round\" stroke-width=\"15\" />\n",
       "<path d=\"M10,75 L50,75\" stroke=\"black\" stroke-linecap=\"square\" stroke-width=\"15\" />\n",
       "<path d=\"M10,0 L10,100\" stroke=\"#999\" />\n",
       "<path d=\"M50,0 L50,100\" stroke=\"#999\" />\n",
       "</svg>"
      ],
      "text/plain": [
       "<drawsvg.drawing.Drawing at 0x7fc402749d90>"
      ]
     },
     "execution_count": 6,
     "metadata": {},
     "output_type": "execute_result"
    }
   ],
   "source": [
    "d = dw.Drawing(150,100,id_prefix='linecap')\n",
    "d.append(dw.Line(10,15,50,15,stroke='black',stroke_linecap='butt',stroke_width=15))\n",
    "d.append(dw.Line(10,45,50,45,stroke='black',stroke_linecap='round',stroke_width=15))\n",
    "d.append(dw.Line(10,75,50,75,stroke='black',stroke_linecap='square',stroke_width=15))\n",
    "# guide lines\n",
    "d.append(dw.Lines(10,0,10,100,stroke='#999'))\n",
    "d.append(dw.Lines(50,0,50,100,stroke='#999'))\n",
    "#d.save_svg('02_linecap.svg')\n",
    "d"
   ]
  },
  {
   "cell_type": "markdown",
   "id": "color-marking",
   "metadata": {},
   "source": [
    "## `stroke_linejoin`"
   ]
  },
  {
   "cell_type": "markdown",
   "id": "downtown-decade",
   "metadata": {},
   "source": [
    "Define the way lines connect at a corner with `stroke-linejoin`: `miter` (pointed),\n",
    "`round`, or `bevel` (flat)."
   ]
  },
  {
   "cell_type": "code",
   "execution_count": 7,
   "id": "rotary-yukon",
   "metadata": {},
   "outputs": [
    {
     "data": {
      "image/svg+xml": [
       "<?xml version=\"1.0\" encoding=\"UTF-8\"?>\n",
       "<svg xmlns=\"http://www.w3.org/2000/svg\" xmlns:xlink=\"http://www.w3.org/1999/xlink\"\n",
       "    width=\"300\" height=\"100\" viewBox=\"0 0 300 100\">\n",
       "<defs>\n",
       "</defs>\n",
       "<path d=\"M0,20 L300,20\" stroke=\"gray\" />\n",
       "<g stroke-width=\"20\" stroke=\"black\" fill=\"none\">\n",
       "<path d=\"M10,80 L50,20 L90,80\" stroke-linejoin=\"miter\" />\n",
       "<path d=\"M110,80 L150,20 L190,80\" stroke-linejoin=\"round\" />\n",
       "<path d=\"M210,80 L250,20 L290,80\" stroke-linejoin=\"bevel\" />\n",
       "</g>\n",
       "</svg>"
      ],
      "text/plain": [
       "<drawsvg.drawing.Drawing at 0x7fc4027592b0>"
      ]
     },
     "execution_count": 7,
     "metadata": {},
     "output_type": "execute_result"
    }
   ],
   "source": [
    "d = dw.Drawing(300,100,id_prefix='join')\n",
    "d.append(dw.Line(0,20,300,20,stroke='gray'))\n",
    "g = dw.Group(stroke_width=20,stroke='black',fill='none')\n",
    "g.append(dw.Lines(10,80,50,20,90,80,stroke_linejoin='miter'))\n",
    "g.append(dw.Lines(110,80,150,20,190,80,stroke_linejoin='round'))\n",
    "g.append(dw.Lines(210,80,250,20,290,80,stroke_linejoin='bevel'))\n",
    "d.append(g)\n",
    "#d.save_svg('02_join.svg')\n",
    "d"
   ]
  },
  {
   "cell_type": "markdown",
   "id": "practical-rouge",
   "metadata": {},
   "source": [
    "## `stroke-miterlimit`"
   ]
  },
  {
   "cell_type": "markdown",
   "id": "perceived-seller",
   "metadata": {},
   "source": [
    "When two line segments meet at a sharp angle and miter joins have been specified \n",
    "for `stroke-linejoin`, it is possible for the miter to extend far beyond the \n",
    "thickness of the line stroking the path. The `stroke-miterlimit` imposes a \n",
    "limit on the ratio of the miter length to the `stroke-width`. \n",
    "When the limit is exceeded, the join is converted from a miter to a bevel.\n",
    "(From [W3C doc](https://www.w3.org/TR/SVG11/painting.html#StrokeMiterlimitProperty))"
   ]
  },
  {
   "cell_type": "code",
   "execution_count": 8,
   "id": "attended-grammar",
   "metadata": {},
   "outputs": [
    {
     "data": {
      "image/svg+xml": [
       "<?xml version=\"1.0\" encoding=\"UTF-8\"?>\n",
       "<svg xmlns=\"http://www.w3.org/2000/svg\" xmlns:xlink=\"http://www.w3.org/1999/xlink\"\n",
       "    width=\"300\" height=\"100\" viewBox=\"0 0 300 100\">\n",
       "<defs>\n",
       "</defs>\n",
       "<path d=\"M0,30 L300,30\" stroke=\"gray\" />\n",
       "<g stroke-width=\"20\" stroke=\"black\" fill=\"none\" stroke-linejoin=\"miter\">\n",
       "<path d=\"M10,90 L40,30 L70,90\" />\n",
       "<path d=\"M100,90 L130,30 L160,90\" stroke-miterlimit=\"2.3\" />\n",
       "<path d=\"M190,90 L220,30 L250,90\" stroke-miterlimit=\"1\" />\n",
       "</g>\n",
       "</svg>"
      ],
      "text/plain": [
       "<drawsvg.drawing.Drawing at 0x7fc40275ac10>"
      ]
     },
     "execution_count": 8,
     "metadata": {},
     "output_type": "execute_result"
    }
   ],
   "source": [
    "d = dw.Drawing(300,100,id_prefix='mlimit')\n",
    "d.append(dw.Line(0,30,300,30,stroke='gray'))\n",
    "g = dw.Group(stroke_width=20,stroke='black',fill='none',stroke_linejoin='miter')\n",
    "g.append(dw.Lines(10,90,40,30,70,90))\n",
    "g.append(dw.Lines(100,90,130,30,160,90,stroke_miterlimit=2.3)) #jumps between 2.2 and 2.3\n",
    "g.append(dw.Lines(190,90,220,30,250,90,stroke_miterlimit=1))\n",
    "d.append(g)\n",
    "#d.save_svg('02_mlimit.svg')\n",
    "d"
   ]
  },
  {
   "cell_type": "code",
   "execution_count": null,
   "id": "indie-mineral",
   "metadata": {},
   "outputs": [],
   "source": []
  }
 ],
 "metadata": {
  "kernelspec": {
   "display_name": "Python 3",
   "language": "python",
   "name": "python3"
  },
  "language_info": {
   "codemirror_mode": {
    "name": "ipython",
    "version": 3
   },
   "file_extension": ".py",
   "mimetype": "text/x-python",
   "name": "python",
   "nbconvert_exporter": "python",
   "pygments_lexer": "ipython3",
   "version": "3.9.2"
  }
 },
 "nbformat": 4,
 "nbformat_minor": 5
}
