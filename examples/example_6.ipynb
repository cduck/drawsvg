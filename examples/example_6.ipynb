{
 "cells": [
  {
   "cell_type": "code",
   "execution_count": null,
   "id": "rental-dispatch",
   "metadata": {},
   "outputs": [],
   "source": [
    "import drawSvg as draw\n",
    "from drawSvg.widgets import DrawingWidget\n",
    "import hyperbolic.poincare.shapes as hyper  # pip3 install hyperbolic\n",
    "\n",
    "# Create drawing\n",
    "d = draw.Drawing(2, 2, origin='center')\n",
    "d.setRenderSize(500)\n",
    "d.append(draw.Circle(0, 0, 1, fill='orange'))\n",
    "group = draw.Group()\n",
    "d.append(group)\n",
    "\n",
    "# Update the drawing based on user input\n",
    "click_list = []\n",
    "def redraw(points):\n",
    "    group.children.clear()\n",
    "    for x1, y1 in points:\n",
    "        for x2, y2 in points:\n",
    "            if (x1, y1) == (x2, y2): continue\n",
    "            p1 = hyper.Point.fromEuclid(x1, y1)\n",
    "            p2 = hyper.Point.fromEuclid(x2, y2)\n",
    "            if p1.distanceTo(p2) <= 2:\n",
    "                line = hyper.Line.fromPoints(*p1, *p2, segment=True)\n",
    "                group.draw(line, hwidth=0.2, fill='white')\n",
    "    for x, y in points:\n",
    "        p = hyper.Point.fromEuclid(x, y)\n",
    "        group.draw(hyper.Circle.fromCenterRadius(p, 0.1),\n",
    "                   fill='green')\n",
    "redraw(click_list)\n",
    "\n",
    "# Create interactive widget and register mouse events\n",
    "widget = DrawingWidget(d)\n",
    "@widget.mousedown\n",
    "def mousedown(widget, x, y, info):\n",
    "    if (x**2 + y**2) ** 0.5 + 1e-5 < 1:\n",
    "        click_list.append((x, y))\n",
    "    redraw(click_list)\n",
    "    widget.refresh()\n",
    "@widget.mousemove\n",
    "def mousemove(widget, x, y, info):\n",
    "    if (x**2 + y**2) ** 0.5 + 1e-5 < 1:\n",
    "        redraw(click_list + [(x, y)])\n",
    "    widget.refresh()\n",
    "widget\n"
   ]
  },
  {
   "cell_type": "code",
   "execution_count": null,
   "id": "cutting-costs",
   "metadata": {},
   "outputs": [],
   "source": []
  }
 ],
 "metadata": {
  "kernelspec": {
   "display_name": "Python 3",
   "language": "python",
   "name": "python3"
  },
  "language_info": {
   "codemirror_mode": {
    "name": "ipython",
    "version": 3
   },
   "file_extension": ".py",
   "mimetype": "text/x-python",
   "name": "python",
   "nbconvert_exporter": "python",
   "pygments_lexer": "ipython3",
   "version": "3.9.2"
  }
 },
 "nbformat": 4,
 "nbformat_minor": 5
}
