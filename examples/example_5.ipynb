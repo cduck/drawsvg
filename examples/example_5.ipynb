{
 "cells": [
  {
   "cell_type": "code",
   "execution_count": 1,
   "id": "whole-school",
   "metadata": {},
   "outputs": [
    {
     "data": {
      "image/svg+xml": [
       "<?xml version=\"1.0\" encoding=\"UTF-8\"?>\n",
       "<svg xmlns=\"http://www.w3.org/2000/svg\" xmlns:xlink=\"http://www.w3.org/1999/xlink\"\n",
       "     width=\"200\" height=\"200\" viewBox=\"-100.0 -100.0 200 200\">\n",
       "<defs>\n",
       "<path d=\"M-90,0 A90,40,360,1,1,90,0 A90,40,360,1,1,-90,0 Z\" id=\"d0\" />\n",
       "</defs>\n",
       "<circle cx=\"0\" cy=\"0\" r=\"20\" fill=\"red\">\n",
       "<animate repeatCount=\"indefinite\" attributeName=\"cy\" dur=\"6s\" values=\"-80;80;-80\" />\n",
       "<animate repeatCount=\"indefinite\" attributeName=\"cx\" dur=\"6s\" values=\"0;80;0;-80;0\" />\n",
       "<animate calcMode=\"discrete\" repeatCount=\"indefinite\" attributeName=\"fill\" dur=\"6s\" values=\"red;green;blue;yellow\" />\n",
       "</circle>\n",
       "<circle cx=\"0\" cy=\"0\" r=\"10\">\n",
       "<animateMotion repeatCount=\"indefinite\" dur=\"3s\">\n",
       "<mpath xlink:href=\"#d0\" />\n",
       "</animateMotion>\n",
       "<animateTransform type=\"scale\" repeatCount=\"indefinite\" attributeName=\"transform\" dur=\"3s\" values=\"1,2;2,1;1,2;2,1;1,2\" />\n",
       "</circle>\n",
       "</svg>"
      ],
      "text/plain": [
       "<drawSvg.drawing.Drawing at 0x7fe931403ee0>"
      ]
     },
     "execution_count": 1,
     "metadata": {},
     "output_type": "execute_result"
    }
   ],
   "source": [
    "import drawSvg as draw\n",
    "\n",
    "d = draw.Drawing(200, 200, origin='center')\n",
    "\n",
    "# Animate the position and color of circle\n",
    "c = draw.Circle(0, 0, 20, fill='red')\n",
    "# See for supported attributes:\n",
    "# https://developer.mozilla.org/en-US/docs/Web/SVG/Element/animate\n",
    "c.appendAnim(draw.Animate('cy', '6s', '-80;80;-80',\n",
    "                          repeatCount='indefinite'))\n",
    "c.appendAnim(draw.Animate('cx', '6s', '0;80;0;-80;0',\n",
    "                          repeatCount='indefinite'))\n",
    "c.appendAnim(draw.Animate('fill', '6s', 'red;green;blue;yellow',\n",
    "                          calcMode='discrete',\n",
    "                          repeatCount='indefinite'))\n",
    "d.append(c)\n",
    "\n",
    "# Animate a black circle around an ellipse\n",
    "ellipse = draw.Path()\n",
    "ellipse.M(-90, 0)\n",
    "ellipse.A(90, 40, 360, True, True, 90, 0)  # Ellipse path\n",
    "ellipse.A(90, 40, 360, True, True, -90, 0)\n",
    "ellipse.Z()\n",
    "c2 = draw.Circle(0, 0, 10)\n",
    "# See for supported attributes:\n",
    "# https://developer.mozilla.org/en-US/docs/Web/SVG/Element/animateMotion\n",
    "c2.appendAnim(draw.AnimateMotion(ellipse, '3s',\n",
    "                                 repeatCount='indefinite'))\n",
    "# See for supported attributes:\n",
    "# https://developer.mozilla.org/en-US/docs/Web/SVG/Element/animateTransform\n",
    "c2.appendAnim(draw.AnimateTransform('scale', '3s', '1,2;2,1;1,2;2,1;1,2',\n",
    "                                    repeatCount='indefinite'))\n",
    "d.append(c2)\n",
    "\n",
    "d.saveSvg('animated.svg')  # Save to file\n",
    "d  # Display in Jupyter notebook\n"
   ]
  },
  {
   "cell_type": "code",
   "execution_count": null,
   "id": "north-mediterranean",
   "metadata": {},
   "outputs": [],
   "source": []
  }
 ],
 "metadata": {
  "kernelspec": {
   "display_name": "Python 3",
   "language": "python",
   "name": "python3"
  },
  "language_info": {
   "codemirror_mode": {
    "name": "ipython",
    "version": 3
   },
   "file_extension": ".py",
   "mimetype": "text/x-python",
   "name": "python",
   "nbconvert_exporter": "python",
   "pygments_lexer": "ipython3",
   "version": "3.9.2"
  }
 },
 "nbformat": 4,
 "nbformat_minor": 5
}
