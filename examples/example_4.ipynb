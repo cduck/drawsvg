{
 "cells": [
  {
   "cell_type": "code",
   "execution_count": 1,
   "id": "cathedral-mambo",
   "metadata": {},
   "outputs": [
    {
     "data": {
      "image/svg+xml": [
       "<?xml version=\"1.0\" encoding=\"UTF-8\"?>\n",
       "<svg xmlns=\"http://www.w3.org/2000/svg\" xmlns:xlink=\"http://www.w3.org/1999/xlink\"\n",
       "     width=\"200\" height=\"240.0\" viewBox=\"-0.5 -0.6 1 1.2\">\n",
       "<defs>\n",
       "</defs>\n",
       "<a href=\"https://www.python.org\" target=\"_blank\" transform=\"skewY(-30)\">\n",
       "<circle cx=\"0\" cy=\"0\" r=\"0.5\" fill=\"green\" />\n",
       "<text x=\"0\" y=\"0\" font-size=\"0.2\" fill=\"white\" text-anchor=\"middle\" dy=\"0.3em\">Hyperlink</text>\n",
       "</a>\n",
       "</svg>"
      ],
      "text/plain": [
       "<drawSvg.drawing.Drawing at 0x7fae245965e0>"
      ]
     },
     "execution_count": 1,
     "metadata": {},
     "output_type": "execute_result"
    }
   ],
   "source": [
    "import drawSvg as draw\n",
    "\n",
    "# Subclass DrawingBasicElement if it cannot have child nodes\n",
    "# Subclass DrawingParentElement otherwise\n",
    "# Subclass DrawingDef if it must go between <def></def> tags in an SVG\n",
    "class Hyperlink(draw.DrawingParentElement):\n",
    "    TAG_NAME = 'a'\n",
    "    def __init__(self, href, target=None, **kwargs):\n",
    "        # Other init logic...\n",
    "        # Keyword arguments to super().__init__() correspond to SVG node\n",
    "        # arguments: stroke_width=5 -> stroke-width=\"5\"\n",
    "        super().__init__(href=href, target=target, **kwargs)\n",
    "\n",
    "d = draw.Drawing(1, 1.2, origin='center')\n",
    "\n",
    "# Create hyperlink\n",
    "hlink = Hyperlink('https://www.python.org', target='_blank',\n",
    "                  transform='skewY(-30)')\n",
    "# Add child elements\n",
    "hlink.append(draw.Circle(0,0,0.5, fill='green'))\n",
    "hlink.append(draw.Text('Hyperlink',0.2, 0,0, center=0.6, fill='white'))\n",
    "\n",
    "# Draw and display\n",
    "d.append(hlink)\n",
    "d.setRenderSize(200)\n",
    "d\n"
   ]
  },
  {
   "cell_type": "code",
   "execution_count": null,
   "id": "induced-pittsburgh",
   "metadata": {},
   "outputs": [],
   "source": []
  }
 ],
 "metadata": {
  "kernelspec": {
   "display_name": "Python 3",
   "language": "python",
   "name": "python3"
  },
  "language_info": {
   "codemirror_mode": {
    "name": "ipython",
    "version": 3
   },
   "file_extension": ".py",
   "mimetype": "text/x-python",
   "name": "python",
   "nbconvert_exporter": "python",
   "pygments_lexer": "ipython3",
   "version": "3.9.2"
  }
 },
 "nbformat": 4,
 "nbformat_minor": 5
}
