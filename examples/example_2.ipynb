{
 "cells": [
  {
   "cell_type": "code",
   "execution_count": 1,
   "id": "derived-stream",
   "metadata": {},
   "outputs": [
    {
     "data": {
      "image/svg+xml": [
       "<?xml version=\"1.0\" encoding=\"UTF-8\"?>\n",
       "<svg xmlns=\"http://www.w3.org/2000/svg\" xmlns:xlink=\"http://www.w3.org/1999/xlink\"\n",
       "     width=\"600\" height=\"320.0\" viewBox=\"-0.75 -0.4 1.5 0.8\">\n",
       "<defs>\n",
       "<radialGradient cx=\"0\" cy=\"0.35\" r=\"7.0\" gradientUnits=\"userSpaceOnUse\" id=\"d0\">\n",
       "<stop offset=\"0.07142857142857142\" stop-color=\"green\" stop-opacity=\"1\" />\n",
       "<stop offset=\"0.1\" stop-color=\"red\" stop-opacity=\"0\" />\n",
       "</radialGradient>\n",
       "<linearGradient x1=\"0.1\" y1=\"0.35\" x2=\"0.7\" y2=\"0.14999999999999997\" gradientUnits=\"userSpaceOnUse\" id=\"d1\">\n",
       "<stop offset=\"0\" stop-color=\"green\" stop-opacity=\"1\" />\n",
       "<stop offset=\"1\" stop-color=\"red\" stop-opacity=\"0\" />\n",
       "</linearGradient>\n",
       "</defs>\n",
       "<rect x=\"-0.75\" y=\"-0.5\" width=\"1.5\" height=\"1\" fill=\"#ddd\" />\n",
       "<path d=\"M0.6062177826491071,5.551115123125783e-17 A0.7,0.7,0,0,0,-0.3499999999999998,-0.2562177826491071 L-0.2499999999999999,-0.08301270189221938 A0.5,0.5,0,0,1,0.43301270189221935,0.1 Z\" fill=\"url(#d0)\" stroke=\"black\" stroke-width=\"0.002\" />\n",
       "<path d=\"M-0.48209070726490455,-0.22453333233923356 A0.75,0.75,0,0,0,-0.7047694655894312,0.09348489250574832 L0.0,0.35 A0,0,0,0,1,0.0,0.35 Z\" fill=\"url(#d0)\" stroke=\"red\" stroke-width=\"0.002\" />\n",
       "<rect x=\"0.1\" y=\"0.14999999999999997\" width=\"0.6\" height=\"0.2\" stroke=\"black\" stroke-width=\"0.002\" fill=\"url(#d1)\" />\n",
       "</svg>"
      ],
      "text/plain": [
       "<drawSvg.drawing.Drawing at 0x7f9be2ec2ee0>"
      ]
     },
     "execution_count": 1,
     "metadata": {},
     "output_type": "execute_result"
    }
   ],
   "source": [
    "import drawSvg as draw\n",
    "\n",
    "d = draw.Drawing(1.5, 0.8, origin='center')\n",
    "\n",
    "d.draw(draw.Rectangle(-0.75,-0.5,1.5,1, fill='#ddd'))\n",
    "\n",
    "# Create gradient\n",
    "gradient = draw.RadialGradient(0,-0.35,0.7*10)\n",
    "gradient.addStop(0.5/0.7/10, 'green', 1)\n",
    "gradient.addStop(1/10, 'red', 0)\n",
    "\n",
    "# Draw a shape to fill with the gradient\n",
    "p = draw.Path(fill=gradient, stroke='black', stroke_width=0.002)\n",
    "p.arc(0,-0.35,0.7,30,120)\n",
    "p.arc(0,-0.35,0.5,120,30,cw=True, includeL=True)\n",
    "p.Z()\n",
    "d.append(p)\n",
    "\n",
    "# Draw another shape to fill with the same gradient\n",
    "p = draw.Path(fill=gradient, stroke='red', stroke_width=0.002)\n",
    "p.arc(0,-0.35,0.75,130,160)\n",
    "p.arc(0,-0.35,0,160,130,cw=True, includeL=True)\n",
    "p.Z()\n",
    "d.append(p)\n",
    "\n",
    "# Another gradient\n",
    "gradient2 = draw.LinearGradient(0.1,-0.35,0.1+0.6,-0.35+0.2)\n",
    "gradient2.addStop(0, 'green', 1)\n",
    "gradient2.addStop(1, 'red', 0)\n",
    "d.append(draw.Rectangle(0.1,-0.35,0.6,0.2,\n",
    "                        stroke='black', stroke_width=0.002,\n",
    "                        fill=gradient2))\n",
    "\n",
    "# Display\n",
    "d.setRenderSize(w=600)\n",
    "d\n"
   ]
  },
  {
   "cell_type": "code",
   "execution_count": null,
   "id": "painted-olympus",
   "metadata": {},
   "outputs": [],
   "source": []
  }
 ],
 "metadata": {
  "kernelspec": {
   "display_name": "Python 3",
   "language": "python",
   "name": "python3"
  },
  "language_info": {
   "codemirror_mode": {
    "name": "ipython",
    "version": 3
   },
   "file_extension": ".py",
   "mimetype": "text/x-python",
   "name": "python",
   "nbconvert_exporter": "python",
   "pygments_lexer": "ipython3",
   "version": "3.9.2"
  }
 },
 "nbformat": 4,
 "nbformat_minor": 5
}
