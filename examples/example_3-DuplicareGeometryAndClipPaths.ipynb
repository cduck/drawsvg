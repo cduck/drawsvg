{
 "cells": [
  {
   "cell_type": "code",
   "execution_count": 1,
   "id": "established-forth",
   "metadata": {},
   "outputs": [
    {
     "data": {
      "image/png": "[encoded data removed]",
      "text/plain": [
       "<drawSvg.raster.Raster at 0x7f81e8020a30>"
      ]
     },
     "execution_count": 1,
     "metadata": {},
     "output_type": "execute_result"
    }
   ],
   "source": [
    "import drawSvg as draw\n",
    "\n",
    "d = draw.Drawing(1.4, 1.4, origin='center')\n",
    "\n",
    "# Define clip path\n",
    "clip = draw.ClipPath()\n",
    "clip.append(draw.Rectangle(-.25,.25-1,1,1))\n",
    "\n",
    "# Draw a cropped circle\n",
    "c = draw.Circle(0,0,0.5, stroke_width='0.01', stroke='black',\n",
    "                         fill_opacity=0.3, clip_path=clip,\n",
    "                         id='circle')\n",
    "d.append(c)\n",
    "\n",
    "# Make a transparent copy, cropped again\n",
    "g = draw.Group(opacity=0.5, clip_path=clip)\n",
    "g.append(draw.Use('circle', 0.25,0.1))\n",
    "d.append(g)\n",
    "\n",
    "# Display\n",
    "d.setRenderSize(400)\n",
    "d.rasterize()"
   ]
  },
  {
   "cell_type": "code",
   "execution_count": null,
   "id": "mighty-thanks",
   "metadata": {},
   "outputs": [],
   "source": []
  }
 ],
 "metadata": {
  "kernelspec": {
   "display_name": "Python 3",
   "language": "python",
   "name": "python3"
  },
  "language_info": {
   "codemirror_mode": {
    "name": "ipython",
    "version": 3
   },
   "file_extension": ".py",
   "mimetype": "text/x-python",
   "name": "python",
   "nbconvert_exporter": "python",
   "pygments_lexer": "ipython3",
   "version": "3.9.2"
  }
 },
 "nbformat": 4,
 "nbformat_minor": 5
}
