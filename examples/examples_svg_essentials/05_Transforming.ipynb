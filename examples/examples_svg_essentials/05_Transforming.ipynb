{
 "cells": [
  {
   "cell_type": "markdown",
   "id": "equipped-instruction",
   "metadata": {},
   "source": [
    "# 5. Transforming the Coordinate System"
   ]
  },
  {
   "cell_type": "code",
   "execution_count": 1,
   "id": "written-ownership",
   "metadata": {},
   "outputs": [],
   "source": [
    "import drawSvg as dw"
   ]
  },
  {
   "cell_type": "markdown",
   "id": "indoor-design",
   "metadata": {},
   "source": [
    "## 5.1 The translate Transformation"
   ]
  },
  {
   "cell_type": "code",
   "execution_count": 72,
   "id": "affected-appraisal",
   "metadata": {},
   "outputs": [
    {
     "data": {
      "image/svg+xml": [
       "<?xml version=\"1.0\" encoding=\"UTF-8\"?>\n",
       "<svg xmlns=\"http://www.w3.org/2000/svg\" xmlns:xlink=\"http://www.w3.org/1999/xlink\"\n",
       "     width=\"200\" height=\"200\" viewBox=\"0 -200 200 200\">\n",
       "<defs>\n",
       "<g id=\"square\" fill=\"none\" stroke=\"black\" stroke-width=\"2\">\n",
       "<rect x=\"0\" y=\"-40\" width=\"40\" height=\"40\" />\n",
       "</g>\n",
       "</defs>\n",
       "<use xlink:href=\"#square\" x=\"150\" y=\"-150\" />\n",
       "</svg>"
      ],
      "text/plain": [
       "<drawSvg.drawing.Drawing at 0x7fcc0505ae80>"
      ]
     },
     "execution_count": 72,
     "metadata": {},
     "output_type": "execute_result"
    }
   ],
   "source": [
    "d = dw.Drawing(200,200)\n",
    "g = dw.Group(id='square',fill='none',stroke='black',stroke_width=2)\n",
    "g.append(dw.Rectangle(0,0,40,40))\n",
    "d.append(dw.Use(g,150,150)) #this is no other method than in chapter 4\n",
    "d"
   ]
  },
  {
   "cell_type": "markdown",
   "id": "revolutionary-google",
   "metadata": {},
   "source": [
    "With `translate`instead (note the negative y coordinate):"
   ]
  },
  {
   "cell_type": "code",
   "execution_count": 75,
   "id": "formed-socket",
   "metadata": {},
   "outputs": [
    {
     "data": {
      "image/svg+xml": [
       "<?xml version=\"1.0\" encoding=\"UTF-8\"?>\n",
       "<svg xmlns=\"http://www.w3.org/2000/svg\" xmlns:xlink=\"http://www.w3.org/1999/xlink\"\n",
       "     width=\"200\" height=\"200\" viewBox=\"0 -200 200 200\">\n",
       "<defs>\n",
       "<g id=\"square\" fill=\"none\" stroke=\"black\" stroke-width=\"2\">\n",
       "<rect x=\"0\" y=\"-40\" width=\"40\" height=\"40\" />\n",
       "</g>\n",
       "</defs>\n",
       "<use xlink:href=\"#square\" x=\"0\" y=\"0\" transform=\"translate(150,-150)\" />\n",
       "</svg>"
      ],
      "text/plain": [
       "<drawSvg.drawing.Drawing at 0x7fcc05065250>"
      ]
     },
     "execution_count": 75,
     "metadata": {},
     "output_type": "execute_result"
    }
   ],
   "source": [
    "d = dw.Drawing(200,200)\n",
    "g = dw.Group(id='square',fill='none',stroke='black',stroke_width=2)\n",
    "g.append(dw.Rectangle(0,0,40,40))\n",
    "d.append(dw.Use(g,0,0,transform='translate(150,-150)')) #this is no other method than in chapter 4\n",
    "d"
   ]
  },
  {
   "cell_type": "markdown",
   "id": "worldwide-water",
   "metadata": {},
   "source": [
    "## 5.2 The scale Transformation\n",
    "This applies also to position, stroke width etc."
   ]
  },
  {
   "cell_type": "code",
   "execution_count": 42,
   "id": "wound-accordance",
   "metadata": {},
   "outputs": [
    {
     "data": {
      "image/svg+xml": [
       "<?xml version=\"1.0\" encoding=\"UTF-8\"?>\n",
       "<svg xmlns=\"http://www.w3.org/2000/svg\" xmlns:xlink=\"http://www.w3.org/1999/xlink\"\n",
       "     width=\"200\" height=\"200\" viewBox=\"0 -200 200 200\">\n",
       "<defs>\n",
       "<g id=\"square\" fill=\"none\" stroke=\"black\" stroke-width=\"2\">\n",
       "<rect x=\"0\" y=\"-40\" width=\"40\" height=\"40\" />\n",
       "</g>\n",
       "</defs>\n",
       "<use xlink:href=\"#square\" x=\"10\" y=\"-10\" transform=\"scale(2)\" />\n",
       "</svg>"
      ],
      "text/plain": [
       "<drawSvg.drawing.Drawing at 0x7fcc0505cdc0>"
      ]
     },
     "execution_count": 42,
     "metadata": {},
     "output_type": "execute_result"
    }
   ],
   "source": [
    "d = dw.Drawing(200,200)\n",
    "g = dw.Group(id='square',fill='none',stroke='black',stroke_width=2)\n",
    "g.append(dw.Rectangle(0,0,40,40))\n",
    "d.append(dw.Use(g,10,10,transform='scale(2)'))\n",
    "#print(d.asSvg())\n",
    "d"
   ]
  },
  {
   "cell_type": "markdown",
   "id": "english-victim",
   "metadata": {},
   "source": [
    "It is possible to specify x and y scale seperately:"
   ]
  },
  {
   "cell_type": "code",
   "execution_count": 48,
   "id": "premier-bibliography",
   "metadata": {},
   "outputs": [
    {
     "data": {
      "image/svg+xml": [
       "<?xml version=\"1.0\" encoding=\"UTF-8\"?>\n",
       "<svg xmlns=\"http://www.w3.org/2000/svg\" xmlns:xlink=\"http://www.w3.org/1999/xlink\"\n",
       "     width=\"200\" height=\"100\" viewBox=\"0 -100 200 100\">\n",
       "<defs>\n",
       "<g id=\"square\" fill=\"none\" stroke=\"black\" stroke-width=\"2\">\n",
       "<rect x=\"0\" y=\"-40\" width=\"40\" height=\"40\" />\n",
       "</g>\n",
       "</defs>\n",
       "<use xlink:href=\"#square\" x=\"10\" y=\"-10\" />\n",
       "<use xlink:href=\"#square\" x=\"10\" y=\"-10\" transform=\"scale(3,1.5)\" />\n",
       "</svg>"
      ],
      "text/plain": [
       "<drawSvg.drawing.Drawing at 0x7fcc05062b50>"
      ]
     },
     "execution_count": 48,
     "metadata": {},
     "output_type": "execute_result"
    }
   ],
   "source": [
    "d = dw.Drawing(200,100)\n",
    "g = dw.Group(id='square',fill='none',stroke='black',stroke_width=2)\n",
    "g.append(dw.Rectangle(0,0,40,40))\n",
    "d.append(dw.Use(g,10,10))\n",
    "d.append(dw.Use(g,10,10,transform='scale(3,1.5)'))\n",
    "d"
   ]
  },
  {
   "cell_type": "markdown",
   "id": "retired-prague",
   "metadata": {},
   "source": [
    "The `transform` element can also be applied to a group:"
   ]
  },
  {
   "cell_type": "code",
   "execution_count": 65,
   "id": "handled-december",
   "metadata": {},
   "outputs": [
    {
     "data": {
      "image/svg+xml": [
       "<?xml version=\"1.0\" encoding=\"UTF-8\"?>\n",
       "<svg xmlns=\"http://www.w3.org/2000/svg\" xmlns:xlink=\"http://www.w3.org/1999/xlink\"\n",
       "     width=\"100\" height=\"100\" viewBox=\"0 -100 100 100\">\n",
       "<defs>\n",
       "</defs>\n",
       "<g id=\"group1\" stroke=\"black\" transform=\"translate(50,-30)\" fill=\"none\">\n",
       "<path d=\"M10,-10 L30,-30\" />\n",
       "<circle cx=\"20\" cy=\"-20\" r=\"10\" />\n",
       "</g>\n",
       "</svg>"
      ],
      "text/plain": [
       "<drawSvg.drawing.Drawing at 0x7fcc064faa90>"
      ]
     },
     "execution_count": 65,
     "metadata": {},
     "output_type": "execute_result"
    }
   ],
   "source": [
    "d = dw.Drawing(100,100)\n",
    "g = dw.Group(id='group1',stroke='black',transform='translate(50,-30)',fill='none')\n",
    "g.append(dw.Line(10,10,30,30))\n",
    "g.append(dw.Circle(20,20,10))\n",
    "d.append(g)\n",
    "d"
   ]
  },
  {
   "cell_type": "markdown",
   "id": "defensive-check",
   "metadata": {},
   "source": [
    "Or to a single element:"
   ]
  },
  {
   "cell_type": "code",
   "execution_count": 70,
   "id": "angry-bible",
   "metadata": {},
   "outputs": [
    {
     "data": {
      "image/svg+xml": [
       "<?xml version=\"1.0\" encoding=\"UTF-8\"?>\n",
       "<svg xmlns=\"http://www.w3.org/2000/svg\" xmlns:xlink=\"http://www.w3.org/1999/xlink\"\n",
       "     width=\"120\" height=\"100\" viewBox=\"0 -100 120 100\">\n",
       "<defs>\n",
       "</defs>\n",
       "<rect x=\"5\" y=\"-25\" width=\"30\" height=\"15\" transform=\"scale(3)\" fill=\"none\" stroke=\"black\" />\n",
       "</svg>"
      ],
      "text/plain": [
       "<drawSvg.drawing.Drawing at 0x7fcc0505a460>"
      ]
     },
     "execution_count": 70,
     "metadata": {},
     "output_type": "execute_result"
    }
   ],
   "source": [
    "d = dw.Drawing(120,100)\n",
    "r = dw.Rectangle(5,10,30,15,transform='scale(3)',fill='none',stroke='black')\n",
    "d.append(r)\n",
    "d"
   ]
  },
  {
   "cell_type": "markdown",
   "id": "fuzzy-satin",
   "metadata": {},
   "source": [
    "## 5.3 Sequence of Transformations"
   ]
  },
  {
   "cell_type": "code",
   "execution_count": 80,
   "id": "looking-history",
   "metadata": {},
   "outputs": [
    {
     "data": {
      "image/svg+xml": [
       "<?xml version=\"1.0\" encoding=\"UTF-8\"?>\n",
       "<svg xmlns=\"http://www.w3.org/2000/svg\" xmlns:xlink=\"http://www.w3.org/1999/xlink\"\n",
       "     width=\"200\" height=\"200\" viewBox=\"0 -200 200 200\">\n",
       "<defs>\n",
       "</defs>\n",
       "<rect x=\"10\" y=\"-25\" width=\"20\" height=\"15\" transform=\"translate(30,-20) scale(4)\" fill=\"gray\" />\n",
       "</svg>"
      ],
      "text/plain": [
       "<drawSvg.drawing.Drawing at 0x7fcc054aebe0>"
      ]
     },
     "execution_count": 80,
     "metadata": {},
     "output_type": "execute_result"
    }
   ],
   "source": [
    "d = dw.Drawing(200,200)\n",
    "d.append(dw.Rectangle(10,10,20,15,transform='translate(30,-20) scale(4)',fill='gray'))\n",
    "d"
   ]
  },
  {
   "cell_type": "markdown",
   "id": "elect-cyprus",
   "metadata": {},
   "source": [
    "Different order of transformation usually give different result. In the follwoing example, translate after scale uses the new (bigger) scale of the coordinates."
   ]
  },
  {
   "cell_type": "code",
   "execution_count": 84,
   "id": "crazy-rebound",
   "metadata": {},
   "outputs": [
    {
     "data": {
      "image/svg+xml": [
       "<?xml version=\"1.0\" encoding=\"UTF-8\"?>\n",
       "<svg xmlns=\"http://www.w3.org/2000/svg\" xmlns:xlink=\"http://www.w3.org/1999/xlink\"\n",
       "     width=\"300\" height=\"200\" viewBox=\"0 -200 300 200\">\n",
       "<defs>\n",
       "</defs>\n",
       "<rect x=\"10\" y=\"-25\" width=\"20\" height=\"15\" transform=\"translate(30,-20) scale(4)\" fill=\"gray\" />\n",
       "<rect x=\"10\" y=\"-25\" width=\"20\" height=\"15\" transform=\"scale(4) translate(30,-20)\" fill=\"black\" />\n",
       "</svg>"
      ],
      "text/plain": [
       "<drawSvg.drawing.Drawing at 0x7fcc054ae580>"
      ]
     },
     "execution_count": 84,
     "metadata": {},
     "output_type": "execute_result"
    }
   ],
   "source": [
    "d = dw.Drawing(300,200)\n",
    "d.append(dw.Rectangle(10,10,20,15,transform='translate(30,-20) scale(4)',fill='gray'))\n",
    "d.append(dw.Rectangle(10,10,20,15,transform='scale(4) translate(30,-20)',fill='black'))\n",
    "d"
   ]
  },
  {
   "cell_type": "markdown",
   "id": "cardiac-strength",
   "metadata": {},
   "source": [
    "## 5.4 Cartesian Coordinates\n",
    "This is already the case because drawSvg decided to use it."
   ]
  },
  {
   "cell_type": "markdown",
   "id": "hybrid-baltimore",
   "metadata": {},
   "source": [
    "## 5.5 The `rotate` Transformation"
   ]
  },
  {
   "cell_type": "code",
   "execution_count": 8,
   "id": "linear-veteran",
   "metadata": {},
   "outputs": [
    {
     "data": {
      "image/svg+xml": [
       "<?xml version=\"1.0\" encoding=\"UTF-8\"?>\n",
       "<svg xmlns=\"http://www.w3.org/2000/svg\" xmlns:xlink=\"http://www.w3.org/1999/xlink\"\n",
       "     width=\"200\" height=\"200\" viewBox=\"0 -200 200 200\">\n",
       "<defs>\n",
       "</defs>\n",
       "<path d=\"M0,-200 L200,-200 L200,0 L0,0\" stroke=\"gray\" fill=\"none\" />\n",
       "<rect x=\"70\" y=\"-70\" width=\"40\" height=\"40\" fill=\"gray\" />\n",
       "<rect x=\"70\" y=\"-70\" width=\"40\" height=\"40\" fill=\"black\" transform=\"rotate(-45)\" />\n",
       "</svg>"
      ],
      "text/plain": [
       "<drawSvg.drawing.Drawing at 0x7f7f9a77b460>"
      ]
     },
     "execution_count": 8,
     "metadata": {},
     "output_type": "execute_result"
    }
   ],
   "source": [
    "d = dw.Drawing(200,200)\n",
    "# show frame\n",
    "d.append(dw.Lines(0,200,200,200,200,0,0,0,stroke='gray',fill='none'))\n",
    "# rotation is around (0,0)\n",
    "d.append(dw.Rectangle(70,30,40,40,fill='gray'))\n",
    "d.append(dw.Rectangle(70,30,40,40,fill='black',transform='rotate(-45)'))\n",
    "d"
   ]
  },
  {
   "cell_type": "code",
   "execution_count": 23,
   "id": "rapid-ribbon",
   "metadata": {},
   "outputs": [
    {
     "data": {
      "image/svg+xml": [
       "<?xml version=\"1.0\" encoding=\"UTF-8\"?>\n",
       "<svg xmlns=\"http://www.w3.org/2000/svg\" xmlns:xlink=\"http://www.w3.org/1999/xlink\"\n",
       "     width=\"300\" height=\"200\" viewBox=\"0 -200 300 200\">\n",
       "<defs>\n",
       "<g id=\"arrow\" stroke=\"black\">\n",
       "<path d=\"M110,-100 L160,-100\" />\n",
       "<path d=\"M160,-100 L155,-95 L155,-105\" fill=\"black\" />\n",
       "</g>\n",
       "</defs>\n",
       "<circle cx=\"100\" cy=\"-100\" r=\"3\" flii=\"black\" />\n",
       "<use xlink:href=\"#arrow\" />\n",
       "<use xlink:href=\"#arrow\" x=\"0\" y=\"0\" transform=\"rotate (60,100,-100)\" />\n",
       "<use xlink:href=\"#arrow\" x=\"0\" y=\"0\" transform=\"rotate (-90,100,-100)\" />\n",
       "<use xlink:href=\"#arrow\" x=\"0\" y=\"0\" transform=\"rotate (-150,100,-100)\" />\n",
       "</svg>"
      ],
      "text/plain": [
       "<drawSvg.drawing.Drawing at 0x7f7f9807f700>"
      ]
     },
     "execution_count": 23,
     "metadata": {},
     "output_type": "execute_result"
    }
   ],
   "source": [
    "d = dw.Drawing(300,200)\n",
    "# center of rotation\n",
    "d.append(dw.Circle(100,100,3,flii='black'))\n",
    "# non-rotated arrow\n",
    "g = dw.Group(id='arrow',stroke='black')\n",
    "g.append(dw.Line(110,100,160,100))\n",
    "g.append(dw.Lines(160,100,155,95,155,105,fill='black'))\n",
    "d.append(g)\n",
    "# rotated arrows -- note that we have again to set negative y \n",
    "d.append(dw.Use(g,0,0,transform='rotate (60,100,-100)'))\n",
    "d.append(dw.Use(g,0,0,transform='rotate (-90,100,-100)'))\n",
    "d.append(dw.Use(g,0,0,transform='rotate (-150,100,-100)'))\n",
    "d"
   ]
  },
  {
   "cell_type": "markdown",
   "id": "comparative-poland",
   "metadata": {},
   "source": [
    "Scaling around a center point:"
   ]
  },
  {
   "cell_type": "code",
   "execution_count": 37,
   "id": "accepted-gossip",
   "metadata": {},
   "outputs": [
    {
     "data": {
      "image/svg+xml": [
       "<?xml version=\"1.0\" encoding=\"UTF-8\"?>\n",
       "<svg xmlns=\"http://www.w3.org/2000/svg\" xmlns:xlink=\"http://www.w3.org/1999/xlink\"\n",
       "     width=\"300\" height=\"200\" viewBox=\"0 -200 300 200\">\n",
       "<defs>\n",
       "<g stroke=\"black\" fill=\"none\" id=\"d0\">\n",
       "<rect x=\"70\" y=\"-120\" width=\"60\" height=\"40\" />\n",
       "</g>\n",
       "</defs>\n",
       "<circle cx=\"100\" cy=\"-100\" r=\"4\" fill=\"black\" />\n",
       "<use xlink:href=\"#d0\" />\n",
       "<use xlink:href=\"#d0\" x=\"0\" y=\"0\" transform=\"translate(-100,100) scale(2)\" stroke-width=\"0.5\" />\n",
       "<use xlink:href=\"#d0\" x=\"0\" y=\"0\" transform=\"translate(-150,150) scale(2.5)\" stroke-width=\"0.4\" />\n",
       "<use xlink:href=\"#d0\" x=\"0\" y=\"0\" transform=\"translate(-200,200) scale(3)\" stroke-width=\"0.33\" />\n",
       "</svg>"
      ],
      "text/plain": [
       "<drawSvg.drawing.Drawing at 0x7f7f9817ffa0>"
      ]
     },
     "execution_count": 37,
     "metadata": {},
     "output_type": "execute_result"
    }
   ],
   "source": [
    "d = dw.Drawing(300,200)\n",
    "# center of scaling\n",
    "d.append(dw.Circle(100,100,4,fill='black'))\n",
    "# non-scaled rectangle\n",
    "g = dw.Group(stroke='black',fill='none')\n",
    "g.append(dw.Rectangle(70,80,60,40))\n",
    "d.append(g)\n",
    "# scaled rectangles (point times scale-1)\n",
    "d.append(dw.Use(g,0,0,transform='translate(-100,100) scale(2)',stroke_width=0.5))\n",
    "d.append(dw.Use(g,0,0,transform='translate(-150,150) scale(2.5)',stroke_width=0.4))\n",
    "d.append(dw.Use(g,0,0,transform='translate(-200,200) scale(3)',stroke_width=0.33))\n",
    "d"
   ]
  },
  {
   "cell_type": "markdown",
   "id": "dress-comedy",
   "metadata": {},
   "source": [
    "## 5.7 The `skewX` and `skewY` Transformations"
   ]
  },
  {
   "cell_type": "code",
   "execution_count": 67,
   "id": "looking-cameroon",
   "metadata": {},
   "outputs": [
    {
     "data": {
      "image/svg+xml": [
       "<?xml version=\"1.0\" encoding=\"UTF-8\"?>\n",
       "<svg xmlns=\"http://www.w3.org/2000/svg\" xmlns:xlink=\"http://www.w3.org/1999/xlink\"\n",
       "     width=\"200\" height=\"200\" viewBox=\"0 -200 200 200\">\n",
       "<defs>\n",
       "</defs>\n",
       "<g stroke=\"gray\" stroke-dasharray=\"4 4\">\n",
       "<path d=\"M0,0 L0,0\" />\n",
       "<path d=\"M20,0 L20,-90\" />\n",
       "<path d=\"M120,0 L120,-90\" />\n",
       "</g>\n",
       "<g transform=\"translate(20,0)\">\n",
       "<g transform=\"skewX(-30)\">\n",
       "<path d=\"M50,0 L0,0 L0,-50\" stroke=\"black\" fill=\"none\" stroke-width=\"2\" />\n",
       "<text x=\"0\" y=\"-60\" font-size=\"16\" dy=\"0em\">skewX</text>\n",
       "</g>\n",
       "</g>\n",
       "<g transform=\"translate(120,0)\">\n",
       "<g transform=\"skewY(-30)\">\n",
       "<path d=\"M50,0 L0,0 L0,-50\" stroke=\"black\" fill=\"none\" stroke-width=\"2\" />\n",
       "<text x=\"0\" y=\"-60\" font-size=\"16\" dy=\"0em\">skewY</text>\n",
       "</g>\n",
       "</g>\n",
       "</svg>"
      ],
      "text/plain": [
       "<drawSvg.drawing.Drawing at 0x7f7f98173070>"
      ]
     },
     "execution_count": 67,
     "metadata": {},
     "output_type": "execute_result"
    }
   ],
   "source": [
    "d = dw.Drawing(200,200)\n",
    "\n",
    "g = dw.Group(stroke='gray',stroke_dasharray='4 4')\n",
    "g.append(dw.Line(0,0,0,0))\n",
    "g.append(dw.Line(20,0,20,90))\n",
    "g.append(dw.Line(120,0,120,90))\n",
    "d.append(g)\n",
    "\n",
    "h = dw.Group(transform='translate(20,0)')\n",
    "h1 = dw.Group(transform='skewX(-30)')\n",
    "h1.append(dw.Lines(50,0,0,0,0,50,stroke='black',fill='none',stroke_width=2))\n",
    "h1.append(dw.Text('skewX',16,0,60))\n",
    "h.append(h1)\n",
    "d.append(h)\n",
    "\n",
    "i = dw.Group(transform='translate(120,0)')\n",
    "i1 = dw.Group(transform='skewY(-30)')\n",
    "i1.append(dw.Lines(50,0,0,0,0,50,stroke='black',fill='none',stroke_width=2))\n",
    "i1.append(dw.Text('skewY',16,0,60))\n",
    "i.append(i1)\n",
    "d.append(i)\n",
    "\n",
    "d"
   ]
  },
  {
   "cell_type": "code",
   "execution_count": null,
   "id": "theoretical-apple",
   "metadata": {},
   "outputs": [],
   "source": []
  }
 ],
 "metadata": {
  "kernelspec": {
   "display_name": "Python 3",
   "language": "python",
   "name": "python3"
  },
  "language_info": {
   "codemirror_mode": {
    "name": "ipython",
    "version": 3
   },
   "file_extension": ".py",
   "mimetype": "text/x-python",
   "name": "python",
   "nbconvert_exporter": "python",
   "pygments_lexer": "ipython3",
   "version": "3.9.2"
  }
 },
 "nbformat": 4,
 "nbformat_minor": 5
}
