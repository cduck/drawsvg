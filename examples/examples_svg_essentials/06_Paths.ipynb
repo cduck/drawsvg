{
 "cells": [
  {
   "cell_type": "markdown",
   "id": "chicken-diesel",
   "metadata": {},
   "source": [
    "# 6. Paths"
   ]
  },
  {
   "cell_type": "code",
   "execution_count": 1,
   "id": "statutory-anthropology",
   "metadata": {},
   "outputs": [],
   "source": [
    "import drawSvg as dw"
   ]
  },
  {
   "cell_type": "markdown",
   "id": "centered-religion",
   "metadata": {},
   "source": [
    "## 6.1 moveto, lineto and closepath"
   ]
  },
  {
   "cell_type": "code",
   "execution_count": 5,
   "id": "structural-spokesman",
   "metadata": {},
   "outputs": [
    {
     "data": {
      "image/svg+xml": [
       "<?xml version=\"1.0\" encoding=\"UTF-8\"?>\n",
       "<svg xmlns=\"http://www.w3.org/2000/svg\" xmlns:xlink=\"http://www.w3.org/1999/xlink\"\n",
       "     width=\"100\" height=\"100\" viewBox=\"0 -100 100 100\">\n",
       "<defs>\n",
       "</defs>\n",
       "<g stroke=\"black\" fill=\"none\">\n",
       "<path d=\"M10,-10 L100,-10\" />\n",
       "<path d=\"M10,-20 L100,-20 L100,-50\" />\n",
       "<path d=\"M40,-60 L10,-60 L40,-42.68 M60,-60 L90,-60 L60,-42.68\" />\n",
       "</g>\n",
       "</svg>"
      ],
      "text/plain": [
       "<drawSvg.drawing.Drawing at 0x7f89bf3b7460>"
      ]
     },
     "execution_count": 5,
     "metadata": {},
     "output_type": "execute_result"
    }
   ],
   "source": [
    "d = dw.Drawing(100,100)\n",
    "g = dw.Group(stroke='black',fill='none')\n",
    "\n",
    "p1 = dw.Path()\n",
    "p1.M(10,10)\n",
    "p1.L(100,10)\n",
    "g.append(p1)\n",
    "\n",
    "p2 = dw.Path()\n",
    "p2.M(10,20)\n",
    "p2.L(100,20)\n",
    "p2.L(100,50)\n",
    "g.append(p2)\n",
    "\n",
    "p3 = dw.Path()\n",
    "p3.M(40,60)\n",
    "p3.L(10,60)\n",
    "p3.L(40,42.68)\n",
    "p3.M(60,60)\n",
    "p3.L(90,60)\n",
    "p3.L(60,42.68)\n",
    "g.append(p3)\n",
    "\n",
    "d.append(g)\n",
    "d"
   ]
  },
  {
   "cell_type": "code",
   "execution_count": 8,
   "id": "brilliant-craps",
   "metadata": {},
   "outputs": [
    {
     "data": {
      "image/svg+xml": [
       "<?xml version=\"1.0\" encoding=\"UTF-8\"?>\n",
       "<svg xmlns=\"http://www.w3.org/2000/svg\" xmlns:xlink=\"http://www.w3.org/1999/xlink\"\n",
       "     width=\"100\" height=\"100\" viewBox=\"0 -100 100 100\">\n",
       "<defs>\n",
       "</defs>\n",
       "<g stroke=\"black\" fill=\"none\">\n",
       "<path d=\"M10,-10 L40,-10 L40,-30 L10,-30 L10,-10\" />\n",
       "<path d=\"M60,-10 L90,-10 L90,-30 L60,-30 Z\" />\n",
       "<path d=\"M40,-60 L10,-60 L40,-42.68 Z M60,-60 L90,-60 L60,-42.68 Z\" />\n",
       "</g>\n",
       "</svg>"
      ],
      "text/plain": [
       "<drawSvg.drawing.Drawing at 0x7f89bf3af370>"
      ]
     },
     "execution_count": 8,
     "metadata": {},
     "output_type": "execute_result"
    }
   ],
   "source": [
    "d = dw.Drawing(100,100)\n",
    "g = dw.Group(stroke='black',fill='none')\n",
    "\n",
    "# rectangle: all four lines\n",
    "p = dw.Path()\n",
    "p.M(10,10)\n",
    "p.L(40,10)\n",
    "p.L(40,30)\n",
    "p.L(10,30)\n",
    "p.L(10,10)\n",
    "g.append(p)\n",
    "\n",
    "# rectangle with closepath\n",
    "p = dw.Path()\n",
    "p.M(60,10)\n",
    "p.L(90,10)\n",
    "p.L(90,30)\n",
    "p.L(60,30)\n",
    "p.Z()\n",
    "g.append(p)\n",
    "\n",
    "# two thirty-degree triangles\n",
    "p = dw.Path()\n",
    "p.M(40,60)\n",
    "p.L(10,60)\n",
    "p.L(40,42.68)\n",
    "p.Z()\n",
    "p.M(60,60)\n",
    "p.L(90,60)\n",
    "p.L(60,42.68)\n",
    "p.Z()\n",
    "g.append(p)\n",
    "\n",
    "d.append(g)\n",
    "d"
   ]
  },
  {
   "cell_type": "markdown",
   "id": "roman-headset",
   "metadata": {},
   "source": [
    "## 6.2 Relative moveto and lineto"
   ]
  },
  {
   "cell_type": "code",
   "execution_count": 10,
   "id": "standard-hormone",
   "metadata": {},
   "outputs": [
    {
     "data": {
      "image/svg+xml": [
       "<?xml version=\"1.0\" encoding=\"UTF-8\"?>\n",
       "<svg xmlns=\"http://www.w3.org/2000/svg\" xmlns:xlink=\"http://www.w3.org/1999/xlink\"\n",
       "     width=\"100\" height=\"100\" viewBox=\"0 -100 100 100\">\n",
       "<defs>\n",
       "</defs>\n",
       "<path d=\"M10,-10 l20,0 l0,-40 m40,-20 l30,10\" stroke=\"black\" />\n",
       "</svg>"
      ],
      "text/plain": [
       "<drawSvg.drawing.Drawing at 0x7f89bf32d310>"
      ]
     },
     "execution_count": 10,
     "metadata": {},
     "output_type": "execute_result"
    }
   ],
   "source": [
    "d = dw.Drawing(100,100)\n",
    "p = dw.Path(stroke='black')\n",
    "p.M(10,10)\n",
    "p.l(20,0)\n",
    "p.l(0,40)\n",
    "p.m(40,20)\n",
    "p.l(30,-10)\n",
    "d.append(p)\n",
    "d"
   ]
  },
  {
   "cell_type": "markdown",
   "id": "visible-seminar",
   "metadata": {},
   "source": [
    "## 6.3 Path Shortcuts"
   ]
  },
  {
   "cell_type": "markdown",
   "id": "viral-criticism",
   "metadata": {},
   "source": [
    "### 6.3.1 The Horizontal lineto and the Vertical lineto Commands"
   ]
  },
  {
   "cell_type": "code",
   "execution_count": 13,
   "id": "preliminary-recipe",
   "metadata": {},
   "outputs": [
    {
     "data": {
      "image/svg+xml": [
       "<?xml version=\"1.0\" encoding=\"UTF-8\"?>\n",
       "<svg xmlns=\"http://www.w3.org/2000/svg\" xmlns:xlink=\"http://www.w3.org/1999/xlink\"\n",
       "     width=\"100\" height=\"100\" viewBox=\"0 -100 100 100\">\n",
       "<defs>\n",
       "</defs>\n",
       "<path d=\"M24,-48 h30 v-50 h-30 Z\" stroke=\"black\" />\n",
       "</svg>"
      ],
      "text/plain": [
       "<drawSvg.drawing.Drawing at 0x7f89bf2e1340>"
      ]
     },
     "execution_count": 13,
     "metadata": {},
     "output_type": "execute_result"
    }
   ],
   "source": [
    "d = dw.Drawing(100,100)\n",
    "p = dw.Path(stroke='black')\n",
    "p.M(24,48)\n",
    "p.h(30)\n",
    "p.v(50)\n",
    "p.h(-30)\n",
    "p.Z()\n",
    "d.append(p)\n",
    "d"
   ]
  },
  {
   "cell_type": "markdown",
   "id": "surgical-junior",
   "metadata": {},
   "source": [
    "### 6.3.2 Notational Shortcuts\n",
    "This does not work in drawSvg, as M() or L() only take two arguments, not more."
   ]
  },
  {
   "cell_type": "markdown",
   "id": "opened-mouse",
   "metadata": {},
   "source": [
    "## 6.4 Ellicptical Arc"
   ]
  },
  {
   "cell_type": "code",
   "execution_count": 12,
   "id": "suitable-deputy",
   "metadata": {},
   "outputs": [
    {
     "data": {
      "image/svg+xml": [
       "<?xml version=\"1.0\" encoding=\"UTF-8\"?>\n",
       "<svg xmlns=\"http://www.w3.org/2000/svg\" xmlns:xlink=\"http://www.w3.org/1999/xlink\"\n",
       "     width=\"400\" height=\"200\" viewBox=\"0 -200 400 200\" stroke-width=\"3\">\n",
       "<defs>\n",
       "</defs>\n",
       "<path d=\"M125,-75 A100,50,0,0,0,225,-125\" stroke=\"red\" fill=\"none\" />\n",
       "<path d=\"M125,-75 A100,50,0,0,1,225,-125\" stroke=\"blue\" fill=\"none\" />\n",
       "<path d=\"M125,-75 A100,50,0,1,0,225,-125\" stroke=\"green\" fill=\"none\" stroke-dasharray=\"5 3\" />\n",
       "<path d=\"M125,-75 A100,50,0,1,1,225,-125\" stroke=\"black\" fill=\"none\" stroke-dasharray=\"5 3\" />\n",
       "</svg>"
      ],
      "text/plain": [
       "<drawSvg.drawing.Drawing at 0x7f34734c09a0>"
      ]
     },
     "execution_count": 12,
     "metadata": {},
     "output_type": "execute_result"
    }
   ],
   "source": [
    "d = dw.Drawing(400,200,stroke_width=3)\n",
    "# referring to figure 6.4 in \"svg essentials\" \n",
    "\n",
    "bb = dw.Path(stroke='red',fill='none')\n",
    "bb.M(125,75)\n",
    "bb.A(100,50,rot=0,largeArc=0,sweep=0,ex=225,ey=125)\n",
    "d.append(b)\n",
    "\n",
    "cc = dw.Path(stroke='blue',fill='none')\n",
    "cc.M(125,75)\n",
    "cc.A(100,50,rot=0,largeArc=0,sweep=1,ex=225,ey=125)\n",
    "d.append(cc)\n",
    "\n",
    "dd = dw.Path(stroke='green',fill='none',stroke_dasharray='5 3')\n",
    "dd.M(125,75)\n",
    "dd.A(100,50,rot=0,largeArc=1,sweep=0,ex=225,ey=125)\n",
    "d.append(dd)\n",
    "\n",
    "ee = dw.Path(stroke='black',fill='none',stroke_dasharray='5 3')\n",
    "ee.M(125,75)\n",
    "ee.A(100,50,rot=0,largeArc=1,sweep=1,ex=225,ey=125)\n",
    "d.append(ee)\n",
    "\n",
    "d"
   ]
  },
  {
   "cell_type": "markdown",
   "id": "fallen-louisiana",
   "metadata": {},
   "source": [
    "## 6.6 Bézier Curves"
   ]
  },
  {
   "cell_type": "markdown",
   "id": "metric-variation",
   "metadata": {},
   "source": [
    "### 6.6.1 Quadratic Bézier Curves"
   ]
  },
  {
   "cell_type": "code",
   "execution_count": 16,
   "id": "through-advocacy",
   "metadata": {},
   "outputs": [
    {
     "data": {
      "image/svg+xml": [
       "<?xml version=\"1.0\" encoding=\"UTF-8\"?>\n",
       "<svg xmlns=\"http://www.w3.org/2000/svg\" xmlns:xlink=\"http://www.w3.org/1999/xlink\"\n",
       "     width=\"400\" height=\"200\" viewBox=\"0 -200 400 200\">\n",
       "<defs>\n",
       "</defs>\n",
       "<path d=\"M30,-125 Q240,-170,300,-80\" stroke=\"black\" fill=\"none\" stroke-width=\"3\" />\n",
       "</svg>"
      ],
      "text/plain": [
       "<drawSvg.drawing.Drawing at 0x7f347346fb80>"
      ]
     },
     "execution_count": 16,
     "metadata": {},
     "output_type": "execute_result"
    }
   ],
   "source": [
    "d = dw.Drawing(400,200)\n",
    "p = dw.Path(stroke='black',fill='none',stroke_width=3)\n",
    "p.M(30,125)\n",
    "# Q control point, end point\n",
    "p.Q(240,170,300,80)\n",
    "d.append(p)\n",
    "d"
   ]
  },
  {
   "cell_type": "code",
   "execution_count": 17,
   "id": "bulgarian-radiation",
   "metadata": {},
   "outputs": [
    {
     "data": {
      "image/svg+xml": [
       "<?xml version=\"1.0\" encoding=\"UTF-8\"?>\n",
       "<svg xmlns=\"http://www.w3.org/2000/svg\" xmlns:xlink=\"http://www.w3.org/1999/xlink\"\n",
       "     width=\"400\" height=\"200\" viewBox=\"0 -200 400 200\">\n",
       "<defs>\n",
       "</defs>\n",
       "<path d=\"M30,-100 Q80,-170,100,-100 Q130,-135,200,-120\" stroke=\"black\" fill=\"none\" stroke-width=\"3\" />\n",
       "</svg>"
      ],
      "text/plain": [
       "<drawSvg.drawing.Drawing at 0x7f34733f8fd0>"
      ]
     },
     "execution_count": 17,
     "metadata": {},
     "output_type": "execute_result"
    }
   ],
   "source": [
    "d = dw.Drawing(400,200)\n",
    "p = dw.Path(stroke='black',fill='none',stroke_width=3)\n",
    "p.M(30,100)\n",
    "# several quadratic bezier in sequence\n",
    "p.Q(80,170,100,100)\n",
    "p.Q(130,135,200,120)\n",
    "d.append(p)\n",
    "d"
   ]
  },
  {
   "cell_type": "markdown",
   "id": "legendary-moses",
   "metadata": {},
   "source": [
    "`T` statement as smooth continuation with automatically generated control point:"
   ]
  },
  {
   "cell_type": "code",
   "execution_count": 18,
   "id": "vocal-abraham",
   "metadata": {},
   "outputs": [
    {
     "data": {
      "image/svg+xml": [
       "<?xml version=\"1.0\" encoding=\"UTF-8\"?>\n",
       "<svg xmlns=\"http://www.w3.org/2000/svg\" xmlns:xlink=\"http://www.w3.org/1999/xlink\"\n",
       "     width=\"400\" height=\"200\" viewBox=\"0 -200 400 200\">\n",
       "<defs>\n",
       "</defs>\n",
       "<path d=\"M30,-100 Q80,-170,100,-100 T200,-120\" stroke=\"black\" fill=\"none\" stroke-width=\"3\" />\n",
       "</svg>"
      ],
      "text/plain": [
       "<drawSvg.drawing.Drawing at 0x7f34733f84c0>"
      ]
     },
     "execution_count": 18,
     "metadata": {},
     "output_type": "execute_result"
    }
   ],
   "source": [
    "d = dw.Drawing(400,200)\n",
    "p = dw.Path(stroke='black',fill='none',stroke_width=3)\n",
    "p.M(30,100)\n",
    "p.Q(80,170,100,100)\n",
    "p.T(200,120)\n",
    "d.append(p)\n",
    "d"
   ]
  },
  {
   "cell_type": "markdown",
   "id": "alleged-script",
   "metadata": {},
   "source": [
    "### 6.6.2 Cubic Bézier Curves\n",
    "Usage: startpoint, control for startpoint, control for endpoint, endpoint"
   ]
  },
  {
   "cell_type": "code",
   "execution_count": 19,
   "id": "colored-parallel",
   "metadata": {},
   "outputs": [
    {
     "data": {
      "image/svg+xml": [
       "<?xml version=\"1.0\" encoding=\"UTF-8\"?>\n",
       "<svg xmlns=\"http://www.w3.org/2000/svg\" xmlns:xlink=\"http://www.w3.org/1999/xlink\"\n",
       "     width=\"400\" height=\"200\" viewBox=\"0 -200 400 200\">\n",
       "<defs>\n",
       "</defs>\n",
       "<path d=\"M20,-120 C50,-180,150,-140,200,-80\" stroke=\"black\" fill=\"none\" stroke-width=\"3\" />\n",
       "</svg>"
      ],
      "text/plain": [
       "<drawSvg.drawing.Drawing at 0x7f34734bda00>"
      ]
     },
     "execution_count": 19,
     "metadata": {},
     "output_type": "execute_result"
    }
   ],
   "source": [
    "d = dw.Drawing(400,200)\n",
    "p = dw.Path(stroke='black',fill='none',stroke_width=3)\n",
    "p.M(20,120)\n",
    "p.C(50,180,150,140,200,80)\n",
    "d.append(p)\n",
    "d"
   ]
  },
  {
   "cell_type": "markdown",
   "id": "painted-drunk",
   "metadata": {},
   "source": [
    "Some example curves with control points (fig 6-11 in svg esentials)"
   ]
  },
  {
   "cell_type": "code",
   "execution_count": 38,
   "id": "painful-liquid",
   "metadata": {},
   "outputs": [
    {
     "data": {
      "image/svg+xml": [
       "<?xml version=\"1.0\" encoding=\"UTF-8\"?>\n",
       "<svg xmlns=\"http://www.w3.org/2000/svg\" xmlns:xlink=\"http://www.w3.org/1999/xlink\"\n",
       "     width=\"650\" height=\"100\" viewBox=\"0 -100 650 100\">\n",
       "<defs>\n",
       "</defs>\n",
       "<path d=\"M40,-50 C10,-90,140,-90,110,-50\" stroke=\"black\" fill=\"none\" stroke-width=\"3\" transform=\"translate(0,0)translate(0,0)translate(0,0)translate(0,0)translate(0,0)translate(0,0)translate(0,0)translate(0,0)translate(0,0)translate(0,0)translate(0,0)translate(0,0)translate(0,0)translate(0,0)translate(0,0)translate(0,0)translate(0,0)translate(0,0)translate(0,0)translate(0,0)translate(0,0)translate(0,0)translate(0,0)translate(0,0)translate(0,0)translate(0,0)translate(0,0)translate(0,0)translate(0,0)translate(0,0)translate(0,0)translate(0,0)translate(0,0)translate(0,0)translate(0,0)translate(0,0)translate(0,0)translate(0,0)translate(0,0)translate(0,0)translate(0,0)translate(0,0)translate(0,0)translate(0,0)translate(0,0)translate(0,0)translate(0,0)translate(0,0)translate(0,0)translate(0,0)translate(0,0)translate(0,0)translate(0,0)translate(0,0)translate(0,0)translate(0,0)translate(0,0)translate(0,0)translate(0,0)translate(0,0)translate(0,0)translate(0,0)translate(0,0)translate(0,0)translate(0,0)translate(0,0)translate(0,0)translate(0,0)translate(0,0)translate(0,0)translate(0,0)translate(0,0)translate(0,0)translate(0,0)translate(0,0)translate(0,0)translate(0,0)translate(0,0)translate(0,0)translate(0,0)translate(0,0)translate(0,0)translate(0,0)translate(0,0)translate(0,0)translate(0,0)translate(0,0)translate(0,0)translate(0,0)translate(0,0)translate(0,0)translate(0,0)translate(0,0)translate(0,0)translate(0,0)translate(0,0)translate(0,0)translate(0,0)translate(0,0)translate(0,0)\" />\n",
       "<g stroke=\"gray\" fill=\"gray\" stroke-width=\"1\" transform=\"translate(0,0)translate(0,0)translate(0,0)translate(0,0)translate(0,0)translate(0,0)translate(0,0)translate(0,0)translate(0,0)translate(0,0)translate(0,0)translate(0,0)translate(0,0)translate(0,0)translate(0,0)translate(0,0)translate(0,0)translate(0,0)translate(0,0)translate(0,0)translate(0,0)translate(0,0)translate(0,0)translate(0,0)translate(0,0)translate(0,0)translate(0,0)translate(0,0)translate(0,0)translate(0,0)translate(0,0)translate(0,0)translate(0,0)translate(0,0)translate(0,0)translate(0,0)translate(0,0)translate(0,0)translate(0,0)translate(0,0)translate(0,0)translate(0,0)translate(0,0)translate(0,0)translate(0,0)translate(0,0)translate(0,0)translate(0,0)translate(0,0)translate(0,0)translate(0,0)translate(0,0)translate(0,0)translate(0,0)translate(0,0)translate(0,0)translate(0,0)translate(0,0)translate(0,0)translate(0,0)translate(0,0)translate(0,0)translate(0,0)translate(0,0)translate(0,0)translate(0,0)translate(0,0)translate(0,0)translate(0,0)translate(0,0)translate(0,0)translate(0,0)translate(0,0)translate(0,0)translate(0,0)translate(0,0)translate(0,0)translate(0,0)translate(0,0)translate(0,0)translate(0,0)translate(0,0)translate(0,0)translate(0,0)translate(0,0)translate(0,0)translate(0,0)translate(0,0)translate(0,0)translate(0,0)translate(0,0)translate(0,0)translate(0,0)translate(0,0)translate(0,0)translate(0,0)translate(0,0)translate(0,0)translate(0,0)translate(0,0)\">\n",
       "<circle cx=\"10\" cy=\"-90\" r=\"2\" />\n",
       "<circle cx=\"140\" cy=\"-90\" r=\"2\" />\n",
       "<path d=\"M40,-50 L10,-90\" />\n",
       "<path d=\"M110,-50 L140,-90\" />\n",
       "</g>\n",
       "<path d=\"M40,-50 C60,-90,90,-90,110,-50\" stroke=\"black\" fill=\"none\" stroke-width=\"3\" transform=\"translate(1,0)translate(1,0)translate(1,0)translate(1,0)translate(1,0)translate(1,0)translate(1,0)translate(1,0)translate(1,0)translate(1,0)translate(1,0)translate(1,0)translate(1,0)translate(1,0)translate(1,0)translate(1,0)translate(1,0)translate(1,0)translate(1,0)translate(1,0)translate(1,0)translate(1,0)translate(1,0)translate(1,0)translate(1,0)translate(1,0)translate(1,0)translate(1,0)translate(1,0)translate(1,0)translate(1,0)translate(1,0)translate(1,0)translate(1,0)translate(1,0)translate(1,0)translate(1,0)translate(1,0)translate(1,0)translate(1,0)translate(1,0)translate(1,0)translate(1,0)translate(1,0)translate(1,0)translate(1,0)translate(1,0)translate(1,0)translate(1,0)translate(1,0)translate(1,0)translate(1,0)translate(1,0)translate(1,0)translate(1,0)translate(1,0)translate(1,0)translate(1,0)translate(1,0)translate(1,0)translate(1,0)translate(1,0)translate(1,0)translate(1,0)translate(1,0)translate(1,0)translate(1,0)translate(1,0)translate(1,0)translate(1,0)translate(1,0)translate(1,0)translate(1,0)translate(1,0)translate(1,0)translate(1,0)translate(1,0)translate(1,0)translate(1,0)translate(1,0)translate(1,0)translate(1,0)translate(1,0)translate(1,0)translate(1,0)translate(1,0)translate(1,0)translate(1,0)translate(1,0)translate(1,0)translate(1,0)translate(1,0)translate(1,0)translate(1,0)translate(1,0)translate(1,0)translate(1,0)translate(1,0)translate(1,0)translate(1,0)\" />\n",
       "<g stroke=\"gray\" fill=\"gray\" stroke-width=\"1\" transform=\"translate(1,0)translate(1,0)translate(1,0)translate(1,0)translate(1,0)translate(1,0)translate(1,0)translate(1,0)translate(1,0)translate(1,0)translate(1,0)translate(1,0)translate(1,0)translate(1,0)translate(1,0)translate(1,0)translate(1,0)translate(1,0)translate(1,0)translate(1,0)translate(1,0)translate(1,0)translate(1,0)translate(1,0)translate(1,0)translate(1,0)translate(1,0)translate(1,0)translate(1,0)translate(1,0)translate(1,0)translate(1,0)translate(1,0)translate(1,0)translate(1,0)translate(1,0)translate(1,0)translate(1,0)translate(1,0)translate(1,0)translate(1,0)translate(1,0)translate(1,0)translate(1,0)translate(1,0)translate(1,0)translate(1,0)translate(1,0)translate(1,0)translate(1,0)translate(1,0)translate(1,0)translate(1,0)translate(1,0)translate(1,0)translate(1,0)translate(1,0)translate(1,0)translate(1,0)translate(1,0)translate(1,0)translate(1,0)translate(1,0)translate(1,0)translate(1,0)translate(1,0)translate(1,0)translate(1,0)translate(1,0)translate(1,0)translate(1,0)translate(1,0)translate(1,0)translate(1,0)translate(1,0)translate(1,0)translate(1,0)translate(1,0)translate(1,0)translate(1,0)translate(1,0)translate(1,0)translate(1,0)translate(1,0)translate(1,0)translate(1,0)translate(1,0)translate(1,0)translate(1,0)translate(1,0)translate(1,0)translate(1,0)translate(1,0)translate(1,0)translate(1,0)translate(1,0)translate(1,0)translate(1,0)translate(1,0)translate(1,0)\">\n",
       "<circle cx=\"60\" cy=\"-90\" r=\"2\" />\n",
       "<circle cx=\"90\" cy=\"-90\" r=\"2\" />\n",
       "<path d=\"M40,-50 L60,-90\" />\n",
       "<path d=\"M110,-50 L90,-90\" />\n",
       "</g>\n",
       "<path d=\"M40,-50 C110,-90,40,-90,110,-50\" stroke=\"black\" fill=\"none\" stroke-width=\"3\" transform=\"translate(2,0)translate(2,0)translate(2,0)translate(2,0)translate(2,0)translate(2,0)translate(2,0)translate(2,0)translate(2,0)translate(2,0)translate(2,0)translate(2,0)translate(2,0)translate(2,0)translate(2,0)translate(2,0)translate(2,0)translate(2,0)translate(2,0)translate(2,0)translate(2,0)translate(2,0)translate(2,0)translate(2,0)translate(2,0)translate(2,0)translate(2,0)translate(2,0)translate(2,0)translate(2,0)translate(2,0)translate(2,0)translate(2,0)translate(2,0)translate(2,0)translate(2,0)translate(2,0)translate(2,0)translate(2,0)translate(2,0)translate(2,0)translate(2,0)translate(2,0)translate(2,0)translate(2,0)translate(2,0)translate(2,0)translate(2,0)translate(2,0)translate(2,0)translate(2,0)translate(2,0)translate(2,0)translate(2,0)translate(2,0)translate(2,0)translate(2,0)translate(2,0)translate(2,0)translate(2,0)translate(2,0)translate(2,0)translate(2,0)translate(2,0)translate(2,0)translate(2,0)translate(2,0)translate(2,0)translate(2,0)translate(2,0)translate(2,0)translate(2,0)translate(2,0)translate(2,0)translate(2,0)translate(2,0)translate(2,0)translate(2,0)translate(2,0)translate(2,0)translate(2,0)translate(2,0)translate(2,0)translate(2,0)translate(2,0)translate(2,0)translate(2,0)translate(2,0)translate(2,0)translate(2,0)translate(2,0)translate(2,0)translate(2,0)translate(2,0)translate(2,0)translate(2,0)translate(2,0)translate(2,0)translate(2,0)translate(2,0)\" />\n",
       "<g stroke=\"gray\" fill=\"gray\" stroke-width=\"1\" transform=\"translate(2,0)translate(2,0)translate(2,0)translate(2,0)translate(2,0)translate(2,0)translate(2,0)translate(2,0)translate(2,0)translate(2,0)translate(2,0)translate(2,0)translate(2,0)translate(2,0)translate(2,0)translate(2,0)translate(2,0)translate(2,0)translate(2,0)translate(2,0)translate(2,0)translate(2,0)translate(2,0)translate(2,0)translate(2,0)translate(2,0)translate(2,0)translate(2,0)translate(2,0)translate(2,0)translate(2,0)translate(2,0)translate(2,0)translate(2,0)translate(2,0)translate(2,0)translate(2,0)translate(2,0)translate(2,0)translate(2,0)translate(2,0)translate(2,0)translate(2,0)translate(2,0)translate(2,0)translate(2,0)translate(2,0)translate(2,0)translate(2,0)translate(2,0)translate(2,0)translate(2,0)translate(2,0)translate(2,0)translate(2,0)translate(2,0)translate(2,0)translate(2,0)translate(2,0)translate(2,0)translate(2,0)translate(2,0)translate(2,0)translate(2,0)translate(2,0)translate(2,0)translate(2,0)translate(2,0)translate(2,0)translate(2,0)translate(2,0)translate(2,0)translate(2,0)translate(2,0)translate(2,0)translate(2,0)translate(2,0)translate(2,0)translate(2,0)translate(2,0)translate(2,0)translate(2,0)translate(2,0)translate(2,0)translate(2,0)translate(2,0)translate(2,0)translate(2,0)translate(2,0)translate(2,0)translate(2,0)translate(2,0)translate(2,0)translate(2,0)translate(2,0)translate(2,0)translate(2,0)translate(2,0)translate(2,0)translate(2,0)\">\n",
       "<circle cx=\"110\" cy=\"-90\" r=\"2\" />\n",
       "<circle cx=\"40\" cy=\"-90\" r=\"2\" />\n",
       "<path d=\"M40,-50 L110,-90\" />\n",
       "<path d=\"M110,-50 L40,-90\" />\n",
       "</g>\n",
       "<path d=\"M40,-50 C110,-90,40,-90,110,-50\" stroke=\"black\" fill=\"none\" stroke-width=\"3\" transform=\"translate(3,0)translate(3,0)translate(3,0)translate(3,0)translate(3,0)translate(3,0)translate(3,0)translate(3,0)translate(3,0)translate(3,0)translate(3,0)translate(3,0)translate(3,0)translate(3,0)translate(3,0)translate(3,0)translate(3,0)translate(3,0)translate(3,0)translate(3,0)translate(3,0)translate(3,0)translate(3,0)translate(3,0)translate(3,0)translate(3,0)translate(3,0)translate(3,0)translate(3,0)translate(3,0)translate(3,0)translate(3,0)translate(3,0)translate(3,0)translate(3,0)translate(3,0)translate(3,0)translate(3,0)translate(3,0)translate(3,0)translate(3,0)translate(3,0)translate(3,0)translate(3,0)translate(3,0)translate(3,0)translate(3,0)translate(3,0)translate(3,0)translate(3,0)translate(3,0)translate(3,0)translate(3,0)translate(3,0)translate(3,0)translate(3,0)translate(3,0)translate(3,0)translate(3,0)translate(3,0)translate(3,0)translate(3,0)translate(3,0)translate(3,0)translate(3,0)translate(3,0)translate(3,0)translate(3,0)translate(3,0)translate(3,0)translate(3,0)translate(3,0)translate(3,0)translate(3,0)translate(3,0)translate(3,0)translate(3,0)translate(3,0)translate(3,0)translate(3,0)translate(3,0)translate(3,0)translate(3,0)translate(3,0)translate(3,0)translate(3,0)translate(3,0)translate(3,0)translate(3,0)translate(3,0)translate(3,0)translate(3,0)translate(3,0)translate(3,0)translate(3,0)translate(3,0)translate(3,0)translate(3,0)translate(3,0)translate(3,0)\" />\n",
       "<g stroke=\"gray\" fill=\"gray\" stroke-width=\"1\" transform=\"translate(3,0)translate(3,0)translate(3,0)translate(3,0)translate(3,0)translate(3,0)translate(3,0)translate(3,0)translate(3,0)translate(3,0)translate(3,0)translate(3,0)translate(3,0)translate(3,0)translate(3,0)translate(3,0)translate(3,0)translate(3,0)translate(3,0)translate(3,0)translate(3,0)translate(3,0)translate(3,0)translate(3,0)translate(3,0)translate(3,0)translate(3,0)translate(3,0)translate(3,0)translate(3,0)translate(3,0)translate(3,0)translate(3,0)translate(3,0)translate(3,0)translate(3,0)translate(3,0)translate(3,0)translate(3,0)translate(3,0)translate(3,0)translate(3,0)translate(3,0)translate(3,0)translate(3,0)translate(3,0)translate(3,0)translate(3,0)translate(3,0)translate(3,0)translate(3,0)translate(3,0)translate(3,0)translate(3,0)translate(3,0)translate(3,0)translate(3,0)translate(3,0)translate(3,0)translate(3,0)translate(3,0)translate(3,0)translate(3,0)translate(3,0)translate(3,0)translate(3,0)translate(3,0)translate(3,0)translate(3,0)translate(3,0)translate(3,0)translate(3,0)translate(3,0)translate(3,0)translate(3,0)translate(3,0)translate(3,0)translate(3,0)translate(3,0)translate(3,0)translate(3,0)translate(3,0)translate(3,0)translate(3,0)translate(3,0)translate(3,0)translate(3,0)translate(3,0)translate(3,0)translate(3,0)translate(3,0)translate(3,0)translate(3,0)translate(3,0)translate(3,0)translate(3,0)translate(3,0)translate(3,0)translate(3,0)translate(3,0)\">\n",
       "<circle cx=\"110\" cy=\"-90\" r=\"2\" />\n",
       "<circle cx=\"40\" cy=\"-90\" r=\"2\" />\n",
       "<path d=\"M40,-50 L110,-90\" />\n",
       "<path d=\"M110,-50 L40,-90\" />\n",
       "</g>\n",
       "<path d=\"M40,-50 C60,-90,90,-10,110,-50\" stroke=\"black\" fill=\"none\" stroke-width=\"3\" transform=\"translate(4,0)translate(4,0)translate(4,0)translate(4,0)translate(4,0)translate(4,0)translate(4,0)translate(4,0)translate(4,0)translate(4,0)translate(4,0)translate(4,0)translate(4,0)translate(4,0)translate(4,0)translate(4,0)translate(4,0)translate(4,0)translate(4,0)translate(4,0)translate(4,0)translate(4,0)translate(4,0)translate(4,0)translate(4,0)translate(4,0)translate(4,0)translate(4,0)translate(4,0)translate(4,0)translate(4,0)translate(4,0)translate(4,0)translate(4,0)translate(4,0)translate(4,0)translate(4,0)translate(4,0)translate(4,0)translate(4,0)translate(4,0)translate(4,0)translate(4,0)translate(4,0)translate(4,0)translate(4,0)translate(4,0)translate(4,0)translate(4,0)translate(4,0)translate(4,0)translate(4,0)translate(4,0)translate(4,0)translate(4,0)translate(4,0)translate(4,0)translate(4,0)translate(4,0)translate(4,0)translate(4,0)translate(4,0)translate(4,0)translate(4,0)translate(4,0)translate(4,0)translate(4,0)translate(4,0)translate(4,0)translate(4,0)translate(4,0)translate(4,0)translate(4,0)translate(4,0)translate(4,0)translate(4,0)translate(4,0)translate(4,0)translate(4,0)translate(4,0)translate(4,0)translate(4,0)translate(4,0)translate(4,0)translate(4,0)translate(4,0)translate(4,0)translate(4,0)translate(4,0)translate(4,0)translate(4,0)translate(4,0)translate(4,0)translate(4,0)translate(4,0)translate(4,0)translate(4,0)translate(4,0)translate(4,0)translate(4,0)\" />\n",
       "<g stroke=\"gray\" fill=\"gray\" stroke-width=\"1\" transform=\"translate(4,0)translate(4,0)translate(4,0)translate(4,0)translate(4,0)translate(4,0)translate(4,0)translate(4,0)translate(4,0)translate(4,0)translate(4,0)translate(4,0)translate(4,0)translate(4,0)translate(4,0)translate(4,0)translate(4,0)translate(4,0)translate(4,0)translate(4,0)translate(4,0)translate(4,0)translate(4,0)translate(4,0)translate(4,0)translate(4,0)translate(4,0)translate(4,0)translate(4,0)translate(4,0)translate(4,0)translate(4,0)translate(4,0)translate(4,0)translate(4,0)translate(4,0)translate(4,0)translate(4,0)translate(4,0)translate(4,0)translate(4,0)translate(4,0)translate(4,0)translate(4,0)translate(4,0)translate(4,0)translate(4,0)translate(4,0)translate(4,0)translate(4,0)translate(4,0)translate(4,0)translate(4,0)translate(4,0)translate(4,0)translate(4,0)translate(4,0)translate(4,0)translate(4,0)translate(4,0)translate(4,0)translate(4,0)translate(4,0)translate(4,0)translate(4,0)translate(4,0)translate(4,0)translate(4,0)translate(4,0)translate(4,0)translate(4,0)translate(4,0)translate(4,0)translate(4,0)translate(4,0)translate(4,0)translate(4,0)translate(4,0)translate(4,0)translate(4,0)translate(4,0)translate(4,0)translate(4,0)translate(4,0)translate(4,0)translate(4,0)translate(4,0)translate(4,0)translate(4,0)translate(4,0)translate(4,0)translate(4,0)translate(4,0)translate(4,0)translate(4,0)translate(4,0)translate(4,0)translate(4,0)translate(4,0)translate(4,0)\">\n",
       "<circle cx=\"60\" cy=\"-90\" r=\"2\" />\n",
       "<circle cx=\"90\" cy=\"-10\" r=\"2\" />\n",
       "<path d=\"M40,-50 L60,-90\" />\n",
       "<path d=\"M110,-50 L90,-10\" />\n",
       "</g>\n",
       "<path d=\"M40,-50 C110,-90,40,-10,110,-50\" stroke=\"black\" fill=\"none\" stroke-width=\"3\" transform=\"translate(5,0)translate(5,0)translate(5,0)translate(5,0)translate(5,0)translate(5,0)translate(5,0)translate(5,0)translate(5,0)translate(5,0)translate(5,0)translate(5,0)translate(5,0)translate(5,0)translate(5,0)translate(5,0)translate(5,0)translate(5,0)translate(5,0)translate(5,0)translate(5,0)translate(5,0)translate(5,0)translate(5,0)translate(5,0)translate(5,0)translate(5,0)translate(5,0)translate(5,0)translate(5,0)translate(5,0)translate(5,0)translate(5,0)translate(5,0)translate(5,0)translate(5,0)translate(5,0)translate(5,0)translate(5,0)translate(5,0)translate(5,0)translate(5,0)translate(5,0)translate(5,0)translate(5,0)translate(5,0)translate(5,0)translate(5,0)translate(5,0)translate(5,0)translate(5,0)translate(5,0)translate(5,0)translate(5,0)translate(5,0)translate(5,0)translate(5,0)translate(5,0)translate(5,0)translate(5,0)translate(5,0)translate(5,0)translate(5,0)translate(5,0)translate(5,0)translate(5,0)translate(5,0)translate(5,0)translate(5,0)translate(5,0)translate(5,0)translate(5,0)translate(5,0)translate(5,0)translate(5,0)translate(5,0)translate(5,0)translate(5,0)translate(5,0)translate(5,0)translate(5,0)translate(5,0)translate(5,0)translate(5,0)translate(5,0)translate(5,0)translate(5,0)translate(5,0)translate(5,0)translate(5,0)translate(5,0)translate(5,0)translate(5,0)translate(5,0)translate(5,0)translate(5,0)translate(5,0)translate(5,0)translate(5,0)translate(5,0)\" />\n",
       "<g stroke=\"gray\" fill=\"gray\" stroke-width=\"1\" transform=\"translate(5,0)translate(5,0)translate(5,0)translate(5,0)translate(5,0)translate(5,0)translate(5,0)translate(5,0)translate(5,0)translate(5,0)translate(5,0)translate(5,0)translate(5,0)translate(5,0)translate(5,0)translate(5,0)translate(5,0)translate(5,0)translate(5,0)translate(5,0)translate(5,0)translate(5,0)translate(5,0)translate(5,0)translate(5,0)translate(5,0)translate(5,0)translate(5,0)translate(5,0)translate(5,0)translate(5,0)translate(5,0)translate(5,0)translate(5,0)translate(5,0)translate(5,0)translate(5,0)translate(5,0)translate(5,0)translate(5,0)translate(5,0)translate(5,0)translate(5,0)translate(5,0)translate(5,0)translate(5,0)translate(5,0)translate(5,0)translate(5,0)translate(5,0)translate(5,0)translate(5,0)translate(5,0)translate(5,0)translate(5,0)translate(5,0)translate(5,0)translate(5,0)translate(5,0)translate(5,0)translate(5,0)translate(5,0)translate(5,0)translate(5,0)translate(5,0)translate(5,0)translate(5,0)translate(5,0)translate(5,0)translate(5,0)translate(5,0)translate(5,0)translate(5,0)translate(5,0)translate(5,0)translate(5,0)translate(5,0)translate(5,0)translate(5,0)translate(5,0)translate(5,0)translate(5,0)translate(5,0)translate(5,0)translate(5,0)translate(5,0)translate(5,0)translate(5,0)translate(5,0)translate(5,0)translate(5,0)translate(5,0)translate(5,0)translate(5,0)translate(5,0)translate(5,0)translate(5,0)translate(5,0)translate(5,0)translate(5,0)\">\n",
       "<circle cx=\"110\" cy=\"-90\" r=\"2\" />\n",
       "<circle cx=\"40\" cy=\"-10\" r=\"2\" />\n",
       "<path d=\"M40,-50 L110,-90\" />\n",
       "<path d=\"M110,-50 L40,-10\" />\n",
       "</g>\n",
       "</svg>"
      ],
      "text/plain": [
       "<drawSvg.drawing.Drawing at 0x7f3472ea5100>"
      ]
     },
     "execution_count": 38,
     "metadata": {},
     "output_type": "execute_result"
    }
   ],
   "source": [
    "d = dw.Drawing(650,100)\n",
    "pnt_1 = (40,50)\n",
    "pnt_2 = (110,50)\n",
    "ctl_1_x = (10,60,110,110,60,110)\n",
    "ctls_2 = ((140,90),(90,90),(40,90),(40,90),(90,10),(40,10))\n",
    "\n",
    "for i in range(6):\n",
    "    trans = 'translate(%d,0)' % i*100\n",
    "    p = dw.Path(stroke='black',fill='none',stroke_width=3,transform=trans)\n",
    "    ctl_1 = (ctl_1_x[i],90)\n",
    "    ctl_2 = ctls_2[i]\n",
    "    p.M(*pnt_1)\n",
    "    p.C(*ctl_1,*ctl_2,*pnt_2)\n",
    "    d.append(p)\n",
    "    g = dw.Group(stroke='gray',fill='gray',stroke_width=1,transform=trans)\n",
    "    g.append(dw.Circle(*ctl_1,2))\n",
    "    g.append(dw.Circle(*ctl_2,2))\n",
    "    g.append(dw.Line(*pnt_1,*ctl_1))\n",
    "    g.append(dw.Line(*pnt_2,*ctl_2))\n",
    "    d.append(g)\n",
    "\n",
    "d"
   ]
  },
  {
   "cell_type": "markdown",
   "id": "smoking-waste",
   "metadata": {},
   "source": [
    "Cubic Bézier with several segments"
   ]
  },
  {
   "cell_type": "code",
   "execution_count": 48,
   "id": "employed-unknown",
   "metadata": {},
   "outputs": [
    {
     "data": {
      "image/svg+xml": [
       "<?xml version=\"1.0\" encoding=\"UTF-8\"?>\n",
       "<svg xmlns=\"http://www.w3.org/2000/svg\" xmlns:xlink=\"http://www.w3.org/1999/xlink\"\n",
       "     width=\"200\" height=\"200\" viewBox=\"0 -200 200 200\">\n",
       "<defs>\n",
       "</defs>\n",
       "<path d=\"M30,-100 C50,-150,70,-180,100,-100 C110,-70,45,-50,65,-100\" stroke=\"black\" fill=\"none\" stroke-width=\"3\" />\n",
       "<g stroke=\"gray\" fill=\"gray\" stroke-width=\"1\">\n",
       "<path d=\"M30,-100 L50,-150\" />\n",
       "<path d=\"M100,-100 L70,-180\" />\n",
       "<path d=\"M100,-100 L110,-70\" />\n",
       "<path d=\"M65,-100 L45,-50\" />\n",
       "</g>\n",
       "<circle cx=\"30\" cy=\"-100\" r=\"4\" />\n",
       "<circle cx=\"100\" cy=\"-100\" r=\"4\" />\n",
       "<circle cx=\"65\" cy=\"-100\" r=\"4\" />\n",
       "<circle cx=\"50\" cy=\"-150\" r=\"2\" stroke=\"gray\" fill=\"gray\" />\n",
       "<circle cx=\"70\" cy=\"-180\" r=\"2\" stroke=\"gray\" fill=\"gray\" />\n",
       "<circle cx=\"110\" cy=\"-70\" r=\"2\" stroke=\"gray\" fill=\"gray\" />\n",
       "<circle cx=\"45\" cy=\"-50\" r=\"2\" stroke=\"gray\" fill=\"gray\" />\n",
       "</svg>"
      ],
      "text/plain": [
       "<drawSvg.drawing.Drawing at 0x7f34730698b0>"
      ]
     },
     "execution_count": 48,
     "metadata": {},
     "output_type": "execute_result"
    }
   ],
   "source": [
    "d = dw.Drawing(200,200)\n",
    "pnt_1 = (30,100)\n",
    "pnt_2 = (100,100)\n",
    "pnt_3 = (65,100)\n",
    "ctl_1 = (50,150)\n",
    "ctl_2 = (70,180)\n",
    "ctl_3 = (110,70)\n",
    "ctl_4 = (45,50)\n",
    "\n",
    "p = dw.Path(stroke='black',fill='none',stroke_width=3)\n",
    "p.M(*pnt_1)\n",
    "p.C(*ctl_1,*ctl_2,*pnt_2)\n",
    "p.C(*ctl_3,*ctl_4,*pnt_3)\n",
    "d.append(p)\n",
    "\n",
    "g = dw.Group(stroke='gray',fill='gray',stroke_width=1)\n",
    "g.append(dw.Line(*pnt_1,*ctl_1))\n",
    "g.append(dw.Line(*pnt_2,*ctl_2))\n",
    "g.append(dw.Line(*pnt_2,*ctl_3))\n",
    "g.append(dw.Line(*pnt_3,*ctl_4))\n",
    "d.append(g)\n",
    "\n",
    "for pnt in (pnt_1,pnt_2,pnt_3):\n",
    "    d.append(dw.Circle(*pnt,4))\n",
    "\n",
    "for ctl in (ctl_1,ctl_2,ctl_3,ctl_4):\n",
    "    d.append(dw.Circle(*ctl,2,stroke='gray',fill='gray'))\n",
    "\n",
    "d"
   ]
  },
  {
   "cell_type": "markdown",
   "id": "stable-agreement",
   "metadata": {},
   "source": [
    "Smooth transition between curve segments is done via the `S` command (in analogy to the T command for quadratic curves. The first control point of the next segment will be constructed as reflection of the previous ending control point."
   ]
  },
  {
   "cell_type": "code",
   "execution_count": 51,
   "id": "adverse-quantity",
   "metadata": {},
   "outputs": [
    {
     "data": {
      "image/svg+xml": [
       "<?xml version=\"1.0\" encoding=\"UTF-8\"?>\n",
       "<svg xmlns=\"http://www.w3.org/2000/svg\" xmlns:xlink=\"http://www.w3.org/1999/xlink\"\n",
       "     width=\"250\" height=\"150\" viewBox=\"0 -150 250 150\">\n",
       "<defs>\n",
       "</defs>\n",
       "<path d=\"M30,-50 C50,-120,70,-100,100,-50 S150,-110,200,-70\" stroke=\"black\" fill=\"none\" stroke-width=\"3\" />\n",
       "<circle cx=\"30\" cy=\"-50\" r=\"4\" />\n",
       "<circle cx=\"50\" cy=\"-120\" r=\"2\" stroke=\"gray\" fill=\"gray\" />\n",
       "<path d=\"M30,-50 L50,-120\" stroke=\"gray\" />\n",
       "<circle cx=\"100\" cy=\"-50\" r=\"4\" />\n",
       "<circle cx=\"70\" cy=\"-100\" r=\"2\" stroke=\"gray\" fill=\"gray\" />\n",
       "<path d=\"M100,-50 L70,-100\" stroke=\"gray\" />\n",
       "<circle cx=\"200\" cy=\"-70\" r=\"4\" />\n",
       "<circle cx=\"150\" cy=\"-110\" r=\"2\" stroke=\"gray\" fill=\"gray\" />\n",
       "<path d=\"M200,-70 L150,-110\" stroke=\"gray\" />\n",
       "</svg>"
      ],
      "text/plain": [
       "<drawSvg.drawing.Drawing at 0x7f3472e9ba90>"
      ]
     },
     "execution_count": 51,
     "metadata": {},
     "output_type": "execute_result"
    }
   ],
   "source": [
    "d = dw.Drawing(250,150)\n",
    "pnt_1 = (30,50)\n",
    "pnt_2 = (100,50)\n",
    "pnt_3 = (200,70)\n",
    "ctl_1 = (50,120)\n",
    "ctl_2 = (70,100)\n",
    "ctl_3 = (150,110)\n",
    "\n",
    "p = dw.Path(stroke='black',fill='none',stroke_width=3)\n",
    "p.M(*pnt_1)\n",
    "p.C(*ctl_1,*ctl_2,*pnt_2)\n",
    "p.S(*ctl_3,*pnt_3)\n",
    "d.append(p)\n",
    "\n",
    "for pnt,ctl in zip((pnt_1,pnt_2,pnt_3),(ctl_1,ctl_2,ctl_3)):\n",
    "    d.append(dw.Circle(*pnt,4))\n",
    "    d.append(dw.Circle(*ctl,2,stroke='gray',fill='gray'))\n",
    "    d.append(dw.Line(*pnt,*ctl,stroke='gray'))\n",
    "\n",
    "d"
   ]
  },
  {
   "cell_type": "markdown",
   "id": "heated-writing",
   "metadata": {},
   "source": [
    "## 6.9 The `marker` Element HOWTO??"
   ]
  },
  {
   "cell_type": "code",
   "execution_count": 91,
   "id": "coral-revision",
   "metadata": {},
   "outputs": [
    {
     "data": {
      "image/svg+xml": [
       "<?xml version=\"1.0\" encoding=\"UTF-8\"?>\n",
       "<svg xmlns=\"http://www.w3.org/2000/svg\" xmlns:xlink=\"http://www.w3.org/1999/xlink\"\n",
       "     width=\"150\" height=\"150\" viewBox=\"0 -150 150 150\" stroke=\"black\" fill=\"none\">\n",
       "<defs>\n",
       "</defs>\n",
       "<path d=\"M10,-130 L100,-130 A20,30,0,0,1,120,-100 L120,-40\" />\n",
       "</svg>"
      ],
      "text/plain": [
       "<drawSvg.drawing.Drawing at 0x7f3472e8a730>"
      ]
     },
     "execution_count": 91,
     "metadata": {},
     "output_type": "execute_result"
    }
   ],
   "source": [
    "d = dw.Drawing(150,150,stroke='black',fill='none')\n",
    "\n",
    "# line as path\n",
    "p = dw.Path()\n",
    "p.M(10,130)\n",
    "p.L(100,130)\n",
    "p.A(20,30,0,0,1,120,100)\n",
    "p.L(120,40)\n",
    "\n",
    "# circle at beginning\n",
    "\n",
    "d.append(p)\n",
    "d"
   ]
  },
  {
   "cell_type": "code",
   "execution_count": 89,
   "id": "provincial-actress",
   "metadata": {},
   "outputs": [
    {
     "name": "stdout",
     "output_type": "stream",
     "text": [
      "Help on class DrawingDefSub in module drawSvg.defs:\n",
      "\n",
      "class DrawingDefSub(drawSvg.elements.DrawingParentElement)\n",
      " |  DrawingDefSub(children=(), orderedChildren=None, **args)\n",
      " |  \n",
      " |  Parent class of SVG nodes that are meant to be descendants of a Def\n",
      " |  \n",
      " |  Method resolution order:\n",
      " |      DrawingDefSub\n",
      " |      drawSvg.elements.DrawingParentElement\n",
      " |      drawSvg.elements.DrawingBasicElement\n",
      " |      drawSvg.elements.DrawingElement\n",
      " |      builtins.object\n",
      " |  \n",
      " |  Methods inherited from drawSvg.elements.DrawingParentElement:\n",
      " |  \n",
      " |  __init__(self, children=(), orderedChildren=None, **args)\n",
      " |      Initialize self.  See help(type(self)) for accurate signature.\n",
      " |  \n",
      " |  append(self, element, *, z=None)\n",
      " |  \n",
      " |  draw(self, obj, *, z=None, **kwargs)\n",
      " |  \n",
      " |  extend(self, iterable, *, z=None)\n",
      " |  \n",
      " |  writeContent(self, idGen, isDuplicate, outputFile, dryRun)\n",
      " |      Override in a subclass to add data between the start and end\n",
      " |      tags.  This will not be called if hasContent is False.\n",
      " |  \n",
      " |  ----------------------------------------------------------------------\n",
      " |  Data and other attributes inherited from drawSvg.elements.DrawingParentElement:\n",
      " |  \n",
      " |  hasContent = True\n",
      " |  \n",
      " |  ----------------------------------------------------------------------\n",
      " |  Methods inherited from drawSvg.elements.DrawingBasicElement:\n",
      " |  \n",
      " |  __eq__(self, other)\n",
      " |      Return self==value.\n",
      " |  \n",
      " |  allChildren(self)\n",
      " |      Returns self.children and self.orderedChildren as a single list.\n",
      " |  \n",
      " |  appendAnim(self, animateElement)\n",
      " |  \n",
      " |  appendTitle(self, text, **kwargs)\n",
      " |  \n",
      " |  checkChildrenAllowed(self)\n",
      " |  \n",
      " |  extendAnim(self, animateIterable)\n",
      " |  \n",
      " |  getSvgDefs(self)\n",
      " |  \n",
      " |  writeChildrenContent(self, idGen, isDuplicate, outputFile, dryRun)\n",
      " |      Override in a subclass to add data between the start and end\n",
      " |      tags.  This will not be called if hasContent is False.\n",
      " |  \n",
      " |  writeSvgDefs(self, idGen, isDuplicate, outputFile, dryRun)\n",
      " |  \n",
      " |  writeSvgElement(self, idGen, isDuplicate, outputFile, dryRun, forceDup=False)\n",
      " |  \n",
      " |  ----------------------------------------------------------------------\n",
      " |  Data descriptors inherited from drawSvg.elements.DrawingBasicElement:\n",
      " |  \n",
      " |  id\n",
      " |  \n",
      " |  ----------------------------------------------------------------------\n",
      " |  Data and other attributes inherited from drawSvg.elements.DrawingBasicElement:\n",
      " |  \n",
      " |  TAG_NAME = '_'\n",
      " |  \n",
      " |  __hash__ = None\n",
      " |  \n",
      " |  ----------------------------------------------------------------------\n",
      " |  Methods inherited from drawSvg.elements.DrawingElement:\n",
      " |  \n",
      " |  getLinkedElems(self)\n",
      " |  \n",
      " |  ----------------------------------------------------------------------\n",
      " |  Data descriptors inherited from drawSvg.elements.DrawingElement:\n",
      " |  \n",
      " |  __dict__\n",
      " |      dictionary for instance variables (if defined)\n",
      " |  \n",
      " |  __weakref__\n",
      " |      list of weak references to the object (if defined)\n",
      "\n"
     ]
    }
   ],
   "source": [
    "help(dw.DrawingDefSub)"
   ]
  },
  {
   "cell_type": "code",
   "execution_count": null,
   "id": "distributed-corps",
   "metadata": {},
   "outputs": [],
   "source": []
  }
 ],
 "metadata": {
  "kernelspec": {
   "display_name": "Python 3",
   "language": "python",
   "name": "python3"
  },
  "language_info": {
   "codemirror_mode": {
    "name": "ipython",
    "version": 3
   },
   "file_extension": ".py",
   "mimetype": "text/x-python",
   "name": "python",
   "nbconvert_exporter": "python",
   "pygments_lexer": "ipython3",
   "version": "3.9.2"
  }
 },
 "nbformat": 4,
 "nbformat_minor": 5
}
