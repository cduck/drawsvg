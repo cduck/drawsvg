{
 "cells": [
  {
   "cell_type": "markdown",
   "id": "given-reality",
   "metadata": {},
   "source": [
    "# 3. Basic Shapes"
   ]
  },
  {
   "cell_type": "code",
   "execution_count": 1,
   "id": "religious-gathering",
   "metadata": {},
   "outputs": [],
   "source": [
    "import drawSvg as dw"
   ]
  },
  {
   "cell_type": "markdown",
   "id": "smooth-pride",
   "metadata": {},
   "source": [
    "## 3.1 Lines"
   ]
  },
  {
   "cell_type": "code",
   "execution_count": 2,
   "id": "scheduled-universal",
   "metadata": {},
   "outputs": [
    {
     "data": {
      "image/svg+xml": [
       "<?xml version=\"1.0\" encoding=\"UTF-8\"?>\n",
       "<svg xmlns=\"http://www.w3.org/2000/svg\" xmlns:xlink=\"http://www.w3.org/1999/xlink\"\n",
       "     width=\"200\" height=\"200\" viewBox=\"0 -200 200 200\">\n",
       "<defs>\n",
       "</defs>\n",
       "<path d=\"M40,-180 L80,-180\" stroke=\"black\" />\n",
       "<path d=\"M20,-120 L20,-160\" stroke=\"black\" />\n",
       "<path d=\"M30,-170 L85,-115\" stroke=\"black\" />\n",
       "</svg>"
      ],
      "text/plain": [
       "<drawSvg.drawing.Drawing at 0x7f3dd391dd00>"
      ]
     },
     "execution_count": 2,
     "metadata": {},
     "output_type": "execute_result"
    }
   ],
   "source": [
    "d = dw.Drawing(200,200)\n",
    "\n",
    "#horizontal line\n",
    "hl = dw.Line(40,180,80,180,stroke='black')\n",
    "d.append(hl)\n",
    "\n",
    "#vertical line\n",
    "vl = dw.Line(20,120,20,160,stroke='black')\n",
    "d.append(vl)\n",
    "\n",
    "#diagonal line\n",
    "dl = dw.Line(30,170,85,115,stroke='black')\n",
    "d.append(dl)\n",
    "\n",
    "d"
   ]
  },
  {
   "cell_type": "markdown",
   "id": "religious-apartment",
   "metadata": {},
   "source": [
    "## 3.2 Stroke Characteristics"
   ]
  },
  {
   "cell_type": "markdown",
   "id": "noticed-instruction",
   "metadata": {},
   "source": [
    "### 3.2.1 stroke_width"
   ]
  },
  {
   "cell_type": "code",
   "execution_count": 3,
   "id": "bound-massage",
   "metadata": {},
   "outputs": [
    {
     "data": {
      "image/svg+xml": [
       "<?xml version=\"1.0\" encoding=\"UTF-8\"?>\n",
       "<svg xmlns=\"http://www.w3.org/2000/svg\" xmlns:xlink=\"http://www.w3.org/1999/xlink\"\n",
       "     width=\"200\" height=\"200\" viewBox=\"0 -200 200 200\">\n",
       "<defs>\n",
       "</defs>\n",
       "<path d=\"M40,-180 L80,-180\" stroke=\"black\" stroke-width=\"10\" />\n",
       "<path d=\"M20,-120 L20,-160\" stroke=\"black\" stroke-width=\"10\" />\n",
       "<path d=\"M30,-170 L85,-115\" stroke=\"black\" stroke-width=\"10\" />\n",
       "</svg>"
      ],
      "text/plain": [
       "<drawSvg.drawing.Drawing at 0x7f3dd38aa070>"
      ]
     },
     "execution_count": 3,
     "metadata": {},
     "output_type": "execute_result"
    }
   ],
   "source": [
    "d = dw.Drawing(200,200)\n",
    "\n",
    "#horizontal line\n",
    "hl = dw.Line(40,180,80,180,stroke='black',stroke_width=10)\n",
    "d.append(hl)\n",
    "\n",
    "#vertical line\n",
    "vl = dw.Line(20,120,20,160,stroke='black',stroke_width=10)\n",
    "d.append(vl)\n",
    "\n",
    "#diagonal line\n",
    "dl = dw.Line(30,170,85,115,stroke='black',stroke_width=10)\n",
    "d.append(dl)\n",
    "\n",
    "d"
   ]
  },
  {
   "cell_type": "markdown",
   "id": "ethical-devices",
   "metadata": {},
   "source": [
    "### 3.2.2 stroke_color"
   ]
  },
  {
   "cell_type": "markdown",
   "id": "promotional-animation",
   "metadata": {},
   "source": [
    "Possible color keyword names are: `aqua , black , blue , fuchsia , gray , green ,\n",
    "lime , maroon , navy , olive , purple , red , silver , teal , white`, and `yellow`.\n",
    "\n",
    "Or `#rrggbb`, or `#rgb` (hexadecimal) or `rgb(R,G,B)` with 0-255 or with 0-100% for each value."
   ]
  },
  {
   "cell_type": "code",
   "execution_count": 18,
   "id": "sexual-donna",
   "metadata": {},
   "outputs": [
    {
     "data": {
      "image/svg+xml": [
       "<?xml version=\"1.0\" encoding=\"UTF-8\"?>\n",
       "<svg xmlns=\"http://www.w3.org/2000/svg\" xmlns:xlink=\"http://www.w3.org/1999/xlink\"\n",
       "     width=\"100\" height=\"60\" viewBox=\"0 -60 100 60\">\n",
       "<defs>\n",
       "</defs>\n",
       "<path d=\"M10,-50 L80,-50\" stroke=\"red\" stroke-width=\"5\" />\n",
       "<path d=\"M10,-40 L80,-40\" stroke=\"#9f9\" stroke-width=\"5\" />\n",
       "<path d=\"M10,-30 L80,-30\" stroke=\"#9999ff\" stroke-width=\"5\" />\n",
       "<path d=\"M10,-20 L80,-20\" stroke=\"rgb(255,128,64)\" stroke-width=\"5\" />\n",
       "<path d=\"M10,-10 L80,-10\" stroke=\"rgb(60%,20%,60%)\" stroke-width=\"5\" />\n",
       "</svg>"
      ],
      "text/plain": [
       "<drawSvg.drawing.Drawing at 0x7f3dd38db910>"
      ]
     },
     "execution_count": 18,
     "metadata": {},
     "output_type": "execute_result"
    }
   ],
   "source": [
    "d = dw.Drawing(100,60)\n",
    "c = ['red', '#9f9', '#9999ff', 'rgb(255,128,64)', 'rgb(60%,20%,60%)']\n",
    "for i in range(5):\n",
    "    y = (5-i)*10\n",
    "    d.append(dw.Line(10,y,80,y,stroke=c[i],stroke_width=5))\n",
    "d"
   ]
  },
  {
   "cell_type": "markdown",
   "id": "animated-diamond",
   "metadata": {},
   "source": [
    "### 3.2.3 stroke_opacity\n",
    "0 = transparent, 1 = solid"
   ]
  },
  {
   "cell_type": "code",
   "execution_count": 20,
   "id": "historical-helena",
   "metadata": {},
   "outputs": [
    {
     "data": {
      "image/svg+xml": [
       "<?xml version=\"1.0\" encoding=\"UTF-8\"?>\n",
       "<svg xmlns=\"http://www.w3.org/2000/svg\" xmlns:xlink=\"http://www.w3.org/1999/xlink\"\n",
       "     width=\"100\" height=\"60\" viewBox=\"0 -60 100 60\">\n",
       "<defs>\n",
       "</defs>\n",
       "<path d=\"M10,-50 L80,-50\" stroke=\"black\" stroke-width=\"5\" stroke-opacity=\"0.2\" />\n",
       "<path d=\"M10,-40 L80,-40\" stroke=\"black\" stroke-width=\"5\" stroke-opacity=\"0.4\" />\n",
       "<path d=\"M10,-30 L80,-30\" stroke=\"black\" stroke-width=\"5\" stroke-opacity=\"0.6000000000000001\" />\n",
       "<path d=\"M10,-20 L80,-20\" stroke=\"black\" stroke-width=\"5\" stroke-opacity=\"0.8\" />\n",
       "<path d=\"M10,-10 L80,-10\" stroke=\"black\" stroke-width=\"5\" stroke-opacity=\"1.0\" />\n",
       "</svg>"
      ],
      "text/plain": [
       "<drawSvg.drawing.Drawing at 0x7f3dd38db6a0>"
      ]
     },
     "execution_count": 20,
     "metadata": {},
     "output_type": "execute_result"
    }
   ],
   "source": [
    "d = dw.Drawing(100,60)\n",
    "for i in range(5):\n",
    "    y = (5-i)*10\n",
    "    d.append(dw.Line(10,y,80,y,stroke='black',stroke_width=5,stroke_opacity=i/5+0.2))\n",
    "d"
   ]
  },
  {
   "cell_type": "markdown",
   "id": "molecular-medication",
   "metadata": {},
   "source": [
    "### 3.2.4 stroke_dasharray attribute"
   ]
  },
  {
   "cell_type": "code",
   "execution_count": 25,
   "id": "casual-bruce",
   "metadata": {},
   "outputs": [
    {
     "data": {
      "image/svg+xml": [
       "<?xml version=\"1.0\" encoding=\"UTF-8\"?>\n",
       "<svg xmlns=\"http://www.w3.org/2000/svg\" xmlns:xlink=\"http://www.w3.org/1999/xlink\"\n",
       "     width=\"150\" height=\"50\" viewBox=\"0 -50 150 50\">\n",
       "<defs>\n",
       "</defs>\n",
       "<path d=\"M10,-40 L100,-40\" stroke-dasharray=\"9,5\" stroke=\"black\" stroke-width=\"2\" />\n",
       "<path d=\"M10,-30 L100,-30\" stroke-dasharray=\"5,3,9,2\" stroke=\"black\" stroke-width=\"2\" />\n",
       "<path d=\"M10,-20 L100,-20\" stroke-dasharray=\"9,3,5\" stroke=\"black\" stroke-width=\"2\" />\n",
       "</svg>"
      ],
      "text/plain": [
       "<drawSvg.drawing.Drawing at 0x7f3dd38db5e0>"
      ]
     },
     "execution_count": 25,
     "metadata": {},
     "output_type": "execute_result"
    }
   ],
   "source": [
    "d = dw.Drawing(150,50)\n",
    "# nine-pixel dash, five-pixel gap\n",
    "d.append(dw.Line(10,40,100,40,stroke_dasharray='9,5',stroke='black',stroke_width=2))\n",
    "# five-pixel dash, three-pixel gap, nine-pixel dash, two-pixel gap\n",
    "d.append(dw.Line(10,30,100,30,stroke_dasharray='5,3,9,2',stroke='black',stroke_width=2))\n",
    "# Odd number of entries is duplicated\n",
    "d.append(dw.Line(10,20,100,20,stroke_dasharray='9,3,5',stroke='black',stroke_width=2))\n",
    "d"
   ]
  },
  {
   "cell_type": "markdown",
   "id": "outside-feature",
   "metadata": {},
   "source": [
    "## 3.3 Rectangles"
   ]
  },
  {
   "cell_type": "code",
   "execution_count": 36,
   "id": "placed-therapist",
   "metadata": {},
   "outputs": [
    {
     "data": {
      "image/svg+xml": [
       "<?xml version=\"1.0\" encoding=\"UTF-8\"?>\n",
       "<svg xmlns=\"http://www.w3.org/2000/svg\" xmlns:xlink=\"http://www.w3.org/1999/xlink\"\n",
       "     width=\"500\" height=\"200\" viewBox=\"0 -200 500 200\">\n",
       "<defs>\n",
       "</defs>\n",
       "<rect x=\"10\" y=\"-160\" width=\"90\" height=\"150\" />\n",
       "<rect x=\"120\" y=\"-130\" width=\"60\" height=\"120\" fill=\"none\" stroke=\"black\" />\n",
       "<rect x=\"210\" y=\"-100\" width=\"75\" height=\"90\" fill=\"#0000ff\" stroke=\"red\" stroke-width=\"7\" stroke-opacity=\"0.5\" />\n",
       "<rect x=\"300\" y=\"-70\" width=\"105\" height=\"60\" fill=\"yellow\" fill-opacity=\"0.5\" stroke=\"green\" stroke-width=\"2\" stroke-dasharray=\"5,2\" />\n",
       "</svg>"
      ],
      "text/plain": [
       "<drawSvg.drawing.Drawing at 0x7f3dd38db820>"
      ]
     },
     "execution_count": 36,
     "metadata": {},
     "output_type": "execute_result"
    }
   ],
   "source": [
    "d = dw.Drawing(500,200)\n",
    "# black interior, no outline\n",
    "d.append(dw.Rectangle(10,10,90,150))\n",
    "# no interior, black outline\n",
    "d.append(dw.Rectangle(120,10,60,120,fill='none',stroke='black'))\n",
    "# blue interior, thick semi-transparent red outline\n",
    "d.append(dw.Rectangle(210,10,75,90,fill='#0000ff',stroke='red',stroke_width=7,stroke_opacity=0.5))\n",
    "# semi-transparent yellow interior, dashed green outline\n",
    "d.append(dw.Rectangle(300,10,105,60,fill='yellow',fill_opacity=0.5,stroke='green',stroke_width=2,stroke_dasharray='5,2'))\n",
    "d"
   ]
  },
  {
   "cell_type": "markdown",
   "id": "continuing-block",
   "metadata": {},
   "source": [
    "### 3.3.1 Rounded Rectangles"
   ]
  },
  {
   "cell_type": "code",
   "execution_count": 44,
   "id": "extensive-malpractice",
   "metadata": {},
   "outputs": [
    {
     "data": {
      "image/svg+xml": [
       "<?xml version=\"1.0\" encoding=\"UTF-8\"?>\n",
       "<svg xmlns=\"http://www.w3.org/2000/svg\" xmlns:xlink=\"http://www.w3.org/1999/xlink\"\n",
       "     width=\"500\" height=\"200\" viewBox=\"0 -200 500 200\">\n",
       "<defs>\n",
       "</defs>\n",
       "<rect x=\"10\" y=\"-190\" width=\"80\" height=\"180\" rx=\"10\" ry=\"10\" stroke=\"black\" fill=\"none\" />\n",
       "<rect x=\"110\" y=\"-190\" width=\"80\" height=\"180\" ry=\"20\" stroke=\"black\" fill=\"none\" />\n",
       "<rect x=\"210\" y=\"-190\" width=\"80\" height=\"180\" rx=\"40\" stroke=\"black\" fill=\"none\" />\n",
       "<rect x=\"310\" y=\"-190\" width=\"80\" height=\"180\" rx=\"30\" ry=\"10\" stroke=\"black\" fill=\"none\" />\n",
       "<rect x=\"410\" y=\"-190\" width=\"80\" height=\"180\" rx=\"10\" ry=\"30\" stroke=\"black\" fill=\"none\" />\n",
       "</svg>"
      ],
      "text/plain": [
       "<drawSvg.drawing.Drawing at 0x7f3dd35eacd0>"
      ]
     },
     "execution_count": 44,
     "metadata": {},
     "output_type": "execute_result"
    }
   ],
   "source": [
    "d = dw.Drawing(500,200)\n",
    "# define both rx and ry\n",
    "d.append(dw.Rectangle(10,10,80,180,rx='10',ry='10',stroke='black',fill='none'))\n",
    "# if only one is given, it applies to both\n",
    "d.append(dw.Rectangle(110,10,80,180,ry='20',stroke='black',fill='none'))\n",
    "d.append(dw.Rectangle(210,10,80,180,rx='40',stroke='black',fill='none'))\n",
    "# rx and ry unequal\n",
    "d.append(dw.Rectangle(310,10,80,180,rx='30',ry='10',stroke='black',fill='none'))\n",
    "d.append(dw.Rectangle(410,10,80,180,rx='10',ry='30',stroke='black',fill='none'))\n",
    "d"
   ]
  },
  {
   "cell_type": "markdown",
   "id": "infinite-emperor",
   "metadata": {},
   "source": [
    "## 3.4 Circles and Ellipses"
   ]
  },
  {
   "cell_type": "code",
   "execution_count": 55,
   "id": "infrared-property",
   "metadata": {},
   "outputs": [
    {
     "data": {
      "image/svg+xml": [
       "<?xml version=\"1.0\" encoding=\"UTF-8\"?>\n",
       "<svg xmlns=\"http://www.w3.org/2000/svg\" xmlns:xlink=\"http://www.w3.org/1999/xlink\"\n",
       "     width=\"600\" height=\"100\" viewBox=\"0 -100 600 100\">\n",
       "<defs>\n",
       "</defs>\n",
       "<circle cx=\"50\" cy=\"-50\" r=\"40\" />\n",
       "<circle cx=\"150\" cy=\"-50\" r=\"40\" stroke=\"black\" fill=\"none\" />\n",
       "<circle cx=\"250\" cy=\"-50\" r=\"40\" stroke=\"black\" fill=\"none\" stroke-width=\"15\" />\n",
       "<ellipse cx=\"350\" cy=\"-50\" rx=\"50\" ry=\"30\" />\n",
       "<ellipse cx=\"460\" cy=\"-50\" rx=\"50\" ry=\"30\" stroke=\"black\" fill=\"none\" />\n",
       "<ellipse cx=\"550\" cy=\"-50\" rx=\"30\" ry=\"45\" stroke=\"black\" fill=\"none\" />\n",
       "</svg>"
      ],
      "text/plain": [
       "<drawSvg.drawing.Drawing at 0x7f3dd31b1910>"
      ]
     },
     "execution_count": 55,
     "metadata": {},
     "output_type": "execute_result"
    }
   ],
   "source": [
    "d = dw.Drawing(600,100)\n",
    "d.append(dw.Circle(50,50,40))\n",
    "d.append(dw.Circle(150,50,40,stroke='black',fill='none'))\n",
    "d.append(dw.Circle(250,50,40,stroke='black',fill='none',stroke_width=15))\n",
    "d.append(dw.Ellipse(350,50,50,30))\n",
    "d.append(dw.Ellipse(460,50,50,30,stroke='black',fill='none'))\n",
    "d.append(dw.Ellipse(550,50,30,45,stroke='black',fill='none'))\n",
    "d"
   ]
  },
  {
   "cell_type": "markdown",
   "id": "imposed-incident",
   "metadata": {},
   "source": [
    "## 3.5 The polygon Element\n",
    "This is `Lines` in drawSvg."
   ]
  },
  {
   "cell_type": "code",
   "execution_count": 12,
   "id": "chinese-gateway",
   "metadata": {},
   "outputs": [
    {
     "data": {
      "image/svg+xml": [
       "<?xml version=\"1.0\" encoding=\"UTF-8\"?>\n",
       "<svg xmlns=\"http://www.w3.org/2000/svg\" xmlns:xlink=\"http://www.w3.org/1999/xlink\"\n",
       "     width=\"100\" height=\"100\" viewBox=\"0 -100 100 100\">\n",
       "<defs>\n",
       "</defs>\n",
       "<path d=\"M15,-10 L55,-10 L45,-20 L5,-20 Z\" fill=\"red\" stroke=\"black\" />\n",
       "<path d=\"M35,-37.5 L37.9,-46.1 L46.9,-46.1 L39.7,-51.5 L42.3,-60.1 L35,-55 L27.7,-60.1 L30.3,-51.5 L23.1,-46.1 L32.1,-46.1 Z\" fill=\"#ccffcc\" stroke=\"green\" />\n",
       "<path d=\"M60,-60 L65,-72 L80,-60 L90,-90 L72,-80 L72,-85 L50,-95 Z\" fill=\"yellow\" fill-opacity=\"0.5\" stroke=\"black\" stroke-width=\"2\" />\n",
       "</svg>"
      ],
      "text/plain": [
       "<drawSvg.drawing.Drawing at 0x7ff478488fa0>"
      ]
     },
     "execution_count": 12,
     "metadata": {},
     "output_type": "execute_result"
    }
   ],
   "source": [
    "d = dw.Drawing(100,100)\n",
    "# parallelogram\n",
    "d.append(dw.Lines(15,10,55,10,45,20,5,20,fill='red',stroke='black',close='true'))\n",
    "# star\n",
    "d.append(dw.Lines(35,37.5, 37.9,46.1, 46.9,46.1, 39.7,51.5,\n",
    "                  42.3,60.1, 35,55, 27.7,60.1, 30.3,51.5,\n",
    "                  23.1,46.1, 32.1,46.1,\n",
    "                 fill='#ccffcc', stroke='green',close='true'))\n",
    "# weird shape\n",
    "d.append(dw.Lines(60,60, 65,72, 80,60, 90,90, 72,80, 72,85, 50,95, \n",
    "                 fill='yellow', fill_opacity=0.5, stroke='black',stroke_width=2,close='true'))\n",
    "d"
   ]
  },
  {
   "cell_type": "markdown",
   "id": "athletic-modern",
   "metadata": {},
   "source": [
    "### 3.5.1 Filling Polygons That Have Intersecting Lines"
   ]
  },
  {
   "cell_type": "code",
   "execution_count": 15,
   "id": "assisted-lying",
   "metadata": {},
   "outputs": [
    {
     "data": {
      "image/svg+xml": [
       "<?xml version=\"1.0\" encoding=\"UTF-8\"?>\n",
       "<svg xmlns=\"http://www.w3.org/2000/svg\" xmlns:xlink=\"http://www.w3.org/1999/xlink\"\n",
       "     width=\"100\" height=\"100\" viewBox=\"0 -100 100 100\">\n",
       "<defs>\n",
       "</defs>\n",
       "<path d=\"M48,-16 L16,-96 L96,-48 L0,-48 L88,-96 Z\" stroke=\"black\" fill=\"none\" />\n",
       "</svg>"
      ],
      "text/plain": [
       "<drawSvg.drawing.Drawing at 0x7ff4784275b0>"
      ]
     },
     "execution_count": 15,
     "metadata": {},
     "output_type": "execute_result"
    }
   ],
   "source": [
    "d = dw.Drawing(100,100)\n",
    "d.append(dw.Lines(48,16, 16,96, 96,48, 0,48, 88,96,\n",
    "         stroke='black',fill='none',close='true'))\n",
    "d"
   ]
  },
  {
   "cell_type": "code",
   "execution_count": 21,
   "id": "divine-parameter",
   "metadata": {},
   "outputs": [
    {
     "data": {
      "image/svg+xml": [
       "<?xml version=\"1.0\" encoding=\"UTF-8\"?>\n",
       "<svg xmlns=\"http://www.w3.org/2000/svg\" xmlns:xlink=\"http://www.w3.org/1999/xlink\"\n",
       "     width=\"200\" height=\"100\" viewBox=\"0 -100 200 100\">\n",
       "<defs>\n",
       "</defs>\n",
       "<path d=\"M48,-84 L16,-4 L96,-52 L0,-52 L88,-4 Z\" fill-rule=\"nonzero\" fill=\"yellow\" stroke=\"black\" />\n",
       "<path d=\"M148,-84 L116,-4 L196,-52 L100,-52 L188,-4 Z\" fill-rule=\"evenodd\" fill=\"#00ff00\" stroke=\"black\" />\n",
       "</svg>"
      ],
      "text/plain": [
       "<drawSvg.drawing.Drawing at 0x7ff4784392e0>"
      ]
     },
     "execution_count": 21,
     "metadata": {},
     "output_type": "execute_result"
    }
   ],
   "source": [
    "d = dw.Drawing(200,100)\n",
    "d.append(dw.Lines(48,84, 16,4, 96,52, 0,52, 88,4,fill_rule='nonzero',fill='yellow',stroke='black',close='true'))\n",
    "d.append(dw.Lines(148,84, 116,4, 196,52, 100,52, 188,4,fill_rule='evenodd',fill='#00ff00',stroke='black',close='true'))\n",
    "d"
   ]
  },
  {
   "cell_type": "markdown",
   "id": "dirty-transaction",
   "metadata": {},
   "source": [
    "## 3.6 The polyline Element\n",
    "Same as Polygon but without closing."
   ]
  },
  {
   "cell_type": "code",
   "execution_count": 85,
   "id": "honey-formula",
   "metadata": {},
   "outputs": [
    {
     "data": {
      "image/svg+xml": [
       "<?xml version=\"1.0\" encoding=\"UTF-8\"?>\n",
       "<svg xmlns=\"http://www.w3.org/2000/svg\" xmlns:xlink=\"http://www.w3.org/1999/xlink\"\n",
       "     width=\"300\" height=\"100\" viewBox=\"0 -100 300 100\">\n",
       "<defs>\n",
       "</defs>\n",
       "<path d=\"M30,-80 L40,-20 L50,-80 L60,-20 L70,-80 L80,-20 L90,-80 L100,-20 L110,-80 L120,-20 L130,-80 L140,-20 L150,-80 L160,-20 L170,-80 L180,-20 L190,-80 L200,-20 L210,-80 L220,-20\" stroke=\"black\" stroke-width=\"5\" fill=\"none\" />\n",
       "</svg>"
      ],
      "text/plain": [
       "<drawSvg.drawing.Drawing at 0x7ff478427c40>"
      ]
     },
     "execution_count": 85,
     "metadata": {},
     "output_type": "execute_result"
    }
   ],
   "source": [
    "d = dw.Drawing(300,100)\n",
    "x = [30+x*10 for x in range(20)]\n",
    "y = [80,20]*10\n",
    "xy = []\n",
    "for i in zip(x,y):\n",
    "    xy.extend(list(i))\n",
    "d.append(dw.Lines(*xy,stroke='black',stroke_width=5,fill='none'))\n",
    "d"
   ]
  },
  {
   "cell_type": "markdown",
   "id": "color-marking",
   "metadata": {},
   "source": [
    "## 3.7 Line Caps and Joins\n",
    "`stroke_linecap` can be set to `butt , round`, or `square`. Note that the latter two extend beyond the coordinates."
   ]
  },
  {
   "cell_type": "code",
   "execution_count": 89,
   "id": "rotary-yukon",
   "metadata": {},
   "outputs": [
    {
     "data": {
      "image/svg+xml": [
       "<?xml version=\"1.0\" encoding=\"UTF-8\"?>\n",
       "<svg xmlns=\"http://www.w3.org/2000/svg\" xmlns:xlink=\"http://www.w3.org/1999/xlink\"\n",
       "     width=\"100\" height=\"100\" viewBox=\"0 -100 100 100\">\n",
       "<defs>\n",
       "</defs>\n",
       "<path d=\"M10,-75 L50,-75\" stroke=\"black\" stroke-linecap=\"butt\" stroke-width=\"15\" />\n",
       "<path d=\"M10,-45 L50,-45\" stroke=\"black\" stroke-linecap=\"round\" stroke-width=\"15\" />\n",
       "<path d=\"M10,-15 L50,-15\" stroke=\"black\" stroke-linecap=\"square\" stroke-width=\"15\" />\n",
       "<path d=\"M10,0 L10,-100\" stroke=\"#999\" />\n",
       "<path d=\"M50,0 L50,-100\" stroke=\"#999\" />\n",
       "</svg>"
      ],
      "text/plain": [
       "<drawSvg.drawing.Drawing at 0x7ff4784397c0>"
      ]
     },
     "execution_count": 89,
     "metadata": {},
     "output_type": "execute_result"
    }
   ],
   "source": [
    "d = dw.Drawing(100,100)\n",
    "d.append(dw.Line(10,75,50,75,stroke='black',stroke_linecap='butt',stroke_width=15))\n",
    "d.append(dw.Line(10,45,50,45,stroke='black',stroke_linecap='round',stroke_width=15))\n",
    "d.append(dw.Line(10,15,50,15,stroke='black',stroke_linecap='square',stroke_width=15))\n",
    "# guide lines\n",
    "d.append(dw.Lines(10,0,10,100,stroke='#999'))\n",
    "d.append(dw.Lines(50,0,50,100,stroke='#999'))\n",
    "d"
   ]
  },
  {
   "cell_type": "markdown",
   "id": "exceptional-diesel",
   "metadata": {},
   "source": [
    "Define the way lines connect at a corner with `stroke-linejoin`: `miter` (pointed), `round`, or `bevel` (flat)."
   ]
  },
  {
   "cell_type": "code",
   "execution_count": 93,
   "id": "equal-amino",
   "metadata": {},
   "outputs": [
    {
     "data": {
      "image/svg+xml": [
       "<?xml version=\"1.0\" encoding=\"UTF-8\"?>\n",
       "<svg xmlns=\"http://www.w3.org/2000/svg\" xmlns:xlink=\"http://www.w3.org/1999/xlink\"\n",
       "     width=\"300\" height=\"100\" viewBox=\"0 -100 300 100\">\n",
       "<defs>\n",
       "</defs>\n",
       "<path d=\"M10,-10 L50,-80 L90,-10\" stroke-width=\"20\" stroke=\"black\" stroke-linejoin=\"miter\" fill=\"none\" />\n",
       "<path d=\"M110,-10 L150,-80 L190,-10\" stroke-width=\"20\" stroke=\"black\" stroke-linejoin=\"round\" fill=\"none\" />\n",
       "<path d=\"M210,-10 L250,-80 L290,-10\" stroke-width=\"20\" stroke=\"black\" stroke-linejoin=\"bevel\" fill=\"none\" />\n",
       "</svg>"
      ],
      "text/plain": [
       "<drawSvg.drawing.Drawing at 0x7ff478439e80>"
      ]
     },
     "execution_count": 93,
     "metadata": {},
     "output_type": "execute_result"
    }
   ],
   "source": [
    "d = dw.Drawing(300,100)\n",
    "d.append(dw.Lines(10,10,50,80,90,10,stroke_width=20,stroke='black',stroke_linejoin='miter',fill='none'))\n",
    "d.append(dw.Lines(110,10,150,80,190,10,stroke_width=20,stroke='black',stroke_linejoin='round',fill='none'))\n",
    "d.append(dw.Lines(210,10,250,80,290,10,stroke_width=20,stroke='black',stroke_linejoin='bevel',fill='none'))\n",
    "d"
   ]
  },
  {
   "cell_type": "code",
   "execution_count": null,
   "id": "rotary-christianity",
   "metadata": {},
   "outputs": [],
   "source": []
  }
 ],
 "metadata": {
  "kernelspec": {
   "display_name": "Python 3",
   "language": "python",
   "name": "python3"
  },
  "language_info": {
   "codemirror_mode": {
    "name": "ipython",
    "version": 3
   },
   "file_extension": ".py",
   "mimetype": "text/x-python",
   "name": "python",
   "nbconvert_exporter": "python",
   "pygments_lexer": "ipython3",
   "version": "3.9.2"
  }
 },
 "nbformat": 4,
 "nbformat_minor": 5
}
