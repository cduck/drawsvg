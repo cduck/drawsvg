{
 "cells": [
  {
   "cell_type": "markdown",
   "id": "shaped-aviation",
   "metadata": {},
   "source": [
    "# 7. Patterns and Gradients"
   ]
  },
  {
   "cell_type": "code",
   "execution_count": 1,
   "id": "musical-intranet",
   "metadata": {},
   "outputs": [],
   "source": [
    "import drawSvg as dw"
   ]
  },
  {
   "cell_type": "markdown",
   "id": "distinct-context",
   "metadata": {},
   "source": [
    "## 7.1 Patterns"
   ]
  },
  {
   "cell_type": "markdown",
   "id": "julian-desktop",
   "metadata": {},
   "source": [
    "## 7.2 Gradients"
   ]
  },
  {
   "cell_type": "markdown",
   "id": "quarterly-responsibility",
   "metadata": {},
   "source": [
    "### 7.2.1 linearGradients"
   ]
  },
  {
   "cell_type": "code",
   "execution_count": 40,
   "id": "covered-police",
   "metadata": {},
   "outputs": [
    {
     "data": {
      "image/svg+xml": [
       "<?xml version=\"1.0\" encoding=\"UTF-8\"?>\n",
       "<svg xmlns=\"http://www.w3.org/2000/svg\" xmlns:xlink=\"http://www.w3.org/1999/xlink\"\n",
       "     width=\"200\" height=\"100\" viewBox=\"0 -100 200 100\">\n",
       "<defs>\n",
       "<linearGradient x1=\"150\" y1=\"0\" x2=\"0\" y2=\"0\" gradientUnits=\"userSpaceOnUse\" id=\"d0\">\n",
       "<stop offset=\"0\" stop-color=\"green\" />\n",
       "<stop offset=\"1\" stop-color=\"yellow\" />\n",
       "</linearGradient>\n",
       "</defs>\n",
       "<rect x=\"10\" y=\"-70\" width=\"150\" height=\"60\" stroke=\"black\" fill=\"url(#d0)\" />\n",
       "</svg>"
      ],
      "text/plain": [
       "<drawSvg.drawing.Drawing at 0x7fbf7029f820>"
      ]
     },
     "execution_count": 40,
     "metadata": {},
     "output_type": "execute_result"
    }
   ],
   "source": [
    "d = dw.Drawing(200,100)\n",
    "grad = dw.LinearGradient(150,0,0,0)\n",
    "grad.addStop(0,'green')\n",
    "grad.addStop(1,'yellow')\n",
    "d.append(dw.Rectangle(10,10,150,60,stroke='black',fill=grad))\n",
    "d"
   ]
  },
  {
   "cell_type": "markdown",
   "id": "unauthorized-provider",
   "metadata": {},
   "source": [
    "### 7.2.2 radialGradient\n",
    "See example 2 in the built-in example collection"
   ]
  },
  {
   "cell_type": "code",
   "execution_count": null,
   "id": "obvious-sperm",
   "metadata": {},
   "outputs": [],
   "source": []
  }
 ],
 "metadata": {
  "kernelspec": {
   "display_name": "Python 3",
   "language": "python",
   "name": "python3"
  },
  "language_info": {
   "codemirror_mode": {
    "name": "ipython",
    "version": 3
   },
   "file_extension": ".py",
   "mimetype": "text/x-python",
   "name": "python",
   "nbconvert_exporter": "python",
   "pygments_lexer": "ipython3",
   "version": "3.9.2"
  }
 },
 "nbformat": 4,
 "nbformat_minor": 5
}
