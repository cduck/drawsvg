{
 "cells": [
  {
   "cell_type": "markdown",
   "id": "surrounded-carpet",
   "metadata": {},
   "source": [
    "# 4. Document Structure"
   ]
  },
  {
   "cell_type": "code",
   "execution_count": 1,
   "id": "bacterial-geology",
   "metadata": {},
   "outputs": [],
   "source": [
    "import drawSvg as dw"
   ]
  },
  {
   "cell_type": "markdown",
   "id": "played-missouri",
   "metadata": {},
   "source": [
    "## 4.1. Structure and Presentation"
   ]
  },
  {
   "cell_type": "markdown",
   "id": "proved-improvement",
   "metadata": {},
   "source": [
    "## 4.2 Using Styles with SVG"
   ]
  },
  {
   "cell_type": "markdown",
   "id": "christian-saudi",
   "metadata": {},
   "source": [
    "### 4.2.2 Inline Style Sheets HOWTO??"
   ]
  },
  {
   "cell_type": "code",
   "execution_count": 17,
   "id": "limited-cleaners",
   "metadata": {},
   "outputs": [],
   "source": [
    "d = dw.Drawing(200,100)\n",
    "d.append(dw.DrawingDef(fill='#ffc',stroke='blue',stroke_width=2,stroke_dasharray='5 3'))\n",
    "d.saveSvg('bla.svg')"
   ]
  },
  {
   "cell_type": "markdown",
   "id": "constitutional-plaza",
   "metadata": {},
   "source": [
    "### 4.2.3 External Stylesheets HOWTO??"
   ]
  },
  {
   "cell_type": "code",
   "execution_count": 28,
   "id": "revised-republican",
   "metadata": {},
   "outputs": [
    {
     "ename": "SyntaxError",
     "evalue": "expression cannot contain assignment, perhaps you meant \"==\"? (<ipython-input-28-7078bab58083>, line 2)",
     "output_type": "error",
     "traceback": [
      "\u001b[0;36m  File \u001b[0;32m\"<ipython-input-28-7078bab58083>\"\u001b[0;36m, line \u001b[0;32m2\u001b[0m\n\u001b[0;31m    d.append(dw.Raw(content=None,defs=(stroke='black')))\u001b[0m\n\u001b[0m                                 ^\u001b[0m\n\u001b[0;31mSyntaxError\u001b[0m\u001b[0;31m:\u001b[0m expression cannot contain assignment, perhaps you meant \"==\"?\n"
     ]
    }
   ],
   "source": [
    "d = dw.Drawing(200,200)\n",
    "d.append(dw.Raw(content=None,defs=(stroke='black')))"
   ]
  },
  {
   "cell_type": "markdown",
   "id": "european-partition",
   "metadata": {},
   "source": [
    "## 4.3 Grouping and Referencing Objects"
   ]
  },
  {
   "cell_type": "markdown",
   "id": "human-heath",
   "metadata": {},
   "source": [
    "### 4.3.1 The g Element\n",
    "Any style specified in the g tag will apply to all child elements in the group."
   ]
  },
  {
   "cell_type": "code",
   "execution_count": 46,
   "id": "solid-chess",
   "metadata": {},
   "outputs": [
    {
     "data": {
      "image/svg+xml": [
       "<?xml version=\"1.0\" encoding=\"UTF-8\"?>\n",
       "<svg xmlns=\"http://www.w3.org/2000/svg\" xmlns:xlink=\"http://www.w3.org/1999/xlink\"\n",
       "     width=\"240\" height=\"120\" viewBox=\"0 -120 240 120\">\n",
       "<defs>\n",
       "</defs>\n",
       "<g id=\"house\" fill=\"none\" stroke=\"black\">\n",
       "<rect x=\"6\" y=\"-110\" width=\"60\" height=\"60\" />\n",
       "<path d=\"M6,-50 L36,-9 L66,-50\" />\n",
       "<path d=\"M36,-110 L36,-80 L50,-80 L50,-110\" />\n",
       "</g>\n",
       "<g id=\"man\" fill=\"none\" stroke=\"blue\">\n",
       "<circle cx=\"85\" cy=\"-56\" r=\"10\" />\n",
       "<path d=\"M85,-66 L85,-80\" />\n",
       "<path d=\"M76,-104 L85,-80 L94,-104\" />\n",
       "<path d=\"M76,-70 L85,-76 L94,-70\" />\n",
       "</g>\n",
       "<g id=\"woman\" fill=\"none\" stroke=\"red\">\n",
       "<circle cx=\"110\" cy=\"-56\" r=\"10\" />\n",
       "<path d=\"M110,-66 L110,-80 L100,-90 L120,-90 L110,-80\" />\n",
       "<path d=\"M104,-104 L108,-90\" />\n",
       "<path d=\"M112,-90 L116,-104\" />\n",
       "<path d=\"M101,-70 L110,-76 L119,-70\" />\n",
       "</g>\n",
       "</svg>"
      ],
      "text/plain": [
       "<drawSvg.drawing.Drawing at 0x7f573e468ac0>"
      ]
     },
     "execution_count": 46,
     "metadata": {},
     "output_type": "execute_result"
    }
   ],
   "source": [
    "d = dw.Drawing(240,120)\n",
    "\n",
    "g_house = dw.Group(id='house',fill='none',stroke='black')\n",
    "g_house.append(dw.Rectangle(6,50,60,60))\n",
    "g_house.append(dw.Lines(6,50,36,9,66,50))\n",
    "g_house.append(dw.Lines(36,110,36,80,50,80,50,110))\n",
    "d.append(g_house)\n",
    "\n",
    "g_man = dw.Group(id='man',fill='none',stroke='blue')\n",
    "g_man.append(dw.Circle(85,56,10))\n",
    "g_man.append(dw.Line(85,66,85,80))\n",
    "g_man.append(dw.Lines(76,104,85,80,94,104))\n",
    "g_man.append(dw.Lines(76,70,85,76,94,70))\n",
    "d.append(g_man)\n",
    "\n",
    "g_woman = dw.Group(id='woman',fill='none',stroke='red')\n",
    "g_woman.append(dw.Circle(110,56,10))\n",
    "g_woman.append(dw.Lines(110,66, 110,80, 100,90, 120,90, 110,80))\n",
    "g_woman.append(dw.Line(104,104,108,90))\n",
    "g_woman.append(dw.Line(112,90,116,104))\n",
    "g_woman.append(dw.Lines(101,70, 110,76, 119,70))\n",
    "d.append(g_woman)\n",
    "\n",
    "d"
   ]
  },
  {
   "cell_type": "markdown",
   "id": "diagnostic-pilot",
   "metadata": {},
   "source": [
    "### 4.3.2 The use Element"
   ]
  },
  {
   "cell_type": "code",
   "execution_count": 4,
   "id": "natural-milan",
   "metadata": {},
   "outputs": [
    {
     "data": {
      "image/svg+xml": [
       "<?xml version=\"1.0\" encoding=\"UTF-8\"?>\n",
       "<svg xmlns=\"http://www.w3.org/2000/svg\" xmlns:xlink=\"http://www.w3.org/1999/xlink\"\n",
       "     width=\"240\" height=\"120\" viewBox=\"0 -120 240 120\">\n",
       "<defs>\n",
       "</defs>\n",
       "<g id=\"house\" fill=\"none\" stroke=\"black\">\n",
       "<rect x=\"6\" y=\"-110\" width=\"60\" height=\"60\" />\n",
       "<path d=\"M6,-50 L36,-9 L66,-50\" />\n",
       "<path d=\"M36,-110 L36,-80 L50,-80 L50,-110\" />\n",
       "</g>\n",
       "<use xlink:href=\"#house\" x=\"100\" y=\"-50\" />\n",
       "<use xlink:href=\"#house\" x=\"150\" y=\"-20\" />\n",
       "</svg>"
      ],
      "text/plain": [
       "<drawSvg.drawing.Drawing at 0x7f754c0fb970>"
      ]
     },
     "execution_count": 4,
     "metadata": {},
     "output_type": "execute_result"
    }
   ],
   "source": [
    "d = dw.Drawing(240,120)\n",
    "\n",
    "g_house = dw.Group(id='house',fill='none',stroke='black')\n",
    "g_house.append(dw.Rectangle(6,50,60,60))\n",
    "g_house.append(dw.Lines(6,50,36,9,66,50))\n",
    "g_house.append(dw.Lines(36,110,36,80,50,80,50,110))\n",
    "d.append(g_house)\n",
    "\n",
    "d.append(dw.Use('house',100,50))\n",
    "d.append(dw.Use('house',150,20))\n",
    "d"
   ]
  },
  {
   "cell_type": "markdown",
   "id": "better-sleep",
   "metadata": {},
   "source": [
    "### 4.3.3 The defs Element  HOWTO??\n",
    "see [https://github.com/cduck/drawSvg/issues/46](https://github.com/cduck/drawSvg/issues/46)"
   ]
  },
  {
   "cell_type": "code",
   "execution_count": 18,
   "id": "intensive-sending",
   "metadata": {},
   "outputs": [
    {
     "data": {
      "text/plain": [
       "drawSvg.defs.DrawingDef"
      ]
     },
     "execution_count": 18,
     "metadata": {},
     "output_type": "execute_result"
    }
   ],
   "source": [
    "dw.DrawingDef"
   ]
  },
  {
   "cell_type": "markdown",
   "id": "brown-necessity",
   "metadata": {},
   "source": [
    "### 4.3.4 The symbol Element NOT IMPLEMENTED??"
   ]
  },
  {
   "cell_type": "markdown",
   "id": "serial-makeup",
   "metadata": {},
   "source": [
    "### 4.3.5 The image Element"
   ]
  },
  {
   "cell_type": "code",
   "execution_count": 20,
   "id": "boring-bahamas",
   "metadata": {},
   "outputs": [
    {
     "data": {
      "image/svg+xml": [
       "<?xml version=\"1.0\" encoding=\"UTF-8\"?>\n",
       "<svg xmlns=\"http://www.w3.org/2000/svg\" xmlns:xlink=\"http://www.w3.org/1999/xlink\"\n",
       "     width=\"200\" height=\"200\" viewBox=\"0 -200 200 200\">\n",
       "<defs>\n",
       "</defs>\n",
       "<image x=\"0\" y=\"-200\" width=\"200\" height=\"200\" xlink:href=\"../example1.png\" />\n",
       "</svg>"
      ],
      "text/plain": [
       "<drawSvg.drawing.Drawing at 0x7f754af416a0>"
      ]
     },
     "execution_count": 20,
     "metadata": {},
     "output_type": "execute_result"
    }
   ],
   "source": [
    "d = dw.Drawing(200,200)\n",
    "d.append(dw.Image(0,0,200,200,'../example1.png'))\n",
    "d"
   ]
  },
  {
   "cell_type": "code",
   "execution_count": null,
   "id": "excited-ground",
   "metadata": {},
   "outputs": [],
   "source": []
  }
 ],
 "metadata": {
  "kernelspec": {
   "display_name": "Python 3",
   "language": "python",
   "name": "python3"
  },
  "language_info": {
   "codemirror_mode": {
    "name": "ipython",
    "version": 3
   },
   "file_extension": ".py",
   "mimetype": "text/x-python",
   "name": "python",
   "nbconvert_exporter": "python",
   "pygments_lexer": "ipython3",
   "version": "3.9.2"
  }
 },
 "nbformat": 4,
 "nbformat_minor": 5
}
