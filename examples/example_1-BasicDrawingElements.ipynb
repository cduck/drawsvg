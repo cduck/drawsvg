{
 "cells": [
  {
   "cell_type": "code",
   "execution_count": 1,
   "id": "essential-smile",
   "metadata": {},
   "outputs": [
    {
     "data": {
      "text/html": [
       "<img src=\"data:image/svg+xml;base64,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\">"
      ],
      "text/plain": [
       "<drawSvg.drawing.Drawing at 0x7f588c6696a0>"
      ]
     },
     "execution_count": 1,
     "metadata": {},
     "output_type": "execute_result"
    }
   ],
   "source": [
    "import drawSvg as draw\n",
    "\n",
    "d = draw.Drawing(200, 100, origin='center', displayInline=False)\n",
    "\n",
    "# Draw an irregular polygon\n",
    "d.append(draw.Lines(-80, -45,\n",
    "                    70, -49,\n",
    "                    95, 49,\n",
    "                    -90, 40,\n",
    "                    close=False,\n",
    "            fill='#eeee00',\n",
    "            stroke='black'))\n",
    "\n",
    "# Draw a rectangle\n",
    "r = draw.Rectangle(-80,0,40,50, fill='#1248ff')\n",
    "r.appendTitle(\"Our first rectangle\")  # Add a tooltip\n",
    "d.append(r)\n",
    "\n",
    "# Draw a circle\n",
    "d.append(draw.Circle(-40, -10, 30,\n",
    "            fill='red', stroke_width=2, stroke='black'))\n",
    "\n",
    "# Draw an arbitrary path (a triangle in this case)\n",
    "p = draw.Path(stroke_width=2, stroke='lime',\n",
    "              fill='black', fill_opacity=0.2)\n",
    "p.M(-10, 20)  # Start path at point (-10, 20)\n",
    "p.C(30, -10, 30, 50, 70, 20)  # Draw a curve to (70, 20)\n",
    "d.append(p)\n",
    "\n",
    "# Draw text\n",
    "d.append(draw.Text('Basic text', 8, -10, 35, fill='blue'))  # Text with font size 8\n",
    "d.append(draw.Text('Path text', 8, path=p, text_anchor='start', valign='middle'))\n",
    "d.append(draw.Text(['Multi-line', 'text'], 8, path=p, text_anchor='end'))\n",
    "\n",
    "# Draw multiple circular arcs\n",
    "d.append(draw.ArcLine(60,-20,20,60,270,\n",
    "            stroke='red', stroke_width=5, fill='red', fill_opacity=0.2))\n",
    "d.append(draw.Arc(60,-20,20,60,270,cw=False,\n",
    "            stroke='green', stroke_width=3, fill='none'))\n",
    "d.append(draw.Arc(60,-20,20,270,60,cw=True,\n",
    "            stroke='blue', stroke_width=1, fill='black', fill_opacity=0.3))\n",
    "\n",
    "# Draw arrows\n",
    "arrow = draw.Marker(-0.1, -0.5, 0.9, 0.5, scale=4, orient='auto')\n",
    "arrow.append(draw.Lines(-0.1, -0.5, -0.1, 0.5, 0.9, 0, fill='red', close=True))\n",
    "p = draw.Path(stroke='red', stroke_width=2, fill='none',\n",
    "              marker_end=arrow)  # Add an arrow to the end of a path\n",
    "p.M(20, -40).L(20, -27).L(0, -20)  # Chain multiple path operations\n",
    "d.append(p)\n",
    "d.append(draw.Line(30, -20, 0, -10,\n",
    "            stroke='red', stroke_width=2, fill='none',\n",
    "            marker_end=arrow))  # Add an arrow to the end of a line\n",
    "\n",
    "d.setPixelScale(2)  # Set number of pixels per geometry unit\n",
    "#d.setRenderSize(400,200)  # Alternative to setPixelScale\n",
    "d.saveSvg('example.svg')\n",
    "d.savePng('example.png')\n",
    "\n",
    "# Display in Jupyter notebook\n",
    "d.rasterize()  # Display as PNG\n",
    "d  # Display as SVG"
   ]
  },
  {
   "cell_type": "code",
   "execution_count": null,
   "id": "administrative-liverpool",
   "metadata": {},
   "outputs": [],
   "source": []
  }
 ],
 "metadata": {
  "kernelspec": {
   "display_name": "Python 3",
   "language": "python",
   "name": "python3"
  },
  "language_info": {
   "codemirror_mode": {
    "name": "ipython",
    "version": 3
   },
   "file_extension": ".py",
   "mimetype": "text/x-python",
   "name": "python",
   "nbconvert_exporter": "python",
   "pygments_lexer": "ipython3",
   "version": "3.9.2"
  }
 },
 "nbformat": 4,
 "nbformat_minor": 5
}
