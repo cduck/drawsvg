{
 "cells": [
  {
   "cell_type": "code",
   "execution_count": 2,
   "id": "familiar-income",
   "metadata": {},
   "outputs": [
    {
     "data": {
      "image/svg+xml": [
       "<?xml version=\"1.0\" encoding=\"UTF-8\"?>\n",
       "<svg xmlns=\"http://www.w3.org/2000/svg\" xmlns:xlink=\"http://www.w3.org/1999/xlink\"\n",
       "     width=\"99.17355371900827\" height=\"300\" viewBox=\"-1 -5.0 2 6.05\">\n",
       "<defs>\n",
       "</defs>\n",
       "<rect x=\"-2\" y=\"-6\" width=\"4\" height=\"8\" fill=\"white\" />\n",
       "<rect x=\"-1\" y=\"1.0\" width=\"2\" height=\"0.05\" fill=\"brown\" />\n",
       "<circle cx=\"0\" cy=\"-3.96\" r=\"1\" fill=\"lime\" />\n",
       "</svg>"
      ],
      "text/plain": [
       "<drawSvg.drawing.Drawing at 0x7f7b45876550>"
      ]
     },
     "metadata": {},
     "output_type": "display_data"
    }
   ],
   "source": [
    "import drawSvg as draw\n",
    "\n",
    "# Draw a frame of the animation\n",
    "def draw_frame(t):\n",
    "    d = draw.Drawing(2, 6.05, origin=(-1,-1.05))\n",
    "    d.setRenderSize(h=300)\n",
    "    d.append(draw.Rectangle(-2, -2, 4, 8, fill='white'))\n",
    "    d.append(draw.Rectangle(-1, -1.05, 2, 0.05, fill='brown'))\n",
    "    t = (t + 1) % 2 - 1\n",
    "    y = 4 - t**2 * 4\n",
    "    d.append(draw.Circle(0, y, 1, fill='lime'))\n",
    "    return d\n",
    "\n",
    "with draw.animate_jupyter(draw_frame, delay=0.05) as anim:\n",
    "# Or:\n",
    "#with draw.animate_video('example6.gif', draw_frame, duration=0.05\n",
    "#                       ) as anim:\n",
    "    # Add each frame to the animation\n",
    "    for i in range(20):\n",
    "        anim.draw_frame(i/10)\n",
    "    for i in range(20):\n",
    "        anim.draw_frame(i/10)\n",
    "    for i in range(20):\n",
    "        anim.draw_frame(i/10)"
   ]
  },
  {
   "cell_type": "code",
   "execution_count": null,
   "id": "equal-genius",
   "metadata": {},
   "outputs": [],
   "source": []
  }
 ],
 "metadata": {
  "kernelspec": {
   "display_name": "Python 3",
   "language": "python",
   "name": "python3"
  },
  "language_info": {
   "codemirror_mode": {
    "name": "ipython",
    "version": 3
   },
   "file_extension": ".py",
   "mimetype": "text/x-python",
   "name": "python",
   "nbconvert_exporter": "python",
   "pygments_lexer": "ipython3",
   "version": "3.9.2"
  }
 },
 "nbformat": 4,
 "nbformat_minor": 5
}
